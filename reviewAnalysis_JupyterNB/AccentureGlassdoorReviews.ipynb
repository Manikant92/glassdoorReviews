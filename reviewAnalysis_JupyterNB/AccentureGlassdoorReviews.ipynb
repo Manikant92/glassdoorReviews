{
 "cells": [
  {
   "cell_type": "code",
   "execution_count": 1,
   "metadata": {
    "collapsed": true
   },
   "outputs": [],
   "source": [
    "import pandas as pd"
   ]
  },
  {
   "cell_type": "code",
   "execution_count": 2,
   "metadata": {
    "collapsed": true
   },
   "outputs": [],
   "source": [
    "filepath = 'C:/glassdoorReviews/'\n"
   ]
  },
  {
   "cell_type": "code",
   "execution_count": 3,
   "metadata": {},
   "outputs": [],
   "source": [
    "df = pd.read_csv(filepath + 'accentureGlassdoorReviews.csv')"
   ]
  },
  {
   "cell_type": "code",
   "execution_count": 4,
   "metadata": {},
   "outputs": [
    {
     "data": {
      "text/html": [
       "<div>\n",
       "<style>\n",
       "    .dataframe thead tr:only-child th {\n",
       "        text-align: right;\n",
       "    }\n",
       "\n",
       "    .dataframe thead th {\n",
       "        text-align: left;\n",
       "    }\n",
       "\n",
       "    .dataframe tbody tr th {\n",
       "        vertical-align: top;\n",
       "    }\n",
       "</style>\n",
       "<table border=\"1\" class=\"dataframe\">\n",
       "  <thead>\n",
       "    <tr style=\"text-align: right;\">\n",
       "      <th></th>\n",
       "      <th>Unnamed: 0</th>\n",
       "      <th>date</th>\n",
       "      <th>reviewNo</th>\n",
       "      <th>employeeType</th>\n",
       "      <th>position</th>\n",
       "      <th>summary</th>\n",
       "      <th>pro</th>\n",
       "      <th>con</th>\n",
       "      <th>advice</th>\n",
       "      <th>overallStar</th>\n",
       "      <th>reviewLink</th>\n",
       "    </tr>\n",
       "  </thead>\n",
       "  <tbody>\n",
       "    <tr>\n",
       "      <th>0</th>\n",
       "      <td>1</td>\n",
       "      <td>15 May 2018</td>\n",
       "      <td>empReview_20603900</td>\n",
       "      <td>Current Employee - Applications Development An...</td>\n",
       "      <td>I have been working at Accenture full-time (Mo...</td>\n",
       "      <td>Almost, the best place to work</td>\n",
       "      <td>Pros and Cons are solely dependent on project ...</td>\n",
       "      <td>1) Not all people who deserves promotion gets ...</td>\n",
       "      <td>If a permanent psychologist is available at th...</td>\n",
       "      <td>5.0</td>\n",
       "      <td>https://www.glassdoor.com/Reviews/Accenture-Re...</td>\n",
       "    </tr>\n",
       "    <tr>\n",
       "      <th>1</th>\n",
       "      <td>2</td>\n",
       "      <td>25 Nov 2015</td>\n",
       "      <td>empReview_8746632</td>\n",
       "      <td>Current Employee - Software Engineering Analyst</td>\n",
       "      <td>I have been working at Accenture full-time (Mo...</td>\n",
       "      <td>Balanced Company</td>\n",
       "      <td>Good CompanyFree TransportTImely Promotion if ...</td>\n",
       "      <td>Stupid merciless/heartless manager who always ...</td>\n",
       "      <td>Please favour all employees not just managers ...</td>\n",
       "      <td>4.0</td>\n",
       "      <td>https://www.glassdoor.com/Reviews/Accenture-Re...</td>\n",
       "    </tr>\n",
       "    <tr>\n",
       "      <th>2</th>\n",
       "      <td>3</td>\n",
       "      <td>15 May 2018</td>\n",
       "      <td>empReview_20587606</td>\n",
       "      <td>Former Employee - Senior Associate</td>\n",
       "      <td>I worked at Accenture full-time (More than a y...</td>\n",
       "      <td>Work environment</td>\n",
       "      <td>All the people are very helping.</td>\n",
       "      <td>All is good no cons.</td>\n",
       "      <td>Nothibg</td>\n",
       "      <td>5.0</td>\n",
       "      <td>https://www.glassdoor.com/Reviews/Accenture-Re...</td>\n",
       "    </tr>\n",
       "    <tr>\n",
       "      <th>3</th>\n",
       "      <td>4</td>\n",
       "      <td>15 May 2018</td>\n",
       "      <td>empReview_20587923</td>\n",
       "      <td>Current Employee - Applications Developer</td>\n",
       "      <td>I have been working at Accenture full-time (Mo...</td>\n",
       "      <td>Fusion middleware developer. : technologies li...</td>\n",
       "      <td>Great Environment, Good projects. Good management</td>\n",
       "      <td>Not really any cons. it is best to work here .</td>\n",
       "      <td>Very flexible and good keep it up</td>\n",
       "      <td>5.0</td>\n",
       "      <td>https://www.glassdoor.com/Reviews/Accenture-Re...</td>\n",
       "    </tr>\n",
       "    <tr>\n",
       "      <th>4</th>\n",
       "      <td>5</td>\n",
       "      <td>15 May 2018</td>\n",
       "      <td>empReview_20591406</td>\n",
       "      <td>Former Employee - Associate Software Engineer</td>\n",
       "      <td>I worked at Accenture full-time (More than a y...</td>\n",
       "      <td>Work depends on the Project</td>\n",
       "      <td>1.Infrastructure2.Health Environment3.Good cli...</td>\n",
       "      <td>1.Fresher Dont have rights to choose the strea...</td>\n",
       "      <td>HR should have frequent meeting with their tea...</td>\n",
       "      <td>4.0</td>\n",
       "      <td>https://www.glassdoor.com/Reviews/Accenture-Re...</td>\n",
       "    </tr>\n",
       "  </tbody>\n",
       "</table>\n",
       "</div>"
      ],
      "text/plain": [
       "   Unnamed: 0          date            reviewNo  \\\n",
       "0           1   15 May 2018  empReview_20603900   \n",
       "1           2   25 Nov 2015   empReview_8746632   \n",
       "2           3   15 May 2018  empReview_20587606   \n",
       "3           4   15 May 2018  empReview_20587923   \n",
       "4           5   15 May 2018  empReview_20591406   \n",
       "\n",
       "                                        employeeType  \\\n",
       "0  Current Employee - Applications Development An...   \n",
       "1    Current Employee - Software Engineering Analyst   \n",
       "2                 Former Employee - Senior Associate   \n",
       "3          Current Employee - Applications Developer   \n",
       "4      Former Employee - Associate Software Engineer   \n",
       "\n",
       "                                            position  \\\n",
       "0  I have been working at Accenture full-time (Mo...   \n",
       "1  I have been working at Accenture full-time (Mo...   \n",
       "2  I worked at Accenture full-time (More than a y...   \n",
       "3  I have been working at Accenture full-time (Mo...   \n",
       "4  I worked at Accenture full-time (More than a y...   \n",
       "\n",
       "                                             summary  \\\n",
       "0                     Almost, the best place to work   \n",
       "1                                   Balanced Company   \n",
       "2                                   Work environment   \n",
       "3  Fusion middleware developer. : technologies li...   \n",
       "4                        Work depends on the Project   \n",
       "\n",
       "                                                 pro  \\\n",
       "0  Pros and Cons are solely dependent on project ...   \n",
       "1  Good CompanyFree TransportTImely Promotion if ...   \n",
       "2                   All the people are very helping.   \n",
       "3  Great Environment, Good projects. Good management   \n",
       "4  1.Infrastructure2.Health Environment3.Good cli...   \n",
       "\n",
       "                                                 con  \\\n",
       "0  1) Not all people who deserves promotion gets ...   \n",
       "1  Stupid merciless/heartless manager who always ...   \n",
       "2                               All is good no cons.   \n",
       "3     Not really any cons. it is best to work here .   \n",
       "4  1.Fresher Dont have rights to choose the strea...   \n",
       "\n",
       "                                              advice  overallStar  \\\n",
       "0  If a permanent psychologist is available at th...          5.0   \n",
       "1  Please favour all employees not just managers ...          4.0   \n",
       "2                                            Nothibg          5.0   \n",
       "3                  Very flexible and good keep it up          5.0   \n",
       "4  HR should have frequent meeting with their tea...          4.0   \n",
       "\n",
       "                                          reviewLink  \n",
       "0  https://www.glassdoor.com/Reviews/Accenture-Re...  \n",
       "1  https://www.glassdoor.com/Reviews/Accenture-Re...  \n",
       "2  https://www.glassdoor.com/Reviews/Accenture-Re...  \n",
       "3  https://www.glassdoor.com/Reviews/Accenture-Re...  \n",
       "4  https://www.glassdoor.com/Reviews/Accenture-Re...  "
      ]
     },
     "execution_count": 4,
     "metadata": {},
     "output_type": "execute_result"
    }
   ],
   "source": [
    "df.head()"
   ]
  },
  {
   "cell_type": "code",
   "execution_count": 5,
   "metadata": {},
   "outputs": [
    {
     "data": {
      "text/html": [
       "<div>\n",
       "<style>\n",
       "    .dataframe thead tr:only-child th {\n",
       "        text-align: right;\n",
       "    }\n",
       "\n",
       "    .dataframe thead th {\n",
       "        text-align: left;\n",
       "    }\n",
       "\n",
       "    .dataframe tbody tr th {\n",
       "        vertical-align: top;\n",
       "    }\n",
       "</style>\n",
       "<table border=\"1\" class=\"dataframe\">\n",
       "  <thead>\n",
       "    <tr style=\"text-align: right;\">\n",
       "      <th></th>\n",
       "      <th>Unnamed: 0</th>\n",
       "      <th>date</th>\n",
       "      <th>reviewNo</th>\n",
       "      <th>employeeType</th>\n",
       "      <th>position</th>\n",
       "      <th>summary</th>\n",
       "      <th>pro</th>\n",
       "      <th>con</th>\n",
       "      <th>advice</th>\n",
       "      <th>overallStar</th>\n",
       "      <th>reviewLink</th>\n",
       "    </tr>\n",
       "  </thead>\n",
       "  <tbody>\n",
       "    <tr>\n",
       "      <th>985</th>\n",
       "      <td>986</td>\n",
       "      <td>13 Jan 2018</td>\n",
       "      <td>empReview_18715096</td>\n",
       "      <td>Current Employee - Team Lead</td>\n",
       "      <td>I have been working at Accenture full-time (Mo...</td>\n",
       "      <td>Excellent company</td>\n",
       "      <td>Excellent company to work with, good work bala...</td>\n",
       "      <td>Excellent company there are no purticular cons.</td>\n",
       "      <td>Excellent company</td>\n",
       "      <td>5.0</td>\n",
       "      <td>https://www.glassdoor.com/Reviews/Accenture-Re...</td>\n",
       "    </tr>\n",
       "    <tr>\n",
       "      <th>986</th>\n",
       "      <td>987</td>\n",
       "      <td>28 Jan 2018</td>\n",
       "      <td>empReview_18959368</td>\n",
       "      <td>Former Employee - Applications Development Ass...</td>\n",
       "      <td>I worked at Accenture full-time (More than a y...</td>\n",
       "      <td>Bad for Freshers</td>\n",
       "      <td>Good inclusive culture.Awesome workplace and c...</td>\n",
       "      <td>Not good for freshersvery less opportunities t...</td>\n",
       "      <td>None</td>\n",
       "      <td>2.0</td>\n",
       "      <td>https://www.glassdoor.com/Reviews/Accenture-Re...</td>\n",
       "    </tr>\n",
       "    <tr>\n",
       "      <th>987</th>\n",
       "      <td>988</td>\n",
       "      <td>13 Jan 2018</td>\n",
       "      <td>empReview_18715243</td>\n",
       "      <td>Current Employee - Senior Software Engineer</td>\n",
       "      <td>I have been working at Accenture full-time (Le...</td>\n",
       "      <td>Good place to work</td>\n",
       "      <td>Big organization so you get a lot of projects.</td>\n",
       "      <td>Depend upon projects assigned to you.</td>\n",
       "      <td>You are doing good job</td>\n",
       "      <td>4.0</td>\n",
       "      <td>https://www.glassdoor.com/Reviews/Accenture-Re...</td>\n",
       "    </tr>\n",
       "    <tr>\n",
       "      <th>988</th>\n",
       "      <td>989</td>\n",
       "      <td>13 Jan 2018</td>\n",
       "      <td>empReview_18717957</td>\n",
       "      <td>Current Employee - Associate Manager</td>\n",
       "      <td>I have been working at Accenture full-time (Mo...</td>\n",
       "      <td>Fine company</td>\n",
       "      <td>Good learning opportunitiesFlexibility based o...</td>\n",
       "      <td>Limited opportunities in Mumbai for Oracle App...</td>\n",
       "      <td>Reward the work and contributions and not the ...</td>\n",
       "      <td>4.0</td>\n",
       "      <td>https://www.glassdoor.com/Reviews/Accenture-Re...</td>\n",
       "    </tr>\n",
       "    <tr>\n",
       "      <th>989</th>\n",
       "      <td>990</td>\n",
       "      <td>27 Jan 2018</td>\n",
       "      <td>empReview_18941500</td>\n",
       "      <td>Former Employee - Anonymous Employee</td>\n",
       "      <td>I worked at Accenture full-time (More than a y...</td>\n",
       "      <td>Software Engineer</td>\n",
       "      <td>Good work environment...Good peers....onsite o...</td>\n",
       "      <td>no cons ...just do your best</td>\n",
       "      <td>None</td>\n",
       "      <td>3.0</td>\n",
       "      <td>https://www.glassdoor.com/Reviews/Accenture-Re...</td>\n",
       "    </tr>\n",
       "  </tbody>\n",
       "</table>\n",
       "</div>"
      ],
      "text/plain": [
       "     Unnamed: 0          date            reviewNo  \\\n",
       "985         986   13 Jan 2018  empReview_18715096   \n",
       "986         987   28 Jan 2018  empReview_18959368   \n",
       "987         988   13 Jan 2018  empReview_18715243   \n",
       "988         989   13 Jan 2018  empReview_18717957   \n",
       "989         990   27 Jan 2018  empReview_18941500   \n",
       "\n",
       "                                          employeeType  \\\n",
       "985                       Current Employee - Team Lead   \n",
       "986  Former Employee - Applications Development Ass...   \n",
       "987        Current Employee - Senior Software Engineer   \n",
       "988               Current Employee - Associate Manager   \n",
       "989               Former Employee - Anonymous Employee   \n",
       "\n",
       "                                              position             summary  \\\n",
       "985  I have been working at Accenture full-time (Mo...   Excellent company   \n",
       "986  I worked at Accenture full-time (More than a y...    Bad for Freshers   \n",
       "987  I have been working at Accenture full-time (Le...  Good place to work   \n",
       "988  I have been working at Accenture full-time (Mo...        Fine company   \n",
       "989  I worked at Accenture full-time (More than a y...   Software Engineer   \n",
       "\n",
       "                                                   pro  \\\n",
       "985  Excellent company to work with, good work bala...   \n",
       "986  Good inclusive culture.Awesome workplace and c...   \n",
       "987     Big organization so you get a lot of projects.   \n",
       "988  Good learning opportunitiesFlexibility based o...   \n",
       "989  Good work environment...Good peers....onsite o...   \n",
       "\n",
       "                                                   con  \\\n",
       "985    Excellent company there are no purticular cons.   \n",
       "986  Not good for freshersvery less opportunities t...   \n",
       "987              Depend upon projects assigned to you.   \n",
       "988  Limited opportunities in Mumbai for Oracle App...   \n",
       "989                       no cons ...just do your best   \n",
       "\n",
       "                                                advice  overallStar  \\\n",
       "985                                  Excellent company          5.0   \n",
       "986                                               None          2.0   \n",
       "987                             You are doing good job          4.0   \n",
       "988  Reward the work and contributions and not the ...          4.0   \n",
       "989                                               None          3.0   \n",
       "\n",
       "                                            reviewLink  \n",
       "985  https://www.glassdoor.com/Reviews/Accenture-Re...  \n",
       "986  https://www.glassdoor.com/Reviews/Accenture-Re...  \n",
       "987  https://www.glassdoor.com/Reviews/Accenture-Re...  \n",
       "988  https://www.glassdoor.com/Reviews/Accenture-Re...  \n",
       "989  https://www.glassdoor.com/Reviews/Accenture-Re...  "
      ]
     },
     "execution_count": 5,
     "metadata": {},
     "output_type": "execute_result"
    }
   ],
   "source": [
    "df.tail()"
   ]
  },
  {
   "cell_type": "code",
   "execution_count": 27,
   "metadata": {
    "scrolled": true
   },
   "outputs": [
    {
     "name": "stdout",
     "output_type": "stream",
     "text": [
      "<class 'pandas.core.frame.DataFrame'>\n",
      "RangeIndex: 990 entries, 0 to 989\n",
      "Data columns (total 11 columns):\n",
      "Unnamed: 0      990 non-null int64\n",
      "date            990 non-null object\n",
      "reviewNo        990 non-null object\n",
      "employeeType    990 non-null object\n",
      "position        990 non-null object\n",
      "summary         989 non-null object\n",
      "pro             990 non-null object\n",
      "con             990 non-null object\n",
      "advice          990 non-null object\n",
      "overallStar     990 non-null float64\n",
      "reviewLink      990 non-null object\n",
      "dtypes: float64(1), int64(1), object(9)\n",
      "memory usage: 85.2+ KB\n"
     ]
    }
   ],
   "source": [
    "df.info()"
   ]
  },
  {
   "cell_type": "code",
   "execution_count": 26,
   "metadata": {},
   "outputs": [],
   "source": [
    "df['advice'].fillna('None', inplace=True)"
   ]
  },
  {
   "cell_type": "code",
   "execution_count": 7,
   "metadata": {},
   "outputs": [
    {
     "data": {
      "text/plain": [
       "Unnamed: 0                                                     74\n",
       "date                                                   1 May 2018\n",
       "reviewNo                                       empReview_20394148\n",
       "employeeType              Current Employee - Applications Analyst\n",
       "position        I have been working at Accenture full-time (Mo...\n",
       "summary                                       Application Analyst\n",
       "pro             + Good Company.+ Multiple projects.+ Good expo...\n",
       "con               + Less package+ Less growth+ Minimum appraisals\n",
       "advice                                                       None\n",
       "overallStar                                                     4\n",
       "reviewLink      https://www.glassdoor.com/Reviews/Accenture-Re...\n",
       "Name: 73, dtype: object"
      ]
     },
     "execution_count": 7,
     "metadata": {},
     "output_type": "execute_result"
    }
   ],
   "source": [
    "df.iloc[73]"
   ]
  },
  {
   "cell_type": "code",
   "execution_count": 8,
   "metadata": {
    "collapsed": true
   },
   "outputs": [],
   "source": [
    "import re"
   ]
  },
  {
   "cell_type": "code",
   "execution_count": 38,
   "metadata": {
    "collapsed": true
   },
   "outputs": [],
   "source": [
    "def pre_processing(text):\n",
    "    \n",
    "    #convert all words to smaller case\n",
    "    text = text.lower()\n",
    "    #replace none words\n",
    "    text = text.replace('none', '')\n",
    "    #text = text.replace('na', '')\n",
    "    text = text.replace('nothing','')\n",
    "    text = text.replace('n/a','')\n",
    "    text = text.replace('nil','')\n",
    "    #text = text.replace('no','')\n",
    "    #replace urls if any\n",
    "    text = re.sub(r\"http.?://[^\\s]+[\\s]?\",'', text)\n",
    "    #replace email id's if any\n",
    "    text = re.sub(r\"\\S+@\\S+\",'',text)\n",
    "    #replace numbers and digits with space\n",
    "    text = re.sub('[0-9]','',text)\n",
    "    #replace any single chars with space, ex: a, i, m, u\n",
    "    text = re.sub(r\"\\b[a-z]\\b\",'', text)\n",
    "    \n",
    "    #replace punctuations with spaces\n",
    "    text = text.replace(\"(\",'').replace(\":\",'').replace(\")\",'').replace(\".\",'').replace(\"'\",'').replace(\",\",'').replace('\"','').replace(\"<\",'').replace(\">\",'')\n",
    "    text = text.replace(\",\",'').replace(\":\",'').replace(\"/\",'').replace(\"=\",'').replace(\"&\",'').replace(\";\",'').replace(\"%\",'').replace(\"$\",'').replace(\"%\",'')\n",
    "    text = text.replace(\"@\",'').replace(\"^\",'').replace(\"*\",'').replace(\"{\",'').replace(\"}\",'').replace(\"[\",'').replace(\"]\",'').replace(\"|\",'').replace(\"\\\\\",'')\n",
    "    text = text.replace(\"//\",'').replace(\"-\",'').replace(\"!\",'').replace(\"`\",'').replace(\"~\",'').replace(\"?\",'').replace(\"--\",'').replace(\"---\",'').replace(\"#\",'')\n",
    "    text = text.replace(\"+\",'')\n",
    "    #trail all spaces\n",
    "    text = re.sub( '\\s+', ' ', text).strip()\n",
    "    \n",
    "    return text"
   ]
  },
  {
   "cell_type": "code",
   "execution_count": 39,
   "metadata": {},
   "outputs": [
    {
     "data": {
      "text/plain": [
       "'+ Less package+ Less growth+ Minimum appraisals'"
      ]
     },
     "execution_count": 39,
     "metadata": {},
     "output_type": "execute_result"
    }
   ],
   "source": [
    "df.con[73]"
   ]
  },
  {
   "cell_type": "code",
   "execution_count": 40,
   "metadata": {},
   "outputs": [
    {
     "data": {
      "text/plain": [
       "'less package less growth minimum appraisals'"
      ]
     },
     "execution_count": 40,
     "metadata": {},
     "output_type": "execute_result"
    }
   ],
   "source": [
    "pre_processing(df.con[73])"
   ]
  },
  {
   "cell_type": "code",
   "execution_count": 44,
   "metadata": {},
   "outputs": [],
   "source": [
    "sentences = df['pro'].tolist()\n",
    "pos_sentences = []\n",
    "for sentence in sentences:\n",
    "    processSent = pre_processing(sentence)\n",
    "    pos_sentences.append(processSent)\n"
   ]
  },
  {
   "cell_type": "code",
   "execution_count": 46,
   "metadata": {},
   "outputs": [
    {
     "data": {
      "text/plain": [
       "990"
      ]
     },
     "execution_count": 46,
     "metadata": {},
     "output_type": "execute_result"
    }
   ],
   "source": [
    "len(pos_sentences)"
   ]
  },
  {
   "cell_type": "code",
   "execution_count": 47,
   "metadata": {
    "collapsed": true
   },
   "outputs": [],
   "source": [
    "pos_sentences = [x for x in pos_sentences if x!='']"
   ]
  },
  {
   "cell_type": "code",
   "execution_count": 48,
   "metadata": {},
   "outputs": [
    {
     "data": {
      "text/plain": [
       "990"
      ]
     },
     "execution_count": 48,
     "metadata": {},
     "output_type": "execute_result"
    }
   ],
   "source": [
    "len(pos_sentences)"
   ]
  },
  {
   "cell_type": "code",
   "execution_count": 49,
   "metadata": {
    "collapsed": true
   },
   "outputs": [],
   "source": [
    "sentences = df['con'].tolist()\n",
    "con_sentences = []\n",
    "for sentence in sentences:\n",
    "    processSent = pre_processing(sentence)\n",
    "    con_sentences.append(processSent)"
   ]
  },
  {
   "cell_type": "code",
   "execution_count": 53,
   "metadata": {},
   "outputs": [
    {
     "data": {
      "text/plain": [
       "990"
      ]
     },
     "execution_count": 53,
     "metadata": {},
     "output_type": "execute_result"
    }
   ],
   "source": [
    "len(con_sentences)"
   ]
  },
  {
   "cell_type": "code",
   "execution_count": 52,
   "metadata": {
    "collapsed": true
   },
   "outputs": [],
   "source": [
    "con_sentences = [x for x in con_sentences if x!='']"
   ]
  },
  {
   "cell_type": "code",
   "execution_count": 54,
   "metadata": {},
   "outputs": [],
   "source": [
    "sentences = df['advice'].tolist()\n",
    "adv_sentences = []\n",
    "for sentence in sentences:\n",
    "    processSent = pre_processing(sentence)\n",
    "    adv_sentences.append(processSent)"
   ]
  },
  {
   "cell_type": "code",
   "execution_count": 59,
   "metadata": {},
   "outputs": [
    {
     "data": {
      "text/plain": [
       "465"
      ]
     },
     "execution_count": 59,
     "metadata": {},
     "output_type": "execute_result"
    }
   ],
   "source": [
    "len(adv_sentences)"
   ]
  },
  {
   "cell_type": "code",
   "execution_count": 58,
   "metadata": {},
   "outputs": [],
   "source": [
    "adv_sentences = [x for x in adv_sentences if x!= '']"
   ]
  },
  {
   "cell_type": "code",
   "execution_count": 60,
   "metadata": {},
   "outputs": [
    {
     "name": "stdout",
     "output_type": "stream",
     "text": [
      "['if permanent psychologist is available at the campus with whom employees can discuss about there insecurities then will be good', 'please favour all employees not just managers and tls because low level employees only do the actual work', 'nothibg', 'very flexible and good keep it up', 'hr should have frequent meeting with their teams and address their concern management doesn care about employee', 'give equal opportunity of promotion to new joinees in the project', 'please less pressure', 'pl look into career growth challenges of women employees', 'try to create more positions within the same department', 'mid level management should be improved', 'have check on hr to ensure they play thier role fairly and not under the influence of the project', 'great', 'bring more transparency to the appraisal process', 'improve ability to see through productive workers', 'please provide management role to young indians too', 'tap into new markets employee satisfaction is declining ensure each employee career goals are kept in mind instead of pushing them into unexciting projects all the time', 'keep the good work going', 'monitory benefits if can improved', 'value your senior experienced employees groom them utilise them', 'please take care of the appraisals and reward the employee based on the performance regardless of his no of years in the establishment', 'quite approachable', 'we keep our request in front of them we are happy to take their advice', 'no advice to provide to management', 'cost cutting is not the solution for profit', 'keep it up same', 'make improvement in performance appraisal system', 'management is will give too much pressure for the work to be done and no appreciations no motivation', 'please take care of the appraisals and reward the employee based on the performance regardless of his no of years in the establishment', 'please scrutinize all levels of management and concentrate on performance appraisal equally thoroughly at all levels', 'keep it up', 'could improve the maintenance in work place and provide better cafeteria and breakout area facilities', 'they should learn to recognise talent', 'please empower hr to critically evaluate performance cycletry to understand why high performers are stagnant at same level inspite of good ratingsdont become cost centered services company it will take no wherementor leaders who build successful teams not on managers who will get things done at any cost this will take toll on employee well and it turn would impact organisation as well', 'they don care about anyone advice', 'can work on timings management work completion should be what should be focused on rather than maintaining timings', 'take employee suggestion on priority as they are the people who are working on ground and they know what and how can be done', 'take some interest in what the junior level employees feel in project they are the backbone of the company the working class make sure you satisfy them and address their concerns otherwise people would start leaving take accenture to it former glory', 'management has to revoke the reforms', 'they should address potential candidates', 'they are good', 'to mention they are always helpful', 'respect the core values which made accenture don’ just worry about green excels worry about resources and their aspirations they are also human beings and have their life they are not slaves', 'to say', 'resource allignment and skill set should be handled carefully', 'keep on working like this and you will ruin this company', 'employees need to have more flexibility such as wfh etc', 'do not make commitments that can not be fulfilled', 'mangars are very good except few who come from cheap area with experience of years and can match to companies core value and standard of other managers', 'don keep the non technical persons for technical rolethey just make the life hell for technical people', 'it is too late many good people have left', 'friendly', 'your pulse survey are no good if you are unable to get the ground reality', 'useful for fresher', 'no advice', 'be clear to your employees', 'they should use ase as they are told like backup not labor', 'keep employee more satisfied and focus on upcoming technology', 'am not in that level', 'give good hike', 'could be more employee friendly', 'no there should listen to the ideas of the juniors', 'must chose the managers wisely', 'they have to more honest and transparent to the employee', 'don lie to people', 'more transparent appraisal process', 'to ensure that the proportion of the workload and number of employees is well maintained and not to overlook the caliber of resources under the umbrella of corporate politics', 'transparency is mustplease count talent work', 'listen to the lower grades employees aswell', 'its time to revise payments now please have look', 'if the employees are giving their personal time as well to work then please try to address few of their basic concerns too don take employees for granted every time', 'pay employees according to performance not just based on your budget', 'not applicable', 'please increase the pay standards', 'keep the good work up', 'good organization', 'employees should have the liberty to choose projects based on their skill set', 'working hours should be strictly followed so that work life is balanced', 'please provide opportunities to grow in the fields where passion and talent lies', 'there should be some flexibility to change projects or pick up skills of one choice', 'have efficient managers to avoid losing great resources', 'help people to upgrade listen to employees complaintshrs only take feedbacks from managersconduct communication classes for managers especially in india majority of them don even know to provide pass on the message', 'quick deployment of resources into useful roles should take place', 'to engage with your team to hear their voice creating extra vertical will only help your job easy not the company or project', 'respect and care for your employees', 'need to understand and familiarize with ground realities micromanagement sometimes can be counter productive', 'created new positionsdesignations for technical people', 'be fairand support the staff', 'pay variable amount to the employees for the number of days it was an employee', 'there is still time to improve but not much so act fast', 'to look for human assistance in case of need', 'pay for what employees work for please don exploit the workforce for smaller biscuits', 'more transparent decision making', 'please improve your appraisal or performance improvement program hear out what employee has to say about the appraisal outcome', 'you are rocking', 'all good', 'believe in your employees take care of them', 'keep up the good work', 'take seasoned resource', 'good management', 'leadership should get more involved with the team', 'kindly stop this play of micromanagement and take the team suggestions bit more seriously', 'no', 'improve mindspace accenture facilities', 'keep up the good work', 'please have skip level meetings with employees', 'compensation to be revisited for the existing employees', 'please get life', 'no as such advice till date', 'create regular opportunities for employee to learn new things', 'please don share resources just because you need to allocate the minimum budget and get reward for it as lower level employees its very difficult to handle projects at time and in return heshe is not getting anything out of it you should respect then as they are working so hard to deliver your services to client and please utilize other people who are not working so that it will not be pressure on the people who are working', 'consider personal interest along with the business needs', 'retain your talented employees by giving them the best compensation you are letting many of them go for big companies the staff left behind are not interested in it they just create any system architecture without the valuable resources', 'focus on building good leadership', 'recognize the real team player and do not entertain who are just there to take salary', 'employee satisfaction', 'please stay at accenture only don ruin other companies', 'it will be better if uplines are supportive enough', 'get as many implementation projects with latest product', 'client is not everything', 'no advice', 'give hikes and options to the talented persons but not to scratching batch', 'assist junior level resources with more responsibilities and help in more business level approach', 'lets try and bring in initiatives for work life balance across levels', 'don want to give', 'these are the worst lotsany advice would fall on deaf ears', 'please give some values for technical employee not only those who are chit chat with you nicely', 'to give promotion for tenure staff rather than hiring from outside yearly bonus should be given', 'bring more trendy instruments in talent management and development', 'keep up the good work', 'management is great', 'please don play with employee life be frank and make sure to send offer letter as soon as possible don use games to hold the employee simply by saying selected', 'please make more stringent rules for managers so that they cannot exploit freshers', 'management is cool just have one point to add please let employee switch the project once they are not ready to continue on your project let them grow and learn new things', 'it is important to let employees have fun too much focus on work makes them bored and dullwonderful initiatives on gender diversity inclusion of all etc', 'be more activesupport technical people check who is talking big game and who is actually winning you big gamesrecognize talent skill and hardwork', 'listen and discuss people problem', 'that can think of', 'please give salary hikes based on performance', 'hr policies on bell curve can be improved', 'please improve the efficiency of the pmo teams', 'reward and recognition to everyone', 'manage your key resources well', 'not much to improve expect recruitment process in india', 'be professional the standard of company depends on the leadership from the ceo to department heads to manager and team leader if you are professional then the team under you will inhibit that quality but if you show favouritism expect your team to ignore you and dont be annoyed with them then', 'work life balance should be taken on top priority', 'no advice', 'please have meetings with the lower order associates to get to know the actual issues and the work that is being given instead of working as per the supervisors feedbacks', 'honest unbiased program and project management required', 'good work', 'manager level has to pay attention on the talent than rapport', 'notice period should be less than months', 'they don care no use of any suggestions', 'good', 'derive proper communication', 'could provide better salary for their employees', 'management comes with earplugs here they will nod but no change whatsoever its not what you know its who you know mediocrity is the only vibe which will haunt you everyday', 'please get in touch with people who work for you', 'hr and management should work together and stop giving pip to of the employees becuz have to', 'bring more long term projects', 'have to adjust time for all the things', 'hiring oursiders at higher package gives demotivation to existing employee', 'be professional', 'make working more transparentto know more about accenture’ culture at various offices you can visit us at wrkvibe', 'stop considering all freshers as sheepone of my friends had lot of freelance experience in web development right from college but he was assigned mainframe technology which is practically deadhe was on bench for months and then he left but they didn let him get into projects with skills that he actually had expertise in', 'please appreciaterecognize the hardworking people', 'without nice pay everyone suffers', 'keep politics away', 'specific', 'too much process oriented sometime it is important to do out of the box things in order to achieve something good colleague of mine was denied promotion because he missed to complete training', 'no advice', 'please break the management into multiple where the same manager shared across the different projectsplease do not suffer the employees to over stay for taking the leaves', 'training is not good', 'give chance to new employees to choose their technology', 'mismanagement', 'keep doing the great job that you guys are doing', 'would advice management to take care of their collegues and strictly follow hour policy below tl employees do not have personal life due to working culture have been working for one of the sweden based client and they strictly follow their timing and as per their timing after pm all the gets are locked and after you have only chance to unlock your door otherwise security has to open it nobody allowed to stay in officeplease don make india cheap labour country we are humans please make it policy to stay only hours in office and after that you have to leave the office', 'please keep crucial resources well fed they are what drive your growth not the ones who work on average payscale and add only to the head count and who are easily replacable', 'try to eliminate favoritism', 'be neutral while giving reward this will improve the satisfaction level in the employee and also improve the employee turnover ratio increase job security', 'no comments', 'dont play with someone future', 'kindly get rid of those stagnant managers especially in kolkata treat your employees as humans not resources the work environment in accenture kolkata is very toxic', 'don lock resource to project unnecessarily when no work is present', 'reduce variable pay', 'everything is fine', 'change your training plans for the freshers', 'please consider the candidates skillseteducation background before allocating them into projects', 'keep up the good work', 'please have some safety security and little common sense that employees are doing hour shift not hour shift they are not getting paid for hoursemployees have their own life toonot only work in office and other time to wait for cab and travel', 'break organizational structure and be more resultpassion driven', 'pay more to employees', 'more focus should be on people development', 'keep the good work up', 'come back to earlier hike system if they want to retain good employees', 'in this company the advice of management was so good', 'try retaining talented employees with good compensation and stop covering up the mistakes being done by the leadership team', 'focus on including latest technologies and upskilling the current employess', 'please let people you hired pre era undergo some management training they have no sense of how to manage people or to motivate them in any way also some english speaking courses would help plenty of them managers too especially in mumbai and pune', 'keep the policies to minimum for up bringing of the employees', 'change the hr policy for level change the promotion policy also', 'is getting too complex to navigate', 'medical cab should be provided to all pregnant ladies at the time of need', 'to have better flow of information and improved value of information', 'please increase the compensation and give hikes based on work', 'if employee is willing walk steps move atleast step towards themtry to retain good people by giving them benefitshikes out of cycle rather than hiring new person for more amount than what it wouldve costed you to retain the older one', 'please work on the points mentioned as cons to improve the company image', 'please be more considerate of employee skills', 'if you have policies in place for people just act to them also be more flexible with things like transfer within facilities', 'give value to employee feedback', 'management should do the market standardization to ensure that all are on the same page', 'accenture should try to retain it previous talent by giving good hikes and compensations instead of giving of huge hikes to the lateral hires', 'don let good resources go there are resources who don even work and get awesome hikes on the other hand there are resources who gives effort and gets peanuts only', 'more focus on ncr', 'remove micro management and reward and focus on good performancemanagement wants employee to learn all possible technologies available in the market but with petty salaries implement strict skill based performance as soon as possiblecreate team to overview just performance process city wisestart anonymous reverse feedback from employee to manager as welltake grievance seriously against management otherwise all the good employee will just leave the company', 'create more opportunities in onsites', 'try not to focus much on saving money instead increase the quality to get more money', 'be fair to everyone since everyone works hard and they should get equal opportunities', 'management could be better', 'please work on improving recruitment process in mumbai india they are just putting at stake company’ reputation by practising unprofessional and unacceptable behaviour', 'they can do anything as it has become really big', 'don make accenture culture as that of indian domestic companies', 'respect individuals', 'please help and look after your long time employees do not take for granted', 'more exposure to technical stuffs', 'increase salary', 'no advice to management', 'remove hours shift and months notice and help your employees grow not only you', 'increase work force', 'stop old school of management', 'good management', 'transparency should be there', 'good management good work life balance', 'keep up the good work', 'look at the fun activities for the employees at least try to give goodies once year', 'don take instant decision of firing good peoplemake hr policies clear', 'entry level resources have workloads sometimes stress happens', 'please remove the new performance appraisal system', 'no particular advice great folks and management', 'full of politics to give promotions', 'please improve', 'please consider market correction for loyal employeemake onsite opportunities for transparent', 'set up systems to get unfiltered information from grass root level', 'best managment', 'don get biased during appraisal time', 'you should increase salary as per contribution not on regular scale basis', 'doing great', 'keep it up', 'don’ want to give any advice as they are not going to change', 'stop recruiting people like cattles', 'keep doing good work', 'the company should allow its employees to take up subjects or technologies of their interest or evaluate the candidates before assigning particular stream to candidate', 'more trainings on new technologies', 'no such advice', 'monitor hr department', 'good to join for experianced', 'give extra hope on employees', 'please conduct the interviews even those are from operations back ground also', 'start taking inputs from your employees make the process more transparent', 'introduce new technical skills', 'performance of senior resources can be validated in effective way', 'should have employee friendly polices with ch will give support to improve work relation ship', 'treat every employee as an integral part of your growth', 'policies should be employee friendly and not always profit oriented', 'pay more', 'very good management', 'increase the hike of employees so that they dont switch to another organization', 'keep rocking', 'provide long term onsite opportunities', 'well they are already doing great job let them continue doing it', 'strike balance between employee and management', 'they should work on simplifying various ithrhelpdesk processesthere are too many portals to get things done which is difficult to remember they should try to integrate everything in one placeportal', 'accenture name stands for best managements', 'your ijp program and recruitment process is infected with bugs please visit and address those or you are going to loose precious manpower though only if you care', 'good management', 'quick feedback loop not quick anymore fail fast', 'as you are the mess creators giving any advice is not going to help just by having gptw does not make accenture great place please work on your morals first', 'no advice', 'hire better att mid level adopt up out or form of it', 'no advice needed company is the best except few crappy people', 'they are doing well can point out anything', 'be fair be reasonable think about your own resources first before satisfying every wish of the client', 'buttery management', 'don make politics', 'no advice', 'try to build technical expertise in employees', 'if you want high performance delivered why fire male employees who can provide that and keep female employees who can just to show the world that accenture is supporting women empowermentwhat is this statement by there will be male and female employees shouldn this be the weak will be kicked and the strong will prevail', 'as such', 'no points to say for management', 'ethics and compliance are on book only and not in practice please look whether they are really implemented on ground', 'can change the employer rewarding process', 'pls see at the ground level what is happening creating so many new policies does not have affect until followed at the ground level', 'talk to individual teams via mails', 'no', 'can pay more', 'change your leadership they are the ones stopping accenture from prospering your posh is only for girls you are going in the right direction and after yrs from now infosys will not think twice to acquire you and won repeat the mistake of not acquiring you this time', '• stop internal politics• think about resources• think why many people are leaving accenture and understand how to retain them', 'keep up the good work', 'management is goodbut always need to improvment', 'extend training period', 'reward and recognise dedicated and high performers', 'continue to keep the momentum', 'empower people to make decisionsstrategic planning should focus on solutionsembrace self interestforget about skills when hiring', 'things are well defined but if not followed it is very disastrous for well being of people or organization', 'simplify reporting', 'not applicable', 'start keeping track of middle management as they are spoiling the brand name doing things as they please', 'give location which is asked', 'cheers', 'thank you all for your support', 'increase salary for freshers', 'those who suffer from health issues hr should understand their concerns and try to find way better for the organisation and the employee as welldont make your employees feel that they are underpaid even if they are working like slaves', 'if need employee for this location then only hire employee other wise please dont hire after hiring dont pressure them', 'na', 'better onsite opportunitiesgood work life balance', 'management also not bad', 'keep employees more involved in knowing what is going to happen', 'taking good care of employees', 'keep continuing the good work', 'assign people according to their interst', 'management is only concerned with the numbers should be attached to ground reality', 'if the resources are working for companyproject then management should think about employees as well in some cases money is not everything learning and job satisfaction should be taken into consideration', 'please treat all the employer equally irrespective to their educational background', 'need to improve pay scales', 'please identify the resources ability and provide opportunities to work on their passionate domain', 'more transparent', 'please improvise transport system', 'nothin', 'keep it up', 'stop exploitation of the employee', 'try to help employees increase productivity by giving them technology of their choice', 'identify the talent of the employers', 'rewards and appreciate resource according to their work and contribution for project not to the person you like due to his state community', 'shuffle the floor team leaders', 'improve pip process stop forcing people to resign', 'preferences of the employees should be taken into consideration so that the skills of the employee can be put to its best use have often seen employees of one skill set working on some other technology which simply means the training which is initially provided during the joining is of no use', 'good to have such management and there to give any advice but currently whoever managing looks something wrong with them', 'reduce notice period to or months', 'pay more', 'take reviews from subordinates for their lead', 'need to improve work life balace and also management', 'consider employee interest before dragging them into any project', 'reduce work hours and please value your employees make the performance reviews more transparent', 'to advice management they have qualified professionals', 'management should be more engaged with the associates', 'be peoples company', 'it grt', 'work life balance is missing without any recognition', 'heavy pressure have been with accenture for more than years here in chennai in healthcare process have absorb that all the teams members who is in healthcare process feeling heavy pressure from the management team interms production what they fix targets are more than the client requirements and its hours work in complete nite shift very difficult but most of them due to family suchivation they are been forced to work because they don have another option', 'payment as per market standards', 'accenture has reputation of one of the best places for employees please dont ruin it', 'provide good salary to the employees as per the marketcreate an environment to work for only stipulated working hours say to provide benefits to the employees to motivate them to work better', 'should have more flexibilities for employees to choose the type of work based on person strengths and weakness', 'please don be harsh on newcomers', 'keep on the good work', 'good management', 'should be more interactive with resources', 'hr team should be interactive more', 'the new performance system is old product in new package the pain of force fitting bottom grade is still there if you can really change this then no better company than accenture', 'dont give false commitment help to employee', 'use sabattical wisely dont discard it completely people are attached to the companies and culture but requires change', 'keep it up good work', 'all good with this company', 'doing good job improvements are required during the performance appraisal system', 'focus more on employees interest instead of pulling their carrers down', 'don think they will ever consider this', 'stop bringing in stringent rules in the name of budget', 'think more about technologies', 'yearly hike should be more', 'they hire people based on their communication this has to be changed', 'if an employee is giving hisher best then think about his growth as well not only about cost cutting', 'give little more space to employees that in return helps organisation', 'try to improve on the internal strategies which could bring benefits to the employees', 'please always look forward to all the project leads and managers that what are they doing means they are giving the right compensation to the liable employee or not also discuss with employees too that they are happy or not', 'special', 'hire best product so that don have to fire based on person rating', 'try to keep transparency with lower level employees', 'please rate employee based on their true performance', 'cost cutting is fine but employee happiness should be primary focus', 'needs better management and improved salary for lower career levels', 'less working hour and more employee centric goals', 'please do not try to change the work culture which existed for years', 'management need empower the employees and should not treat them as slaves skip level meetings are rare they need to work on that processes are over burden for employees no proper management guidelines seniordelivery managers are made god final authority', 'please send me jobs related video conference', 'learn management', 'structure skills according to educational backgroundtransparency in management needed', 'management will never listen to the advises its against their policies', 'keep it up', 'read my cons and provide solution in future', 'please educate leads and manager on new appraisal policyperformance achievement', 'increase the facilities provided for employee', 'health benefits to be increased for lower level employees', 'encourage freshers in learning', 'people are assets not liabilities unnecessary work pressure will only degrade the work life balance', 'hire skill person in which he is good at like programmming or sql dont throw that person to do different things which heshe doesnt like', 'make sure to put up system where even employees can review their managers', 'keep up the great work', 'keep up the good work', 'they should value the talent than creating own lobby and playing politics in name of moderation and talent discussion if this continue difficult to find growth in future most of the management people here are unemployable elsewhere', 'if you dont have enough projects to accomodate stop recruiting people on bulk and stop harrassing them', 'please don hire employees if you don have enough requirement', 'do not put much stress on employee', 'web apps including publishing and maintenance', 'na', 'dear managementyour speeches at town halls are too boring people attend because they are forced to do so by their managers', 'notice period should not more than month', 'thinking about the betterment of the employee work force at operations level', 'please hire only if you can allocate people in projects', 'should increase the hike percentage for employees', 'keep revamping your leaders too', 'please change the process of moderation', 'must be good system', 'corrupted corporate environment can advice to you guys else will be at stack and already you guys playing with lot of lives and careers internal by hiring useless and worthless people', 'don blindly believe managers always', 'should have focus on meeting worklife balance as well upper management should speak for the good of there employees', 'management us gud', 'requires fair policy at higher level', 'please consider the cost of leaving and try to give minimum salaries for freshers because there is difference between salary and wages', 'stop politics', 'accenture policies are available for reason make sure that they are followed even at the lowest level', 'kindly maintain salary equivalence to prevent employee dissatisfaction', 'hr are worst over hereno update is given on time to the resources', 'try to have good quality projects', 'treat employees like humans', 'do not cut short the bus routes', 'please treat the associateanalystsnew associate properly the employee who get close to the manager are apprised quickly please treat all employees equal', 'recommended', 'be more friendly', 'don implement processes when you have not studies it thoroughly as you end up in tweaking it to large extent after implementing to accounts which puts projects in trouble and then end up in manipulating which is not good for company as well as employees', 'let the best grow like the best', 'close to monitor and don rely on the managers', 'get suvery among employees about the managers biased politics', 'they are morons and best politicians available in india', 'keep up the good work keep rocking', 'please concentrate more on resources needs and dont make them work on documentations', 'listen to employees', 'change your approach towards performance process', 'management should provide better work to employees their future depends on their present company', 'be more transparent to employee', 'go ahead as of now you are proceeding', 'keep it up', 'long term investment for client delivery', 'check with employee also to which work or skill he is interested in as fresher joinee', 'try to maintain the normalization across the company', 'not required', 'they should get the leadership which we can look forward to work', 'office timings should be lesscasual attire should be adopted', 'try and improve competitiveness of salaries', 'take care of your employees', 'please hire iim grads if you need some difficult work done', 'take care for the growth of individuals who have higher experiences', 'please make pip more transparent and try to understand the main reason behind it only performance can be the reason everytime politcs is also ine of the main reason', 'if you work on the cons part stated above there is in this world that can stop accenture from becoming the best employer in all aspects', 'consider people who you selected through any off campus drives or else you could select only the needy amount of people or else send the regret mail asap so that they can look for other job opportunity', 'keep the people in there desire or skilled projects rather than killing people skill just for some project there should be consideration to skill', 'performance achievement is farce you have just given more power to sm to vent their frustrationgrudges on the people they dont like and shower money on those in the good books', 'take care of your employees or they start running', 'need to improve on work life balance', 'keep up the good work', 'awesome keep up the good work', 'please be friendly with all', 'dont make level relocate to other towns if not willing toeducate your hrs all over that there is position called level scrap exam policy for level promotion anyways we are giving more than level allow training on itp classroom trainingallow bench to bench transfer', 'align the talents with expected work', 'excellent company', 'you are doing good job', 'reward the work and contributions and not the perception']\n"
     ]
    }
   ],
   "source": [
    "print(adv_sentences)"
   ]
  },
  {
   "cell_type": "code",
   "execution_count": 61,
   "metadata": {
    "collapsed": true
   },
   "outputs": [],
   "source": [
    "from nltk.tokenize import word_tokenize"
   ]
  },
  {
   "cell_type": "code",
   "execution_count": 62,
   "metadata": {
    "collapsed": true
   },
   "outputs": [],
   "source": [
    "pos_words = []\n",
    "\n",
    "for sentence in pos_sentences:\n",
    "    tokens = word_tokenize(sentence)\n",
    "    pos_words.append(tokens)"
   ]
  },
  {
   "cell_type": "code",
   "execution_count": 65,
   "metadata": {},
   "outputs": [],
   "source": [
    "pos_words = [sl for li in pos_words for sl in li]"
   ]
  },
  {
   "cell_type": "code",
   "execution_count": 67,
   "metadata": {},
   "outputs": [
    {
     "data": {
      "text/plain": [
       "11432"
      ]
     },
     "execution_count": 67,
     "metadata": {},
     "output_type": "execute_result"
    }
   ],
   "source": [
    "len(pos_words)"
   ]
  },
  {
   "cell_type": "code",
   "execution_count": 68,
   "metadata": {
    "collapsed": true
   },
   "outputs": [],
   "source": [
    "con_words = []\n",
    "\n",
    "for sentence in con_sentences:\n",
    "    tokens = word_tokenize(sentence)\n",
    "    con_words.append(tokens)"
   ]
  },
  {
   "cell_type": "code",
   "execution_count": 69,
   "metadata": {
    "collapsed": true
   },
   "outputs": [],
   "source": [
    "con_words = [sl for li in con_words for sl in li]"
   ]
  },
  {
   "cell_type": "code",
   "execution_count": 71,
   "metadata": {},
   "outputs": [
    {
     "data": {
      "text/plain": [
       "13935"
      ]
     },
     "execution_count": 71,
     "metadata": {},
     "output_type": "execute_result"
    }
   ],
   "source": [
    "len(con_words)"
   ]
  },
  {
   "cell_type": "code",
   "execution_count": 72,
   "metadata": {
    "collapsed": true
   },
   "outputs": [],
   "source": [
    "adv_words = []\n",
    "\n",
    "for sentence in adv_sentences:\n",
    "    tokens = word_tokenize(sentence)\n",
    "    adv_words.append(tokens)"
   ]
  },
  {
   "cell_type": "code",
   "execution_count": 73,
   "metadata": {
    "collapsed": true
   },
   "outputs": [],
   "source": [
    "adv_words = [sl for li in adv_words for sl in li]"
   ]
  },
  {
   "cell_type": "code",
   "execution_count": 75,
   "metadata": {},
   "outputs": [
    {
     "data": {
      "text/plain": [
       "5397"
      ]
     },
     "execution_count": 75,
     "metadata": {},
     "output_type": "execute_result"
    }
   ],
   "source": [
    "len(adv_words)"
   ]
  },
  {
   "cell_type": "code",
   "execution_count": 76,
   "metadata": {
    "collapsed": true
   },
   "outputs": [],
   "source": [
    "from nltk.corpus import stopwords"
   ]
  },
  {
   "cell_type": "code",
   "execution_count": 78,
   "metadata": {},
   "outputs": [],
   "source": [
    "stopwords = stopwords.words('english')"
   ]
  },
  {
   "cell_type": "code",
   "execution_count": 79,
   "metadata": {},
   "outputs": [
    {
     "name": "stdout",
     "output_type": "stream",
     "text": [
      "['i', 'me', 'my', 'myself', 'we', 'our', 'ours', 'ourselves', 'you', \"you're\", \"you've\", \"you'll\", \"you'd\", 'your', 'yours', 'yourself', 'yourselves', 'he', 'him', 'his', 'himself', 'she', \"she's\", 'her', 'hers', 'herself', 'it', \"it's\", 'its', 'itself', 'they', 'them', 'their', 'theirs', 'themselves', 'what', 'which', 'who', 'whom', 'this', 'that', \"that'll\", 'these', 'those', 'am', 'is', 'are', 'was', 'were', 'be', 'been', 'being', 'have', 'has', 'had', 'having', 'do', 'does', 'did', 'doing', 'a', 'an', 'the', 'and', 'but', 'if', 'or', 'because', 'as', 'until', 'while', 'of', 'at', 'by', 'for', 'with', 'about', 'against', 'between', 'into', 'through', 'during', 'before', 'after', 'above', 'below', 'to', 'from', 'up', 'down', 'in', 'out', 'on', 'off', 'over', 'under', 'again', 'further', 'then', 'once', 'here', 'there', 'when', 'where', 'why', 'how', 'all', 'any', 'both', 'each', 'few', 'more', 'most', 'other', 'some', 'such', 'no', 'nor', 'not', 'only', 'own', 'same', 'so', 'than', 'too', 'very', 's', 't', 'can', 'will', 'just', 'don', \"don't\", 'should', \"should've\", 'now', 'd', 'll', 'm', 'o', 're', 've', 'y', 'ain', 'aren', \"aren't\", 'couldn', \"couldn't\", 'didn', \"didn't\", 'doesn', \"doesn't\", 'hadn', \"hadn't\", 'hasn', \"hasn't\", 'haven', \"haven't\", 'isn', \"isn't\", 'ma', 'mightn', \"mightn't\", 'mustn', \"mustn't\", 'needn', \"needn't\", 'shan', \"shan't\", 'shouldn', \"shouldn't\", 'wasn', \"wasn't\", 'weren', \"weren't\", 'won', \"won't\", 'wouldn', \"wouldn't\"]\n"
     ]
    }
   ],
   "source": [
    "print(stopwords)"
   ]
  },
  {
   "cell_type": "code",
   "execution_count": 88,
   "metadata": {
    "collapsed": true
   },
   "outputs": [],
   "source": [
    "addstopwords = ['please','make','still']"
   ]
  },
  {
   "cell_type": "code",
   "execution_count": 89,
   "metadata": {},
   "outputs": [],
   "source": [
    "stopwords.extend(addstopwords)"
   ]
  },
  {
   "cell_type": "code",
   "execution_count": 90,
   "metadata": {},
   "outputs": [
    {
     "name": "stdout",
     "output_type": "stream",
     "text": [
      "['i', 'me', 'my', 'myself', 'we', 'our', 'ours', 'ourselves', 'you', \"you're\", \"you've\", \"you'll\", \"you'd\", 'your', 'yours', 'yourself', 'yourselves', 'he', 'him', 'his', 'himself', 'she', \"she's\", 'her', 'hers', 'herself', 'it', \"it's\", 'its', 'itself', 'they', 'them', 'their', 'theirs', 'themselves', 'what', 'which', 'who', 'whom', 'this', 'that', \"that'll\", 'these', 'those', 'am', 'is', 'are', 'was', 'were', 'be', 'been', 'being', 'have', 'has', 'had', 'having', 'do', 'does', 'did', 'doing', 'a', 'an', 'the', 'and', 'but', 'if', 'or', 'because', 'as', 'until', 'while', 'of', 'at', 'by', 'for', 'with', 'about', 'against', 'between', 'into', 'through', 'during', 'before', 'after', 'above', 'below', 'to', 'from', 'up', 'down', 'in', 'out', 'on', 'off', 'over', 'under', 'again', 'further', 'then', 'once', 'here', 'there', 'when', 'where', 'why', 'how', 'all', 'any', 'both', 'each', 'few', 'more', 'most', 'other', 'some', 'such', 'no', 'nor', 'not', 'only', 'own', 'same', 'so', 'than', 'too', 'very', 's', 't', 'can', 'will', 'just', 'don', \"don't\", 'should', \"should've\", 'now', 'd', 'll', 'm', 'o', 're', 've', 'y', 'ain', 'aren', \"aren't\", 'couldn', \"couldn't\", 'didn', \"didn't\", 'doesn', \"doesn't\", 'hadn', \"hadn't\", 'hasn', \"hasn't\", 'haven', \"haven't\", 'isn', \"isn't\", 'ma', 'mightn', \"mightn't\", 'mustn', \"mustn't\", 'needn', \"needn't\", 'shan', \"shan't\", 'shouldn', \"shouldn't\", 'wasn', \"wasn't\", 'weren', \"weren't\", 'won', \"won't\", 'wouldn', \"wouldn't\", 'please', 'make', 'please', 'make', 'still']\n"
     ]
    }
   ],
   "source": [
    "print(stopwords)"
   ]
  },
  {
   "cell_type": "code",
   "execution_count": 91,
   "metadata": {
    "collapsed": true
   },
   "outputs": [],
   "source": [
    "filtered_pos_words = []\n",
    "\n",
    "for word in pos_words:\n",
    "    if word not in stopwords:\n",
    "        filtered_pos_words.append(word)\n",
    "        "
   ]
  },
  {
   "cell_type": "code",
   "execution_count": 92,
   "metadata": {},
   "outputs": [
    {
     "name": "stdout",
     "output_type": "stream",
     "text": [
      "['pros', 'cons', 'solely', 'dependent', 'project', 'list', 'shuttle', 'service', 'rec', 'rooms', 'gym', 'wfh', 'available', 'required', 'good', 'work', 'environment', 'positive', 'people', 'work', 'good', 'companyfree', 'transporttimely', 'promotion', 'shoe', 'police', 'nicely', 'manageryear', 'end', 'hikes', 'ranging', 'average', 'people', 'helping', 'great', 'environment', 'good', 'projects', 'good', 'management', 'infrastructurehealth', 'environmentgood', 'clientsgood', 'salary', 'increments', 'depends', 'fateteam', 'outing', 'fun', 'activities', 'tremendous', 'focus', 'innovation', 'approachable', 'leadership', 'regular', 'employee', 'connects', 'company', 'visions', 'vast', 'areas', 'research', 'ability', 'work', 'cutting', 'edge', 'technologies', 'provide', 'side', 'transport', 'free', 'cost', 'trains', 'skill', 'change', 'best', 'part', 'accenturematernity', 'post', 'maternity', 'benefitswork', 'homeaverage', 'salary', 'hike', 'flexible', 'hours', 'competitive', 'pay', 'work', 'life', 'balance', 'good', 'company', 'women', 'employees', 'greatplace', 'workfriendly', 'work', 'environment', 'learning', 'opportunities', 'open', 'communication', 'values', 'culture', 'brand', 'good', 'working', 'environment', 'process', 'policies', 'good', 'democratic', 'set', 'upglobal', 'culturewell', 'organised', 'guven', 'great', 'learning', 'experience', 'great', 'working', 'atmosphere', 'good', 'perks', 'provided', 'company', 'chances', 'going', 'abroad', 'work', 'company', 'nice', 'work', 'culture', 'work', 'good', 'work', 'life', 'balance', 'good', 'career', 'options', 'growth', 'opportunities', 'avail', 'professional', 'certifications', 'cost', 'companywell', 'organized', 'structure', 'big', 'brand', 'work', 'culture', 'opportunity', 'work', 'big', 'fortune', 'clients', 'friendly', 'work', 'environmentcareer', 'growth', 'development', 'everything', 'organization', 'good', 'good', 'work', 'life', 'balancemultiple', 'projects', 'keep', 'resource', 'engaged', 'dynamic', 'management', 'would', 'always', 'encourage', 'everything', 'better', 'way', 'done', 'currently', 'leadership', 'team', 'members', 'role', 'models', 'processes', 'defined', 'get', 'good', 'project', 'firm', 'really', 'good', 'work', 'cool', 'environment', 'working', 'years', 'finding', 'issues', 'flexible', 'working', 'hours', 'time', 'punching', 'great', 'culture', 'flexible', 'time', 'great', 'work', 'environment', 'competitive', 'environmen', 'talented', 'people', 'strict', 'rules', 'hours', 'bayyour', 'comfort', 'zone', 'depends', 'project', 'managerwork', 'life', 'balance', 'managed', 'welllots', 'benefits', 'one', 'best', 'service', 'based', 'company', 'market', 'gives', 'significant', 'hikes', 'employers', 'fantastic', 'reliable', 'good', 'team', 'working', 'since', 'last', 'years', 'good', 'work', 'culture', 'excellent', 'learning', 'growing', 'opportunitiesno', 'restrictions', 'logging', 'hours', 'best', 'company', 'start', 'career', 'new', 'challenging', 'environment', 'good', 'learning', 'organization', 'diverse', 'portfolio', 'projects', 'good', 'learning', 'material', 'internal', 'portals', 'several', 'client', 'facing', 'travel', 'opportunities', 'typical', 'company', 'much', 'pressureteam', 'outingscafeteriarecreation', 'room', 'goood', 'company', 'work', 'great', 'place', 'work', 'best', 'company', 'work', 'nice', 'opportunities', 'highest', 'number', 'sap', 'projects', 'know', 'accenture', 'huge', 'organization', 'employees', 'huge', 'varieties', 'technology', 'work', 'easy', 'switch', 'technology', 'early', 'stages', 'career', 'friendly', 'work', 'culture', 'innovative', 'projects', 'environments', 'senior', 'support', 'good', 'facility', 'good', 'company', 'environment', 'work', 'one', 'best', 'associated', 'years', 'great', 'place', 'work', 'beginners', 'enhances', 'learning', 'professional', 'development', 'supportive', 'colleague', 'sorts', 'resource', 'study', 'grow', 'good', 'worklife', 'culture', 'awesome', 'place', 'work', 'good', 'company', 'starting', 'career', 'get', 'lot', 'exposure', 'company', 'great', 'company', 'work', 'forgreat', 'learninggoodiesoutingsteam', 'lunch', 'cab', 'facilities', 'good', 'good', 'relationship', 'manager', 'work', 'life', 'balance', 'good', 'good', 'work', 'culture', 'work', 'life', 'balance', 'respect', 'honest', 'helping', 'tendency', 'secured', 'place', 'work', 'good', 'start', 'many', 'opportunities', 'learn', 'new', 'technologies', 'well', 'planed', 'developed', 'courses', 'expanding', 'network', 'greatly', 'benefits', 'working', 'mnc', 'good', 'work', 'life', 'balance', 'lot', 'clients', 'lot', 'projects', 'enhances', 'learning', 'professional', 'development', 'quickly', 'learn', 'business', 'around', 'world', 'great', 'one', 'happy', 'abt', 'app', 'good', 'place', 'work', 'good', 'hike', 'knowledge', 'good', 'mnc', 'company', 'reputation', 'also', 'goodpackage', 'benefits', 'good', 'state', 'art', 'facilities', 'friendly', 'work', 'environment', 'flexible', 'work', 'timings', 'access', 'cutting', 'edge', 'technologies', 'options', 'upskill', 'best', 'class', 'hiring', 'salaries', 'policy', 'ladies', 'good', 'especially', 'maternity', 'returning', 'mothers', 'program', 'inclusion', 'diversity', 'plenty', 'growth', 'state', 'art', 'new', 'gen', 'skills', 'management', 'supporting', 'spent', 'lot', 'training', 'great', 'company', 'work', 'employee', 'based', 'company', 'good', 'envoirnment', 'learn', 'less', 'stressful', 'office', 'good', 'first', 'job', 'big', 'corporate', 'company', 'work', 'environment', 'good', 'learning', 'growth', 'therepay', 'gud', 'good', 'company', 'multiple', 'projects', 'good', 'exposure', 'cloud', 'technology', 'decent', 'salary', 'good', 'work', 'location', 'good', 'salary', 'hike', 'company', 'policies', 'office', 'new', 'clean', 'stocked', 'amenities', 'provision', 'bus', 'services', 'covering', 'wide', 'range', 'routes', 'work', 'life', 'great', 'good', 'vibe', 'great', 'learning', 'growthwork', 'life', 'balance', 'easy', 'maintaingood', 'leadership', 'best', 'place', 'work', 'flexible', 'working', 'hours', 'work', 'home', 'facility', 'depending', 'project', 'respect', 'individual', 'good', 'allowances', 'employees', 'working', 'shift', 'good', 'projects', 'work', 'life', 'balance', 'good', 'learning', 'opportunityhigh', 'values', 'ability', 'prove', 'initiatives', 'flexible', 'hours', 'great', 'culture', 'great', 'experienced', 'staff', 'known', 'company', 'offices', 'many', 'places', 'challenging', 'workwith', 'right', 'networking', 'choose', 'want', 'doflexible', 'timings', 'work', 'home', 'optionsbest', 'place', 'work', 'women', 'brand', 'name', 'big', 'clients', 'present', 'multiple', 'locations', 'accenture', 'almost', 'lot', 'employees', 'friendly', 'environment', 'flexibility', 'work', 'transportation', 'facility', 'nice', 'team', 'work', 'good', 'company', 'nice', 'reputation', 'market', 'value', 'would', 'increase', 'would', 'worked', 'accenture', 'work', 'life', 'balance', 'depends', 'project', 'allocated', 'leadership', 'good', 'strong', 'focus', 'new', 'technology', 'ideas', 'valued', 'hyderabad', 'facilities', 'world', 'class', 'well', 'maintained', 'culture', 'best', 'thing', 'accenture', 'supportive', 'people', 'around', 'always', 'good', 'learning', 'balanced', 'life', 'good', 'freshers', 'pros', 'salary', 'company', 'permanent', 'work', 'home', 'work', 'life', 'balance', 'work', 'life', 'balancegood', 'salarybest', 'projects', 'environment', 'friendly', 'helpful', 'process', 'oriented', 'lot', 'opportunities', 'resource', 'valuable', 'good', 'onsite', 'opportunities', 'also', 'shuttles', 'transportation', 'provided', 'lot', 'learning', 'opportunities', 'office', 'infrastructure', 'excellent', 'amazing', 'canteens', 'bay', 'areas', 'etcpick', 'drop', 'facilitiesif', 'good', 'tl', 'opt', 'cab', 'facility', 'reimburse', 'good', 'amount', 'showing', 'stay', 'far', 'away', 'officeclinic', 'inside', 'campus', 'sick', 'go', 'quick', 'checkupshift', 'allowances', 'work', 'odd', 'shiftsculturel', 'programs', 'good', 'environmentgood', 'cab', 'facilitiesgood', 'people', 'issues', 'asking', 'leave', 'work', 'way', 'less', 'policy', 'process', 'worklife', 'balance', 'salary', 'awesome', 'good', 'management', 'work', 'home', 'available', 'good', 'work', 'culture', 'ethics', 'employee', 'benefits', 'many', 'salary', 'timehaving', 'good', 'projects', 'work', 'new', 'technologies', 'good', 'projects', 'work', 'good', 'value', 'people', 'zero', 'tolerance', 'harrassment', 'good', 'place', 'work', 'lot', 'employment', 'opportunities', 'help', 'us', 'grow', 'career', 'level', 'awesome', 'infrastructure', 'competent', 'trainers', 'training', 'period', 'infinite', 'scope', 'learning', 'changinglearning', 'technology', 'good', 'salaryflexibilitywork', 'atmospheresupporting', 'onshoresalary', 'high', 'free', 'transportgood', 'hike', 'comparison', 'service', 'companies', 'getting', 'worse', 'last', 'yearpaid', 'cafeteria', 'good', 'good', 'infrastructure', 'good', 'facilities', 'employeesethical', 'policiesgood', 'raise', 'get', 'offer', 'accenture', 'provides', 'full', 'support', 'employees', 'professional', 'front', 'helps', 'employees', 'enhance', 'career', 'skills', 'good', 'work', 'life', 'balance', 'hierarchy', 'learning', 'good', 'get', 'opportunity', 'train', 'skill', 'better', 'facilities', 'benefits', 'employees', 'healthy', 'environment', 'best', 'transport', 'facility', 'trainings', 'clients', 'base', '’', 'recall', 'anything', 'else', 'good', 'place', 'build', 'career', 'diversified', 'workforce', 'good', 'exposure', 'freshers', 'good', 'company', 'work', 'accenture', 'lots', 'opportunities', 'learn', 'grow', 'nice', 'start', 'career', 'worked', 'years', 'good', 'management', 'properly', 'getting', 'hikes', 'promotion', 'work', 'good', 'tasks', 'activities', 'nice', 'culture', 'every', 'hour', 'cab', 'facility', 'pick', 'drop', 'good', 'architecture', 'better', 'learning', 'opportunities', 'freshers', 'easy', 'interview', 'process', 'training', 'online', 'learning', 'materials', 'far', 'good', 'others', 'nice', 'working', 'culture', 'room', 'grow', 'policy', 'oriented', 'work', 'environment', 'great', 'place', 'work', 'way', 'learn', 'new', 'technologies', 'motivated', 'environment', 'better', 'perks', 'hikes', 'one', 'fortune', 'companies', 'worklife', 'balance', 'work', 'culture', 'depends', 'projectin', 'project', 'micro', 'management', 'balanced', 'life', 'great', 'salary', 'benfits', 'got', 'work', 'fortune', 'clients', 'helps', 'us', 'grow', 'exponentially', 'technical', 'well', 'professional', 'front', 'women', 'securitywork', 'culture', 'guidance', 'work', 'life', 'balance', 'depends', 'project', 'great', 'coordination', 'team', 'provided', 'manager', 'good', 'good', 'employee', 'benefits', 'good', 'package', 'comparison', 'service', 'based', 'companyemployee', 'friendlytechnology', 'stack', 'goodgood', 'policies', 'open', 'innovationopen', 'good', 'new', 'technologiesvery', 'good', 'work', 'ethics', 'management', 'good', 'along', 'get', 'global', 'exposure', 'good', 'clients', 'one', 'best', 'place', 'learn', 'grow', 'good', 'company', 'good', 'heregood', 'looking', 'people', 'gets', 'appreciated', 'good', 'work', 'environment', 'culture', 'work', 'culture', 'amazing', 'work', 'culture', 'accenture', 'awesome', 'cocurricular', 'activities', 'events', 'ensure', 'rejuvenation', 'employees', 'also', 'safety', 'employees', 'taken', 'care', 'help', 'build', 'career', 'project', 'dependentgood', 'project', 'good', 'hike', 'good', 'scope', 'built', 'careervast', 'pool', 'learning', 'material', 'direct', 'interaction', 'client', 'projectswfh', 'option', 'available', 'projects', 'job', 'security', 'working', 'environment', 'good', 'exposureone', 'leading', 'compnaymany', 'areas', 'work', 'balance', 'flexibility', 'leadership', 'values', 'buzz', 'everything', 'depends', 'project', 'industrial', 'group', 'get', 'utilities', 'sectorgood', 'want', 'anything', 'box', 'follow', 'traditional', 'approach', 'good', 'working', 'environment', 'along', 'highly', 'ethical', 'values', 'good', 'flexibility', 'work', 'home', 'options', 'great', 'place', 'kick', 'start', 'career', 'provides', 'lot', 'free', 'classroom', 'digital', 'trainings', 'upskill', 'reskill', 'employees', 'facilities', 'best', 'place', 'learning', 'women', 'friendly', 'company', 'enables', 'people', 'grow', 'learn', 'fosters', 'challenfing', 'good', 'work', 'environmentgood', 'people', 'work', 'stable', 'companycontinous', 'growth', 'india', 'learn', 'new', 'technologiesnice', 'peopleonsitenew', 'opportunities', 'good', 'work', 'culturecooperative', 'teamfun', 'work', 'everything', 'good', 'learn', 'lotvery', 'good', 'projecttesting', 'projects', 'good', 'good', 'working', 'culture', 'learning', 'opportunities', 'high', 'level', 'core', 'values', 'great', 'platform', 'start', 'career', 'good', 'freshers', 'depends', 'project', 'get', 'learn', 'apply', 'interact', 'improvegrow', 'best', 'place', 'work', 'terms', 'infrastructure', 'new', 'technologies', 'new', 'stuff', 'learn', 'update', 'work', 'per', 'new', 'skills', 'fun', 'filled', 'stuff', 'work', 'passion', 'really', 'good', 'company', 'start', 'career', 'come', 'lateralhr', 'policies', 'goodhelping', 'employees', 'experts', 'fields', 'good', 'company', 'work', 'good', 'network', 'build', 'less', 'work', 'pressure', 'decent', 'salarygreat', 'teamgood', 'place', 'learn', 'great', 'place', 'women', 'grow', 'free', 'transport', 'first', 'aid', 'training', 'enjoy', 'long', 'tealunchsnacks', 'breaksmeet', 'lot', 'people', 'training', 'gft', 'become', 'close', 'friendsit', 'people', 'oriented', 'company', 'everyone', 'niceand', 'support', 'people', 'earn', 'shift', 'allowance', 'team', 'amazing', 'great', 'cafe', 'work', 'culture', 'good', 'opportunities', 'initiatives', 'learning', 'inclusion', 'diversity', 'amazing', 'work', 'place', 'good', 'salary', 'hikefriendly', 'colleagues', 'able', 'learn', 'different', 'new', 'technologies', 'flexibilitygood', 'work', 'environment', 'good', 'people', 'good', 'fresher', 'much', 'work', 'pressure', 'upto', 'year', 'let', 'lead', 'good', 'work', 'life', 'balance', 'work', 'environment', 'good', 'great', 'start', 'career', 'salary', 'good', 'nice', 'work', 'lot', 'opportunities', 'learn', 'company', 'offers', 'ease', 'working', 'convenience', 'great', 'environment', 'work', 'culture', 'transparent', 'well', 'informed', 'expectations', 'job', 'less', 'politics', 'mnc', 'good', 'company', 'first', 'company', 'great', 'time', 'working', 'good', 'working', 'environment', 'professionals', 'nice', 'environment', 'work', 'work', 'life', 'balance', 'good', 'pay', 'good', 'principlesgood', 'policies', 'global', 'culture', 'good', 'brand', 'value', 'competitive', 'salaries', 'respect', 'individual', 'equal', 'opportunity', 'employer', 'good', 'work', 'culture', 'definitely', 'pros', 'one', 'best', 'paymasters', 'indian', 'market', 'great', 'hr', 'policies', 'trustful', 'employees', 'value', 'tenured', 'resources', 'good', 'work', 'culture', 'flexible', 'flexible', 'workcan', 'balance', 'work', 'personal', 'ease', 'good', 'salary', 'hike', 'lateral', 'hiring', 'good', 'onsite', 'opportunity', 'working', 'client', 'project', 'work', 'life', 'balance', 'good', 'good', 'learning', 'training', 'opportunity', 'flexible', 'working', 'hours', 'depends', 'upon', 'project', 'requirements', 'project', 'manager', 'working', 'shifts', 'get', 'shift', 'cab', 'allowances', 'process', 'oriented', 'nice', 'leave', 'policy', 'accenture', 'dream', 'company', 'good', 'career', 'growthgood', 'incrementso', 'many', 'projects', 'testingnice', 'work', 'good', 'company', 'variety', 'projects', 'helps', 'getting', 'wide', 'exposure', 'nice', 'perks', 'benefits', 'compared', 'another', 'service', 'based', 'companies', 'much', 'atleast', 'senior', 'level', 'work', 'life', 'balance', 'environment', 'work', 'homebest', 'managementbest', 'employee', 'management', 'relationship', 'good', 'learning', 'curve', 'freshers', 'better', 'pay', 'structurecontinuous', 'hike', 'based', 'performance', 'good', 'compare', 'another', 'competitoroverall', 'nice', 'place', 'work', 'free', 'transport', 'facility', 'good', 'perks', 'allowances', 'better', 'work', 'environment', 'compared', 'service', 'based', 'companies', 'good', 'place', 'work', 'get', 'team', 'completing', 'mba', 'tech', 'atleast', 'years', 'experience', 'best', 'part', 'team', 'youre', 'working', 'consulting', 'engagements', 'accenture', 'technology', 'company', 'talent', 'matters', 'cope', 'market', 'challenge', 'new', 'technologies', 'accenture', 'provides', 'better', 'platform', 'know', 'better', 'work', 'culture', 'deliverables', 'opportunities', 'huge', 'typical', 'service', 'based', 'company', 'good', 'digital', 'innovation', 'good', 'freshers', 'startgood', 'brand', 'accenture', 'rewarding', 'awarding', 'place', 'work', 'employees', 'enjoy', 'everything', 'accenture', 'namely', 'technology', 'projectpeople', 'work', 'culture', 'processes', 'learning', 'fun', 'compensation', 'diversity', 'writing', 'remarks', 'couple', 'years', 'left', 'great', 'organizationthe', 'value', 'accenture', 'known', 'quit', 'associated', 'worst', 'work', 'placesmy', 'review', 'comes', 'knowledge', 'experience', 'gained', 'working', 'corporate', 'years', 'various', 'industry', 'organization', 'various', 'sizemissing', 'accenture', 'wish', 'could', 'come', 'back', 'wish', 'every', 'work', 'place', 'emulates', 'accenture', 'good', 'atmosphere', 'travel', 'services', 'cabs', 'time', 'available', 'follows', 'business', 'ethics', 'job', 'security', 'overal', 'good', 'environment', 'work', 'home', 'good', 'training', 'good', 'hike', 'great', 'learning', 'environmentstability', 'jobmost', 'projects', 'long', 'termconstant', 'learning', 'environment', 'timing', 'cafeteria', 'work', 'space', 'culture', 'diversity', 'infrastructure', 'develop', 'ur', 'knowledge', 'much', 'quicker', 'much', 'faster', 'got', 'job', 'campus', 'placementquite', 'comfortable', 'work', 'environmentlot', 'fun', 'activities', 'good', 'trainings', 'free', 'transportation', 'learning', 'curve', 'good', 'end', 'bad', 'project', 'entering', 'excel', 'sheets', 'work', 'life', 'balance', 'good', 'environment', 'best', 'reasons', 'work', 'work', 'keeps', 'occupied', 'times', 'amazing', 'team', 'building', 'activities', 'good', 'environment', 'culture', 'workemployee', 'benefits', 'good', 'infrastructure', 'goodaccenture', 'home', 'women', 'employees', 'since', 'provides', 'lot', 'benefits', 'women', 'employees', 'great', 'company', 'lots', 'great', 'projects', 'new', 'stacks', 'well', 'old', 'stacks', 'toit', 'luck', 'project', 'business', 'unit', 'joining', 'accordingly', 'get', 'learning', 'opportunity', 'technology', 'stackmy', 'team', 'manager', 'great', 'technology', 'stack', 'bit', 'old', 'java', 'jsf', 'work', 'life', 'balance', 'good', 'employer', 'friendly', 'work', 'culture', 'nature', 'work', 'focus', 'latest', 'emerging', 'technologies', 'developmentsalary', 'hikes', 'recognition', 'good', 'learning', 'opportunities', 'theregood', 'package', 'initially', 'work', 'cultureample', 'projectsprofessional', 'colleaugesinfraemployee', 'friendly', 'good', 'shift', 'allowance', 'employee', 'care', 'office', 'hours', 'one', 'disturb', 'work', 'life', 'balanceamazing', 'unique', 'leaders', 'employee', 'friendly', 'company', 'great', 'place', 'women', 'work', 'extremely', 'employee', 'centric', 'great', 'infrastructure', 'goff', 'facilities', 'good', 'hike', 'work', 'culture', 'best', 'company', 'lives', 'core', 'values', 'always', 'room', 'growth', 'enough', 'technology', 'scope', 'learn', 'work', 'home', 'option', 'transportation', 'facility', 'salary', 'hike', 'better', 'service', 'based', 'companiesyou', 'get', 'opportunity', 'work', 'development', 'support', 'projects', 'unlike', 'companies', 'projects', 'support', 'onlyyou', 'get', 'work', 'home', 'depending', 'upon', 'team', 'managers', 'attitudeoverall', 'accenture', 'quite', 'employee', 'friendly', 'good', 'culture', 'great', 'join', 'fresher', 'nice', 'management', 'healthy', 'discussions', 'nice', 'environmentmotivated', 'seniorsopportunity', 'cross', 'trained', 'options', 'learn', 'new', 'technologies', 'good', 'learning', 'growth', 'opportunities', 'exposure', 'many', 'cultures', 'world', 'wide', 'best', 'place', 'learn', 'grow', 'employee', 'good', 'environment', 'supportive', 'people', 'better', 'policies', 'good', 'work', 'culture', 'environment', 'employees', 'orientedoutstanding', 'management', 'best', 'annual', 'hike', 'every', 'year', 'comparing', 'mnc', 'good', 'culture', 'grand', 'welcome', 'freshersno', 'stupid', 'rules', 'like', 'infosys', 'wipro', 'login', 'timeinitial', 'hikes', 'allowances', 'good', 'enough', 'salary', 'free', 'transport', 'work', 'life', 'balance', 'allownace', 'shift', 'good', 'oraganisation', 'opportunities', 'culture', 'quality', 'experience', 'one', 'best', 'salary', 'structure', 'hikeslarge', 'setup', 'plenty', 'opportunities', 'almost', 'technical', 'domainsemployee', 'policies', 'facilities', 'one', 'best', 'one', 'organization', 'give', 'india', 'awesome', 'policies', 'employee', 'centric', 'good', 'growth', 'good', 'learningaggressive', 'outlookfast', 'paced', 'growth', 'nice', 'teammates', 'good', 'time', 'good', 'worklife', 'balance', 'bench', 'nice', 'infrastructure', 'great', 'work', 'ethics', 'culture', 'although', 'worklocation', 'actually', 'client', 'location', 'nice', 'pay', 'hikesflexibility', 'worknice', 'working', 'positive', 'working', 'environmentaccenture', 'take', 'care', 'employeesits', 'one', 'best', 'company', 'serveproud', 'accenturite', 'great', 'working', 'environmentsupportive', 'hr', 'policiesgreat', 'annual', 'hikesgreat', 'opportunities', 'onsiteyou', 'truly', 'work', 'long', 'term', 'good', 'platform', 'good', 'salary', 'increment', 'people', 'work', 'environment', 'really', 'good', 'various', 'trainings', 'keep', 'aware', 'lasted', 'technologies', 'market', 'also', 'get', 'good', 'ethical', 'environment', 'work', 'ac', 'professional', 'good', 'learning', 'sites', 'pros', 'company', 'big', 'organisation', 'amazing', 'work', 'environment', 'lots', 'opportunity', 'grow', 'automation', 'innovation', 'approach', 'best', 'workplaces', 'exciting', 'projects', 'great', 'work', 'culture', 'hr', 'policies', 'work', 'life', 'balance', 'career', 'opportunities', 'extremely', 'good', 'envisioning', 'future', 'trends', 'getting', 'prepared', 'rest', 'competitiongreat', 'thought', 'leaders', 'competent', 'drive', 'client', 'engagements', 'ease', 'good', 'career', 'opportunitiesgreat', 'compensation', 'work', 'onsitework', 'life', 'balanceorganized', 'structure', 'trust', 'respect', 'otherthey', 'innovate', 'life', 'better', 'transport', 'benefit', 'else', 'great', 'company', 'start', 'work', 'culture', 'good', 'get', 'work', 'great', 'people', 'work', 'life', 'balancechilled', 'environmentprocesses', 'well', 'defined', 'proshaving', 'worked', 'years', 'say', 'change', 'name', 'descent', 'new', 'low', 'everyday', 'nice', 'work', 'exposure', 'good', 'working', 'environmentflexible', 'timingsnice', 'facilities', 'office', 'medium', 'lower', 'fresher', 'high', 'seniors', 'great', 'coaches', 'people', 'given', 'second', 'chances', 'leadership', 'skill', 'development', 'opportunities', 'galore', 'excellent', 'processes', 'good', 'succession', 'planning', 'rewards', 'recognition', 'good', 'currency', 'industry', 'trends', 'stable', 'company', 'job', 'security', 'executive', 'culture', 'phenomenal', 'great', 'exposure', 'due', 'size', 'magnitude', 'organisationgreat', 'pay', 'master', 'thinks', 'people', 'assetlots', 'benefits', 'employeesbest', 'company', 'work', 'forlot', 'push', 'equality', 'like', 'nice', 'company', 'work', 'accenture', 'great', 'company', 'learn', 'grow', 'learned', 'alot', 'techincal', 'stuffs', 'includes', 'entirely', 'devops', 'part', 'found', 'begining', 'worst', 'interview', 'room', 'interview', 'went', 'good', 'feel', 'anything', 'good', 'herejust', 'salary', 'time', 'less', 'good', 'thing', 'understand', 'mncs', 'work', 'accenture', 'employee', 'friendly', 'company', 'good', 'policies', 'employees', 'find', 'cooperative', 'seniors', 'hr', 'management', 'also', 'good', 'overall', 'good', 'experience', 'well', 'organised', 'way', 'delivery', 'modelbest', 'infrastructuresupport', 'new', 'ideastransportation', 'benefitzero', 'benchbest', 'people', 'work', 'culture', 'amazing', 'diverse', 'crowd', 'helps', 'improve', 'interpersonal', 'skills', 'good', 'workplace', 'work', 'convenient', 'facilities', 'way', 'good', 'work', 'environment', 'competitive', 'salaries', 'lateral', 'joinees', 'respect', 'people', 'accessible', 'leadership', 'care', 'concerns', 'strong', 'policies', 'respect', 'personal', 'challenges', 'flexible', 'work', 'hours', 'project', 'specific', 'good', 'training', 'learning', 'platforms', 'emphasis', 'collaboration', 'development', 'skills', 'project', 'specific', 'tasks', 'good', 'work', 'culturegood', 'core', 'valuesgood', 'resourceshike', 'also', 'goodcab', 'facility', 'company', 'years', 'nowtotally', 'depends', 'project', 'life', 'good', 'company', 'get', 'onsite', 'opportunity', 'good', 'working', 'culture', 'depends', 'project', 'good', 'work', 'life', 'balance', 'good', 'team', 'support', 'good', 'pay', 'scales', 'great', 'place', 'workgreat', 'compensationhierarchy', 'positions', 'goodpeers', 'supportivegood', 'opportunities', 'healthy', 'work', 'culture', 'good', 'salary', 'exposure', 'new', 'technologies', 'good', 'work', 'culture', 'respect', 'individual', 'timings', 'money', 'got', 'good', 'benefits', 'easy', 'claim', 'process', 'regular', 'trainings', 'provided', 'escalation', 'process', 'also', 'transparent', 'good', 'work', 'culture', 'friendly', 'environment', 'good', 'hikes', 'good', 'company', 'work', 'lot', 'focus', 'automation', 'nice', 'colleagues', 'employee', 'friendly', 'environmentnice', 'perks', 'shift', 'get', 'travel', 'allowance', 'shift', 'allowance', 'best', 'company', 'terms', 'perks', 'good', 'work', 'culture', 'good', 'pau', 'good', 'place', 'work', 'friendly', 'environment', 'work', 'culture', 'office', 'timings', 'dress', 'code', 'infrastructure', 'growth', 'large', 'international', 'company', 'opportunities', 'worldwidepositive', 'work', 'environment', 'work', 'timing', 'issue', 'work', 'life', 'balancing', 'good', 'good', 'infra', 'helping', 'people', 'got', 'opportunity', 'working', 'new', 'technologies', 'bonuses', 'good', 'cool', 'environment', 'good', 'pay', 'scale', 'job', 'securitytransport', 'facilityalot', 'projectsdeals', 'currently', 'contract', 'accenture', 'good', 'best', 'company', 'ever', 'worked', 'good', 'team', 'members', 'supportive', 'culture', 'many', 'opportunities', 'learn', 'grow', 'nice', 'worklife', 'balance', 'many', 'good', 'hike', 'market', 'correction', 'based', 'performances', 'hear', 'people', 'politics', 'deciding', 'factor', 'salary', 'ocean', 'oppurtunity', 'accenture', 'provides', 'global', 'management', 'consulting', 'professional', 'services', 'provides', 'good', 'working', 'environment', 'site', 'good', 'hike', 'variable', 'pay', 'given', 'top', 'performer', 'else', 'proper', 'hikes', 'also', 'less', 'variable', 'pay', 'paid', 'employee', 'centric', 'good', 'place', 'learn', 'good', 'company', 'work', 'fresher', 'friendlypositive', 'atmoshpere', 'great', 'work', 'culture', 'received', 'excellent', 'support', 'seniors', 'project', 'even', 'given', 'opportunity', 'design', 'small', 'requirements', 'worked', 'middleware', 'java', 'developer', 'telecom', 'project', 'good', 'visibility', 'work', 'top', 'management', 'award', 'programs', 'employees', 'good', 'overall', 'encouraging', 'dynamic', 'atmosphere', 'good', 'culture', 'structured', 'organization', 'work', 'life', 'balance', 'roles', 'good', 'professional', 'company', 'better', 'learning', 'growth', 'best', 'place', 'work', 'best', 'work', 'culture', 'great', 'culture', 'employee', 'friendly', 'fantastic', 'business', 'ethics', 'visionary', 'innovative', 'people', 'encouraged', 'take', 'charge', 'change', 'status', 'quo', 'advantage', 'feel', 'good', 'place', 'work', 'good', 'work', 'culture', 'great', 'environment', 'work', 'good', 'learning', 'skills', 'vast', 'amount', 'opportunities', 'lot', 'opportunities', 'learn', 'work', 'culture', 'experience', 'well', 'planned', 'trainingfull', 'training', 'months', 'stream', 'placement', 'accenture', 'provides', 'integrity', 'employees', 'hard', 'work', 'gets', 'paid', 'best', 'place', 'work', 'friendly', 'environmentgood', 'place', 'workless', 'work', 'load', 'amazing', 'scope', 'learning', 'also', 'use', 'work', 'great', 'work', 'life', 'balance', 'employees', 'brand', 'name', 'else', 'good', 'learning', 'great', 'work', 'life', 'management', 'women', 'safety', 'nice', 'infrastructure', 'good', 'place', 'learn', 'grow', 'good', 'working', 'culture', 'management', 'flexibility', 'women', 'employees', 'good', 'good', 'ambience', 'friendly', 'bunch', 'working', 'partners', 'working', 'environmentmore', 'scope', 'career', 'growthflexible', 'timings', 'gives', 'training', 'fake', 'workingcan', 'pursue', 'hobby', 'working', 'reading', 'novels', 'roaming', 'office', 'like', 'park', 'good', 'place', 'start', 'career', 'added', 'benefits', 'senior', 'management', 'potentialgood', 'projects', 'accenture', 'best', 'among', 'mnc', 'work', 'awesome', 'place', 'workemployee', 'friendlygrowth', 'opportunity', 'single', 'streamtraining', 'opportunities', 'competitive', 'package', 'lateral', 'hiresgood', 'infrastructuregood', 'projects', 'digital', 'work', 'culture', 'good', 'accenture', 'environment', 'healthy', 'process', 'followed', 'environment', 'values', 'salary', 'growth', 'team', 'spirit', 'quality', 'workquality', 'work', 'could', 'rated', 'reason', 'stated', 'mostly', 'due', 'new', 'ideas', 'creativity', 'highly', 'encouragedb', 'team', 'dynamics', 'could', 'voted', 'stated', 'issue', 'widespread', 'politics', 'around', 'workplace', 'people', 'good', 'friendlygood', 'worklife', 'balance', 'best', 'place', 'lot', 'flexibilitydepends', 'project', 'good', 'trainingbest', 'salary', 'market', 'bad', 'projects', 'wide', 'range', 'projectsyou', 'work', 'new', 'technologiesgood', 'support', 'managementwork', 'life', 'balance', 'goodyou', 'allocated', 'based', 'clusternear', 'area', 'put', 'learning', 'team', 'building', 'supportive', 'business', 'excellence', 'best', 'place', 'grow', 'develop', 'accenture', 'good', 'company', 'start', 'although', 'everything', 'depends', 'project', 'assigned', 'seen', 'lot', 'depends', 'project', 'management', 'yearly', 'hikes', 'promotion', 'everythingaccenture', 'good', 'policies', 'terms', 'women', 'safety', 'salary', 'time', 'etc', 'employee', 'safety', 'job', 'security', 'free', 'cabs', 'commutegood', 'market', 'reputation', 'good', 'work', 'life', 'balance', 'fun', 'work', 'employee', 'friendly', 'good', 'working', 'environment', 'flexibility', 'good', 'pay', 'master', 'good', 'career', 'opportunities', 'good', 'employee', 'benefitsopportunities', 'learn', 'new', 'technologiesno', 'politics', 'learn', 'ethics', 'nice', 'team', 'work', 'culture', 'seniors', 'infrastructure', 'great', 'environment', 'work', 'develop', 'carrier', 'best', 'strategy', 'onshore', 'offshore', 'balancethey', 'lot', 'scope', 'learning', 'expertise', 'professionallythere', 'lots', 'classroom', 'online', 'training', 'available', 'access', 'decent', 'pay', 'ok', 'clients', 'life', 'good', 'project', 'great', 'team', 'great', 'people', 'infrastructure', 'brillant', 'better', 'infosys', 'tcs', 'terms', 'salary', 'good', 'pay', 'master', 'good', 'transport', 'friendly', 'team', 'supportive', 'team', 'lead', 'challenging', 'work', 'environment', 'friends', 'collegues', 'get', 'decent', 'faculties', 'benefits', 'salary', 'wellclient', 'interaction', 'abundant', 'get', 'good', 'project', 'best', 'place', 'work', 'great', 'work', 'environmentno', 'deadline', 'pressurehikes', 'promotions', 'good', 'compensation', 'benefits', 'everyone', 'helpful', 'mindset', 'great', 'work', 'culture', 'learning', 'opportunities', 'good', 'leadership', 'team', 'great', 'start', 'fresh', 'graduate', 'extensive', 'trainingsemphasis', 'skillinggreat', 'peoplenot', 'hectic', 'flexibility', 'time', 'get', 'quality', 'work', 'depend', 'project', 'good', 'amenities', 'campus', 'good', 'relocation', 'assistance', 'good', 'pay', 'weekend', 'works', 'days', 'focusing', 'diversities', 'genders', 'least', 'one', 'qtr', 'project', 'parties', 'depend', 'project', 'budget', 'variable', 'pay', 'based', 'performance', 'rating', 'cp', 'points', 'specific', 'achievements', 'great', 'working', 'environment', 'introduction', 'new', 'technologies', 'training', 'resources', 'go', 'great', 'industry', 'standards', 'management', 'opportunities', 'gain', 'experiance', 'exposure', 'wide', 'range', 'capabilities', 'excellent', 'senior', 'management', 'great', 'skills', 'lots', 'parties', 'project', 'good', 'flexibility', 'work', 'timings', 'case', 'strict', 'support', 'environment', 'lots', 'opportunity', 'learn', 'grow', 'lots', 'activities', 'pursue', 'interests', 'full', 'learning', 'training', 'apportunities', 'internal', 'bonus', 'appraisal', 'process', 'good', 'work', 'life', 'balance', 'team', 'outing', 'good', 'projectsnew', 'things', 'learngood', 'colleagues', 'work', 'life', 'balance', 'greathikes', 'goodtransport', 'facilitiesstringent', 'rules', 'women', 'safety', 'best', 'part', 'free', 'transportationwork', 'life', 'balancegood', 'hr', 'policies', 'good', 'organization', 'structure', 'employee', 'oriented', 'benefits', 'programmes', 'good', 'work', 'life', 'balance', 'depends', 'project', 'project', 'work', 'life', 'balancelots', 'banking', 'project', 'employee', 'friendly', 'opportunity', 'learn', 'new', 'things', 'good', 'work', 'nice', 'work', 'life', 'get', 'surviving', 'salary', 'free', 'cabshuttle', 'services', 'work', 'culture', 'onsite', 'opportunities', 'depending', 'project', 'work', 'cultureemployee', 'benefitsgymcafeteriawork', 'life', 'balancework', 'home', 'supportonshore', 'benefits', 'amazing', 'policies', 'workplacegreat', 'place', 'learn', 'grow', 'great', 'company', 'work', 'accenture', 'known', 'values', 'pros', 'never', 'expected', 'seen', 'anywhere', 'called', 'good', 'company', 'worst', 'transport', 'facility', 'security', 'experience', 'global', 'mnc', 'culturegenerally', 'good', 'work', 'life', 'balance', 'unless', 'bad', 'teamprojectgood', 'self', 'driven', 'lots', 'technical', 'skills', 'explore', 'different', 'client', 'experience', 'opportunity', 'global', 'levelgood', 'working', 'environment', 'employee', 'first', 'revenue', 'next', 'overall', 'balanced', 'organization', 'good', 'benefits', 'companies', 'highly', 'recommended', 'freshers', 'brand', 'names', 'comes', 'handy', 'switching', 'best', 'terms', 'work', 'life', 'balance', 'policies', 'work', 'life', 'balance', 'depends', 'upon', 'project', 'projectbig', 'client', 'budget', 'projects', 'good', 'different', 'type', 'people', 'get', 'work', 'good', 'salary', 'learn', 'new', 'technologies', 'enrolling', 'training', 'sessions', 'management', 'also', 'encourage', 'adopt', 'new', 'skillsmultiple', 'opportunities', 'work', 'big', 'clients', 'want', 'work', 'reputation', 'company', 'like', 'urs', 'want', 'work', 'account', 'process', 'best', 'company', 'work', 'lot', 'learning', 'space', 'good', 'pay', 'hard', 'workers', 'great', 'diversity', 'amazing', 'people', 'cool', 'projects', 'bigger', 'teams', 'brand', 'name', 'value', 'best', 'place', 'learnearn', 'work', 'accenture', 'good', 'place', 'work', 'expect', 'good', 'pay', 'good', 'company', 'helpful', 'employees', 'great', 'people', 'work', 'decent', 'work', 'culture', 'worklife', 'balance', 'managers', 'understanding', 'works', 'communitymajority', 'teams', 'flexible', 'terms', 'remote', 'working', 'options', 'transport', 'facility', 'goodsalary', 'hike', 'good', 'great', 'company', 'freshers', 'work', 'great', 'work', 'culture', 'good', 'company', 'work', 'marketrelevant', 'paygender', 'diversity', 'good', 'accenture', 'great', 'place', 'work', 'teams', 'good', 'leads', 'goodthey', 'invested', 'heavily', 'training', 'related', 'videos', 'learn', 'many', 'things', 'pros', 'company', 'ethical', 'professional', 'visionary', 'ahead', 'game', 'good', 'company', 'various', 'projects', 'new', 'things', 'learn', 'accenture', 'best', 'company', 'beginners', 'work', 'life', 'balance', 'best', 'accounts', 'domains', 'diverse', 'people', 'teams', 'good', 'work', 'culturethe', 'best', 'place', 'benew', 'happeningai', 'ml', 'blockchainetc', 'location', 'benefit', 'multiple', 'officessenior', 'leadership', 'always', 'approachable', 'nice', 'place', 'start', 'career', 'fresher', 'good', 'work', 'start', 'internal', 'training', 'certifications', 'support', 'free', 'work', 'culture', 'good', 'clients', 'fortune', 'good', 'hikes', 'moderation', 'period', 'compared', 'services', 'practically', 'free', 'transport', 'good', 'allowances', 'extra', 'hours', 'days', 'support', 'work', 'environmentethicsgood', 'client', 'managementgood', 'infrastructure', 'good', 'leave', 'policiesvery', 'big', 'environmentvendor', 'training', 'based', 'process', 'needs', 'good', 'challenging', 'good', 'good', 'beginners', 'colleges', 'good', 'culture', 'safe', 'women', 'best', 'orientation', 'service', 'best', 'training', 'period', 'helpful', 'hr', 'good', 'relocation', 'allowance', 'good', 'salary', 'good', 'work', 'ethics', 'big', 'cafeteria', 'depends', 'location', 'great', 'learning', 'skills', 'manage', 'months', 'without', 'working', 'good', 'working', 'environment', 'excellent', 'staff', 'good', 'company', 'great', 'work', 'life', 'great', 'place', 'learn', 'employee', 'friendly', 'policygood', 'opportunitygood', 'infrastructurestability', 'reliable', 'longterm', 'career', 'every', 'thing', 'good', 'accenture', 'subsidized', 'food', 'good', 'work', 'life', 'balance', 'good', 'payer', 'comfort', 'zone', 'flexible', 'shifts', 'competitive', 'salarieschallenging', 'workwide', 'array', 'optionprojects', 'policies', 'company', 'complements', 'employee', 'satisfaction', 'offers', 'excellent', 'work', 'life', 'balance', 'average', 'tenure', 'employee', 'organization', 'yrs', 'translates', 'zone', 'comfort', 'accenture', 'offers', 'employees', 'salary', 'facility', 'good', 'accenture', 'awesome', 'senior', 'management', 'learning', 'opportunities', 'good', 'nice', 'work', 'culture', 'values', 'huge', 'base', 'clients', 'good', 'brand', 'market', 'better', 'hikes', 'service', 'based', 'companies', 'flexible', 'employee', 'friendly', 'policies', 'challenging', 'work', 'better', 'learning', 'great', 'teams', 'good', 'explore', 'new', 'technologiesnumber', 'training', 'top', 'skill', 'best', 'place', 'work', 'challenging', 'business', 'tech', 'problems', 'good', 'working', 'environment', 'always', 'coming', 'innovations', 'diversity', 'work', 'culture', 'ethics', 'good', 'work', 'culture', 'work', 'environmentless', 'work', 'pressuregood', 'package', 'fresherhigh', 'brand', 'value', 'good', 'job', 'nice', 'place', 'work', 'senior', 'level', 'work', 'life', 'balancegreat', 'place', 'work', 'specially', 'female', 'employees', 'good', 'work', 'life', 'balance', 'awesome', 'infrastructure', 'relaxed', 'work', 'environments', 'transportation', 'good', 'company', 'retire', 'good', 'company', 'learn', 'projects', 'good', 'onsite', 'projects', 'name', 'company', 'resumeall', 'good', 'things', 'every', 'mnc', 'stable', 'work', 'pressuregood', 'implementation', 'support', 'projects', 'excellent', 'work', 'ethic', 'work', 'culture', 'good', 'projectswill', 'get', 'opportunities', 'work', 'new', 'technologiesgood', 'pay', 'compare', 'companys', 'lots', 'opportunities', 'grow', 'technologies', 'related', 'projects', 'available', 'learn', 'good', 'facilitiescab', 'freesalary', 'hike', 'better', 'compared', 'service', 'based', 'companiesgood', 'projects', 'great', 'place', 'workemployee', 'friendly', 'policiesgrowth', 'certain', 'accenture', 'good', 'company', 'work', 'great', 'place', 'learn', 'new', 'technologies', 'big', 'learning', 'portallot', 'team', 'building', 'activities', 'great', 'work', 'environment', 'plenty', 'opportunities', 'growth', 'movement', 'around', 'business', 'great', 'learning', 'exposure', 'work', 'life', 'balance', 'good', 'work', 'culture', 'lucky', 'yu', 'get', 'good', 'projects', 'work', 'good', 'projects', 'work', 'friendly', 'environment', 'good', 'work', 'culture', 'ample', 'opportunities', 'worklife', 'balance', 'goodfew', 'projects', 'work', 'home', 'optionsno', 'mandatory', 'hours', 'recorded', 'worked', 'accenture', 'share', 'pros', 'go', 'cons', 'waste', 'time', 'going', 'interviews', 'company', 'might', 'get', 'work', 'good', 'technologiesmight', 'get', 'onshore', 'opportunities', 'depends', 'project', 'better', 'work', 'culturebetter', 'managementpay', 'increments', 'par', 'market', 'good', 'company', 'work', 'unless', 'good', 'bond', 'manager', 'nice', 'place', 'workgood', 'hikes', 'get', 'best', 'projects', 'work', 'latest', 'technologies', 'designs', 'good', 'managementnice', 'work', 'environmentgood', 'work', 'life', 'balance', 'good', 'pay', 'good', 'work', 'environment', 'life', 'working', 'accenture', 'privilege', 'company', 'core', 'values', 'good', 'great', 'exposure', 'new', 'technologies', 'best', 'class', 'managers', 'coaching', 'good', 'opportunities', 'work', 'friendly', 'environment', 'good', 'lucky', 'get', 'good', 'coworkers', 'along', 'wonderful', 'managementgood', 'work', 'life', 'balanceflexible', 'working', 'hours', 'nice', 'atmosphere', 'work', 'easy', 'work', 'pressure', 'friendly', 'job', 'locationnice', 'atmosphere', 'work', 'easy', 'work', 'pressure', 'friendly', 'job', 'locationnice', 'atmosphere', 'work', 'easy', 'work', 'pressure', 'friendly', 'job', 'location', 'good', 'work', 'life', 'balance', 'good', 'work', 'life', 'balance', 'good', 'company', 'women', 'awesome', 'experience', 'working', 'accenture', 'accenture', 'place', 'started', 'professional', 'career', 'learnt', 'lot', 'really', 'thankful', 'brand', 'value', 'using', 'play', 'employees', 'career', 'good', 'company', 'work', 'lot', 'process', 'orientation', 'professionalism', 'client', 'culture', 'core', 'values', 'infrastructure', 'nice', 'place', 'work', 'learn', 'earn', 'great', 'opportunities', 'good', 'environment', 'workoppurtunities', 'groom', 'learn', 'new', 'technologyhike', 'much', 'better', 'service', 'based', 'companies', 'work', 'moneybench', 'life', 'best', 'cross', 'trainyou', 'definitely', 'learn', 'new', 'skillsthey', 'push', 'trainings', 'perkspackage', 'experiencedinfrastructuresome', 'projects', 'extremely', 'good', 'great', 'place', 'work', 'work', 'environmentfacilities', 'employees', 'good', 'good', 'start', 'fresher', 'company', 'defined', 'policies', 'good', 'implemented', 'work', 'awesome', 'place', 'work', 'good', 'place', 'learn', 'explore', 'good', 'company', 'good', 'work', 'life', 'balance', 'good', 'work', 'cultureample', 'opportunitiesgood', 'training', 'stuffscope', 'learning', 'awesome', 'work', 'environment', 'levels', 'work', 'culture', 'company', 'good', 'good', 'learn', 'new', 'technologies', 'eager', 'accept', 'new', 'generation', 'technology', 'plenty', 'projectsproject', 'specific', 'training', 'great', 'company', 'gives', 'opportunity', 'everyone', 'work', 'good', 'carrier', 'path', 'women', 'employees', 'work', 'especially', 'married', 'womens', 'company', 'focusing', 'lot', 'new', 'encouraging', 'employees', 'learn', 'new', 'technologies', 'decent', 'people', 'decent', 'growth', 'awareness', 'technology', 'good', 'work', 'culture', 'enviornment', 'worklife', 'balancegreat', 'place', 'learn', 'new', 'technologies', 'best', 'women', 'employees', 'friendly', 'work', 'environment', 'good', 'hike', 'percentage', 'actually', 'deserve', 'perfect', 'place', 'starter', 'start', 'work', 'life', 'personal', 'life', 'balance', 'productive', 'atomosphere', 'diversity', 'work', 'compensation', 'travel', 'love', 'great', 'place', 'start', 'career', 'developer', 'get', 'work', 'many', 'new', 'technologies', 'learning', 'program', 'one', 'best', 'offered', 'employee', 'management', 'goodcanteen', 'food', 'love', 'working', 'past', 'years', 'working', 'culture', 'good', 'ok', 'work', 'proper', 'monetary', 'benefits', 'flexible', 'compared', 'infosysctswiprogood', 'work', 'environmentincentives', 'freedom', 'speech', 'mange', 'work', 'life', 'balanceno', 'timingonsite', 'lucky', 'flexibility', 'work', 'leaves', 'work', 'life', 'balance', 'learn', 'proprietary', 'tools', 'placed', 'project', 'uses', 'flexibility', 'work', 'life', 'balanceoppurtunities', 'groom', 'learn', 'new', 'technology', 'get', 'work', 'fortune', 'clients', 'work', 'home', 'work', 'life', 'balance', 'good', 'salary', 'best', 'company', 'industry', 'works', 'policies', 'persons', 'one', 'best', 'place', 'work', 'good', 'company', 'work', 'good', 'opportunities', 'process', 'well', 'defined', 'good', 'hikesall', 'perks', 'mnc', 'good', 'environment', 'work', 'life', 'balance', 'due', 'cluster', 'system', 'less', 'time', 'spent', 'travel', 'amazing', 'work', 'opportunities', 'ambitiousgreat', 'team', 'good', 'exposure', 'fro', 'projects', 'crystal', 'clear', 'employee', 'friendly', 'policiesprocess', 'oriented', 'work', 'structuredecent', 'salary', 'good', 'work', 'culturework', 'life', 'balance', 'good', 'work', 'life', 'balance', 'flexibility', 'good', 'working', 'culture', 'free', 'cab', 'good', 'environmemt', 'work', 'work', 'different', 'projects', 'differnt', 'clientsdifferent', 'environments', 'good', 'teamwork', 'sure', 'looking', 'good', 'terms', 'project', 'mnc', 'culture', 'good', 'exposure', 'work', 'onshore', 'clients', 'good', 'processes', 'transportation', 'best', 'among', 'mass', 'recruiters', 'good', 'onshore', 'opportunity', 'free', 'transportation', 'nice', 'cafeteria', 'nice', 'work', 'life', 'balance', 'good', 'working', 'atmosphere', 'learning', 'environment', 'good', 'place', 'work', 'good', 'hike', 'great', 'learning', 'environmentmanagement', 'supporttransparent', 'policies', 'work', 'life', 'balance', 'nice', 'environment', 'work', 'provides', 'learning', 'opportunities', 'global', 'management', 'consulting', 'professional', 'firm', 'really', 'got', 'good', 'exposure', 'terms', 'knowledge', 'work', 'culture', 'cool', 'much', 'strictness', 'time', 'limit', 'considered', 'mnc', 'flexible', 'timinggood', 'work', 'environmentbalanced', 'social', 'work', 'life', 'depends', 'project', 'maximum', 'support', 'enhancements', 'projects', 'major', 'plus', 'point', 'punch', 'inout', 'idc', 'employees', 'challenging', 'work', 'environmentopportunity', 'get', 'aligned', 'mentor', 'helpful', 'throughout', 'current', 'future', 'careerlots', 'opportunity', 'learn', 'new', 'hot', 'skills', 'prevalent', 'analytics', 'industry', 'good', 'work', 'culture', 'process', 'working', 'environment', 'scope', 'learn', 'new', 'skills', 'emphasis', 'innovation', 'new', 'technology', 'good', 'worklife', 'balancegood', 'trainings', 'good', 'company', 'culture', 'skill', 'improvement', 'highly', 'flexible', 'excellent', 'work', 'environment', 'good', 'join', 'long', 'term', 'awesome', 'work', 'culture', 'decent', 'pay', 'great', 'people', 'good', 'work', 'finance', 'account', 'jobs', 'good', 'infrastructure', 'valuable', 'grow', 'company', 'job', 'security', 'work', 'life', 'balance', 'working', 'mothers', 'good', 'ambiance', 'work', 'facility', 'one', 'best', 'company', 'get', 'job', 'security', 'balance', 'professional', 'personal', 'life', 'easily', 'good', 'work', 'life', 'balance', 'positive', 'attitude', 'new', 'projects', 'etc', 'nice', 'company', 'brand', 'biggest', 'pros', 'gives', 'rigorous', 'training', 'freshers', 'putting', 'project', 'provides', 'good', 'learning', 'path', 'good', 'exposure', 'work', 'technology', 'greatly', 'depends', 'project', 'great', 'working', 'environmentintroduction', 'new', 'technologies', 'training', 'resources', 'gogreat', 'industry', 'standardsmanagement', 'great', 'place', 'work', 'best', 'place', 'women', 'high', 'growth', 'rate', 'excellent', 'team', 'members', 'new', 'technology', 'depends', 'project', 'good', 'work', 'life', 'balance', 'nice', 'place', 'work', 'good', 'ladies', 'good', 'flex', 'timings', 'depends', 'project', 'nice', 'good', 'place', 'work', 'work', 'cultureinfrastructureeverything', 'follows', 'standardsevents', 'recognitionrecreational', 'area', 'best', 'work', 'culture', 'lateral', 'joiners', 'given', 'good', 'packages', 'compared', 'tenured', 'employeesvery', 'easy', 'crack', 'interview', 'interviewer', 'lacks', 'knowledge', 'good', 'learn', 'new', 'things', 'best', 'company', 'work', 'great', 'place', 'great', 'people', 'organised', 'policies', 'driven', 'great', 'exposure', 'global', 'working', 'past', 'two', 'years', 'work', 'culture', 'good', 'people', 'supportive', 'friendly', 'nature', 'facility', 'provided', 'good', 'company', 'start', 'career', 'global', 'presence', 'enables', 'cross', 'cultural', 'networking', 'opportunities', 'great', 'culture', 'respect', 'integrity', 'collaborationcross', 'industry', 'roles', 'enables', 'person', 'get', 'skilled', 'across', 'various', 'domains', 'roles', 'skill', 'sets', 'technology', 'best', 'place', 'work', 'good', 'environment', 'management', 'work', 'place', 'teams', 'salary', 'time', 'learning', 'opportunity', 'good', 'hr', 'policies', 'good', 'management', 'perfect', 'place', 'work', 'flexibility', 'women', 'friendly', 'goal', 'centric', 'worked', 'accenture', 'years', 'great', 'company', 'work', 'want', 'learn', 'grow', 'career', 'lot', 'opportunities', 'career', 'growth', 'almost', 'every', 'field', 'good', 'salary', 'agile', 'methodology', 'good', 'work', 'culture', 'great', 'mentor', 'ship', 'previous', 'experience', 'software', 'testing', 'mechanical', 'engineer', 'mentor', 'taught', 'everything', 'getting', 'good', 'job', 'security', 'flexible', 'timings', 'good', 'salary', 'good', 'working', 'conditions', 'good', 'projects', 'good', 'work', 'environmentgood', 'facilitiesfreegym', 'shuttle', 'good', 'opportunities', 'learn', 'grow', 'good', 'companythere', 'always', 'lot', 'activities', 'parties', 'going', 'along', 'work', 'work', 'cultureemployee', 'benefitsgymcafeteriawork', 'life', 'balancework', 'home', 'supportonshore', 'benefits', 'accenture', 'best', 'company', 'grow', 'technicals', 'world', 'influential', 'mentor', 'go', 'high', 'working', 'culture', 'goodgood', 'policy', 'good', 'work', 'environment', 'one', 'explore', 'good', 'learning', 'start', 'career', 'best', 'work', 'life', 'balance', 'good', 'competitive', 'work', 'environmentgreat', 'opportunities', 'team', 'buildinggreat', 'learning', 'boards', 'made', 'available', 'lkm', 'team', 'good', 'team', 'culturebest', 'work', 'spacesgood', 'foodnice', 'verticalsgood', 'hiring', 'culture', 'nice', 'work', 'culture', 'learning', 'environment', 'friendly', 'people', 'best', 'place', 'workwork', 'life', 'balance', 'mention', 'feel', 'disappointed', 'right', 'day', 'good', 'training', 'set', 'employees', 'may', 'get', 'good', 'development', 'projects', 'technology', 'support', 'large', 'data', 'base', 'global', 'neteork', 'best', 'company', 'work', 'policies', 'well', 'implemented', 'need', 'remind', 'hr', 'guys', 'every', 'thengood', 'work', 'environment', 'good', 'work', 'culture', 'value', 'every', 'employee', 'good', 'work', 'life', 'balance', 'hope', 'gets', 'better', 'everyday', 'god', 'benefits', 'good', 'culture', 'emphasis', 'innovation', 'good', 'opportunities', 'growth', 'work', 'hard', 'freshers', 'accenture', 'ensures', 'good', 'learning', 'exposure', 'reasonably', 'good', 'hike', 'pay', 'scale', 'compared', 'work', 'environment', 'work', 'ethics', 'good', 'good', 'work', 'culture', 'supportive', 'coulliges', 'good', 'joining', 'fresher', 'work', 'environment', 'goodsenior', 'always', 'helpful', 'career', 'growth', 'good', 'working', 'enviorment', 'balance', 'work', 'life', 'good', 'opportunity', 'become', 'lead', 'good', 'work', 'place', 'supportive', 'employees', 'competent', 'pay', 'good', 'work', 'place', 'structured', 'policies', 'women', 'friendly', 'great', 'place', 'work', 'opportunities', 'good', 'policies', 'encourages', 'innovation', 'automation', 'good', 'work', 'culture', 'work', 'home', 'culture', 'good', 'company', 'work', 'learn', 'nice', 'work', 'environmentgreat', 'coworkersflexible', 'managementlots', 'employee', 'benefit', 'plansprofessional', 'environment', 'friendly', 'environmentgood', 'career', 'opportunities', 'good', 'annually', 'hidework', 'life', 'balance', 'good', 'exposure', 'travel', 'client', 'sites', 'work', 'culture', 'good', 'hike', 'also', 'good', 'overall', 'nice', 'place', 'work', 'lot', 'opportunities', 'latest', 'technologies', 'work', 'environment', 'chances', 'growing', 'career', 'learning', 'different', 'technologies', 'good', 'projects', 'best', 'class', 'learning', 'opportunity', 'upper', 'management', 'helpful', 'kind', 'good', 'work', 'life', 'balanceexcellent', 'policy', 'learning', 'certificationalways', 'ahead', 'market', 'terms', 'technology', 'nice', 'opportunities', 'within', 'organization', 'one', 'gets', 'truly', 'global', 'exposure', 'good', 'nice', 'environment', 'layoffs', 'cross', 'training', 'provided', 'great', 'work', 'job', 'security', 'great', 'workplace', 'environment', 'good', 'helpful', 'people', 'understanding', 'management', 'employee', 'friendly', 'environment', 'great', 'work', 'culture', 'plenty', 'opportunities', 'great', 'place', 'start', 'career', 'decent', 'pay', 'better', 'technology', 'services', 'company', 'job', 'security', 'good', 'organisation', 'work', 'believes', 'ideology', 'high', 'performance', 'delivered', 'great', 'opportunities', 'friendly', 'management', 'team', 'work', 'pay', 'scale', 'someone', 'ever', 'get', 'call', 'accenture', 'cut', 'call', '•', 'good', 'place', 'work', 'good', 'polishing', 'sm', 'shoes•', 'lot', 'opportunities•', 'good', 'compensation', 'organization', 'really', 'organized', 'goals', 'operationsthe', 'company', 'fair', 'compensation', 'well', 'operationif', 'good', 'visible', 'helps', 'grow', 'within', 'role', 'move', 'next', 'nice', 'working', 'environmentgood', 'teamall', 'colleague', 'helping', 'hands', 'accenture', 'mass', 'recruiter', 'helps', 'learn', 'new', 'things', 'really', 'want', 'explore', 'software', 'field', 'provides', 'good', 'learning', 'opportunity', 'work', 'home', 'optionflexible', 'work', 'timingsprocess', 'drivenbelieves', 'personal', 'time', 'support', 'employees', 'times', 'personal', 'crisis', 'culture', 'environmentprovide', 'free', 'shuttles', 'experienced', 'field', 'aml', 'kyc', 'process', 'clint', 'onboarding', 'period', 'years', 'year', 'experience', 'client', 'deutsche', 'bank', 'kyc', 'analyst', 'kyc', 'remediation', 'process', 'years', 'client', 'onboarding', 'process', 'uk', 'us', 'degy', 'regions', 'enthusiastic', 'professional', 'seeking', 'challenging', 'career', 'reputed', 'organization', 'knowledge', 'skills', 'recognized', 'greater', 'extent', 'freedom', 'work', 'independently', 'made', 'innovate', 'bring', 'lot', 'new', 'ideas', 'made', 'best', 'employee', 'people', 'value', 'oriented', 'firm', 'gives', 'equal', 'opportunity', 'rise', 'shine', 'career', 'professional', 'environment', 'helps', 'understand', 'perform', 'better', 'flexibility', 'healthy', 'environment', 'able', 'move', 'development', 'team', 'marketing', 'group', 'services', 'back', 'againflexibility', 'moving', 'technical', 'roles', 'project', 'management', 'roles', 'personnel', 'management', 'roles', 'large', 'companythe', 'technical', 'career', 'paths', 'extend', 'higher', 'companydiversity', 'coworkers', 'making', 'good', 'places', 'grow', 'collaborate', 'good', 'company', 'work', 'secured', 'job', 'fun', 'enjoyable', 'work', 'good', 'learning', 'environment', 'nice', 'organisation', 'grow', 'industry', 'great', 'experience', 'working', 'accenture', 'pune', 'great', 'core', 'values', 'great', 'projects', 'lots', 'learning', 'opportunities', 'good', 'work', 'culture', 'great', 'scope', 'explore', 'learn', 'good', 'start', 'fresher', 'policies', 'quality', 'work', 'opportunities', 'learn', 'environment', 'culture', 'strategy', 'good', 'good', 'company', 'good', 'environment', 'great', 'place', 'workpeaceful', 'friendly', 'work', 'environmentexcellent', 'support', 'responses', 'required', 'good', 'work', 'environment', 'lots', 'opportunities', 'women', 'good', 'onsite', 'opportunities', 'even', 'freshers', 'less', 'months', 'experiencelots', 'implementation', 'assignments', 'area', 'saplots', 'latest', 'technologies', 'available', 'learn', 'one', 'best', 'service', 'based', 'companies', 'work', 'employee', 'friendly', 'benefits', 'good', 'company', 'good', 'salarygood', 'management', 'restriction', 'dressingflexible', 'working', 'hours', 'vast', 'career', 'opportunities', 'across', 'multiple', 'domains', 'brand', 'name', 'top', 'class', 'employee', 'friendly', 'company', 'swipe', 'swipe', 'time', 'every', 'good', 'growth', 'freshers', 'medical', 'facility', 'trainings', 'na', 'nana', 'good', 'place', 'learn', 'start', 'career', 'good', 'salarynice', 'infrastructurehappy', 'people', 'nice', 'place', 'learn', 'new', 'things', 'upgrade', 'skills', 'good', 'working', 'culturemultiple', 'opportunitiesfantastic', 'exposure', 'global', 'clientgreat', 'suoportive', 'policies', 'women', 'employees', 'say', 'think', 'even', 'good', 'place', 'learn', 'new', 'things', 'nice', 'work', 'environmentgood', 'work', 'life', 'balance', 'excellent', 'work', 'environment', 'learning', 'growth', 'opportunities', 'good', 'one', 'good', 'experience', 'life', 'lots', 'projects', 'onsite', 'opportunitiesno', 'tracking', 'daily', 'timehighly', 'professional', 'employees', 'ratings', 'based', 'actual', 'work', 'rather', 'kissing', 'huge', 'companymany', 'projects', 'available', 'great', 'learning', 'opportunity', 'hired', 'ongoing', 'longterm', 'project', 'good', 'growth', 'opportunity', 'people', 'get', 'learn', 'new', 'technologies', 'awesome', 'work', 'culture', 'work', 'life', 'balance', 'flexibility', 'accenture', 'cares', 'employees', 'great', 'learning', 'environment', 'land', 'correct', 'project', 'team', 'always', 'look', 'openings', 'field', 'want', 'work', 'great', 'work', 'culture', 'better', 'mncs', 'wide', 'range', 'projects', 'latest', 'technologies', 'used', 'good', 'environment', 'friendly', 'management', 'good', 'company', 'work', 'good', 'salary', 'increment', 'free', 'shuttle', 'service', 'employees', 'flexible', 'working', 'depends', 'manager', 'lots', 'employee', 'benefits', 'good', 'employer', 'sharpening', 'skills', 'friendly', 'environment', 'great', 'people', 'great', 'work', 'enivernment', 'good', 'atmosphere', 'flexible', 'timings', 'versatile', 'diversified', 'work', 'profiles', 'rich', 'mix', 'creed', 'culture', 'pretty', 'smooth', 'time', 'working', 'accenture', 'work', 'timings', 'flexible', 'supervisor', 'supercool', 'better', 'work', 'life', 'promotions', 'counter', 'parts', 'tcs', 'infy', 'good', 'freshers', 'emphasis', 'training', 'nice', 'work', 'culture', 'organised', 'employee', 'friendly', 'excellent', 'work', 'culture', 'strong', 'house', 'trainings', 'continuously', 'hone', 'skills', 'new', 'technology', 'one', 'best', 'companies', 'work', 'lot', 'opportunities', 'grow', 'job', 'security', 'core', 'values', 'shuttles', 'available', 'place', 'around', 'bangalore', 'good', 'company', 'good', 'salary', 'good', 'health', 'plans', 'good', 'salary', 'normswork', 'environment', 'also', 'good', 'company', 'culture', 'brand', 'compensation', 'facilities', 'core', 'values', 'company', 'pros', 'cons', 'work', 'environment', 'good', 'professional', 'personal', 'life', 'balanced', 'flexibility', 'work', 'home', 'well', 'defined', 'policies', 'opportunities', 'challenging', 'roles', 'work', 'environment', 'good', 'policieswork', 'cultureemployee', 'friendlyhikesgood', 'thing', 'get', 'exposure', 'types', 'clients', 'across', 'globe', 'job', 'secure', 'mistakework', 'life', 'balancegood', 'salary', 'increment', 'good', 'environment', 'working', 'culture', 'parties', 'nice', 'infrastructurenice', 'canteenwith', 'facilities', 'youll', 'get', 'lot', 'opportunities', 'options', 'variety', 'new', 'trendy', 'technologies', 'learn', 'sharp', 'skill', 'liberal', 'company', 'great', 'compensation', 'great', 'benefits', 'good', 'platform', 'enhance', 'tech', 'skills', 'knowledge', 'best', 'workculture', 'prefered', 'shifts', 'good', 'team', 'members', 'one', 'receive', 'proper', 'recognitions', 'heshe', 'deserve', 'good', 'enough', 'build', 'proper', 'rapportyou', 'may', 'get', 'flexibility', 'timings', 'flexible', 'work', 'optionsexcellent', 'technology', 'exposure', 'one', 'best', 'companies', 'start', 'career', 'good', 'knowledge', 'areasstrong', 'knowledge', 'processgood', 'work', 'environmenthaving', 'good', 'support', 'managementgetting', 'promotions', 'good', 'hike', 'comparing', 'companieschance', 'learn', 'process', 'even', 'foreign', 'languages', 'good', 'projects', 'work', 'good', 'work', 'environment', 'easy', 'work', 'life', 'balanceemployee', 'benefitsgood', 'hike', 'growthno', 'strict', 'timingsstable', 'jobtrainings', 'learn', 'new', 'technology', 'less', 'work', 'pressuregood', 'company', 'culture', 'good', 'environment', 'employee', 'super', 'friendly', 'got', 'opportunity', 'work', 'talented', 'peoplesalary', 'benefits', 'good', 'work', 'culture', 'fairly', 'nice', 'good', 'working', 'environment', 'less', 'work', 'load', 'overall', 'best', 'place', 'learn', 'new', 'things', 'good', 'working', 'environmentsafe', 'women', 'employeesgood', 'transport', 'facility', 'good', 'package', 'good', 'joining', 'bonus', 'employee', 'friendly', 'good', 'work', 'good', 'pay', 'nice', 'company', 'work', 'india', 'good', 'opportunities', 'learn', 'lot', 'flexible', 'work', 'multiple', 'locations', 'good', 'transport', 'facilities', 'multiple', 'roles', 'play', 'good', 'place', 'workoholics', 'nice', 'company', 'good', 'hr', 'policies', 'good', 'strategy', 'interview', 'process', 'good', 'internal', 'facilities', 'employees', 'hot', 'skill', 'bonus', 'employees', 'niche', 'skills', 'internal', 'movement', 'easy', 'lot', 'projects', 'quarterly', 'budget', 'goodies', 'snacks', 'team', 'lunch', 'outing', 'quality', 'processes', 'infrastructure', 'cabs', 'nice', 'cafeteria', 'good', 'chances', 'onsite', 'assignment', 'work', 'life', 'balancegreat', 'colleagues', 'depends', 'project', 'project', 'evolving', 'work', 'culture', 'training', 'also', 'top', 'class', 'good', 'learning', 'opportunities', 'change', 'skill', 'good', 'teams', 'project', 'works', 'good', 'hike', 'atmosphere', 'good', 'transportion', 'really', 'good', 'employee', 'friendly', 'people', 'oriented', 'orgnaization', 'lot', 'projects', 'choose', 'location', 'restrictions', 'employee', 'friendly', 'work', 'life', 'balance', 'good', 'great', 'work', 'environment', 'great', 'learning', 'atmosphere', 'new', 'technologies', 'best', 'place', 'freshers', 'good', 'beginners', 'learn', 'skills', 'understand', 'corporate', 'culturelot', 'training', 'available', 'classroom', 'online', 'improve', 'knowledgethere', 'onsite', 'opportunities', 'work', 'show', 'talent', 'managerwork', 'life', 'balance', 'depend', 'project', 'project', 'good', 'company', 'long', 'term', 'plans', 'great', 'work', 'life', 'balance', 'employee', 'friendly', 'companyplenty', 'opportunities', 'learn', 'via', 'freepaid', 'training', 'provided', 'different', 'domainallows', 'employees', 'donate', 'leaves', 'colleaguespick', 'drop', 'facility', 'provided', 'shift', 'timingsone', 'best', 'companies', 'female', 'employees', 'plenty', 'benefits', 'provided', 'stable', 'job', 'good', 'learning', 'good', 'company', 'learn', 'change', 'skills', 'like', 'wanted', 'good', 'balance', 'work', 'life', 'lot', 'resources', 'building', 'technically', 'good', 'location', 'stateoftheart', 'offices', 'nice', 'facilities', 'gave', 'first', 'opportunity', 'newbie', 'interview', 'process', 'easy', 'hence', 'fills', 'young', 'adults', 'hopes', 'future', 'good', 'work', 'life', 'balance', 'learning', 'opportunity', 'employee', 'friendly', 'policies', 'new', 'technologies', 'new', 'innovations', 'projectoriented', 'worklife', 'balancebetter', 'increment', 'compares', 'otherstcs', 'cts', 'infy', 'well', 'pros', 'cons', 'depends', 'upon', 'project', 'supervisor', 'helpful', 'environment', 'training', 'even', 'got', 'trained', 'depend', 'upon', 'supervisor', 'help', 'sort', 'project', 'good', 'managers', 'consultant', 'good', 'workplace', 'culturemore', 'options', 'learn', 'new', 'things', 'free', 'certificationseasy', 'switch', 'technologies', 'great', 'team', 'good', 'learning', 'processes', 'place', 'tool', 'technologies', 'top', 'notch', 'great', 'opportunity', 'new', 'joiners', 'good', 'working', 'environment', 'wide', 'area', 'approchable', 'worked', 'accenture', 'years', 'currently', 'employed', 'good', 'variety', 'projects', 'one', 'gets', 'exposure', 'variety', 'roles', 'high', 'professional', 'etiquette', 'get', 'decent', 'onshore', 'exposure', 'completely', 'depends', 'project', 'get', 'feel', 'working', 'mnc', 'across', 'globecross', 'culture', 'learn', 'art', 'getting', 'things', 'successfully', 'done', 'really', 'matters', 'ethics', 'high', 'company', 'lots', 'industry', 'wide', 'technology', 'trainingshackathonscompetitions', 'etc', 'keeps', 'happening', 'one', 'good', 'part', 'youre', 'stuck', 'bad', 'project', 'need', 'patience', 'get', 'words', 'know', 'light', 'end', 'tunnel', 'smaller', 'companies', 'get', 'stuck', 'bad', 'project', 'may', 'stuck', 'without', 'options', 'work', 'ai', 'side', 'team', 'work', 'lots', 'avenues', 'taking', 'initiatives', 'good', 'work', 'environmentwfhgood', 'manager', 'good', 'cultureteam', 'work', 'work', 'life', 'balance', 'latest', 'technology', 'good', 'work', 'environment', 'infrastructure', 'lot', 'projectslearn', 'lotnew', 'technologies', 'learneasy', 'approach', 'managementgood', 'respectful', 'culture', 'good', 'organization', 'learning', 'growing', 'perksemployeessalary', 'timeno', 'work', 'load', 'good', 'training', 'sap', 'abapworklife', 'balancehad', 'good', 'mentor', 'first', 'team', 'lead', 'policies', 'nice', 'employee', 'treat', 'every', 'employee', 'nice', 'company', 'freshers', 'start', 'career', 'get', 'comfort', 'need', 'settle', 'within', 'easily', 'settleforget', 'career', 'plans', 'great', 'opportunities', 'explore', 'technologies', 'great', 'opportunities', 'explore', 'technologies', 'good', 'hike', 'one', 'timefree', 'shuttle', 'servicesfriendly', 'employees', 'best', 'benefits', 'provided', 'compared', 'outsourcing', 'firms', 'ok', 'ok', 'experience', 'overall', 'great', 'lots', 'cons', 'good', 'culture', 'friendly', 'management', 'work', 'home', 'allowed', 'growing', 'organisation', 'good', 'hikes', 'work', 'environment', 'employee', 'friendly', 'employees', 'works', 'satisfaction', 'good', 'company', 'terms', 'work', 'culture', 'balance', 'employee', 'friendly', 'work', 'life', 'balance', 'good', 'freshers', 'know', 'abc', 'computer', 'learn', 'something', 'computers', 'accentureaccenture', 'helps', 'us', 'talk', 'people', 'various', 'background', 'like', 'biotechnology', 'biochemistry', 'civil', 'mechnical', 'etc', 'employees', 'flexibility', 'regarding', 'working', 'hours', 'good', 'shuttle', 'cab', 'facilityencouragements', 'new', 'innovations', 'good', 'company', 'kick', 'start', 'career', 'nice', 'place', 'work', 'career', 'growth', 'great', 'company', 'work', 'learn', 'lot', 'new', 'things', 'part', 'accenture', 'work', 'life', 'balance', 'culture', 'compensation', 'location', 'transportation', 'healthy', 'work', 'environment', 'friendly', 'managementjob', 'securitylots', 'learning', 'opportunities', 'first', 'company', 'much', 'satisfied', 'work', 'salary', 'employee', 'benefits', 'work', 'life', 'balance', 'free', 'transport', 'everything', 'good', 'lots', 'project', 'one', 'hardly', 'bench', 'best', 'work', 'life', 'balance', 'good', 'good', 'environment', 'office', 'good', 'services', 'based', 'company', 'lot', 'deep', 'dive', 'technology', 'organisation', 'accenture', 'best', 'employee', 'friendlywork', 'home', 'based', 'projectexposure', 'new', 'technology', 'great', 'place', 'start', 'good', 'company', 'work', 'decent', 'environment', 'sometimes', 'workload', 'looks', 'great', 'resume', 'build', 'skills', 'quickly', 'nice', 'learning', 'growth', 'new', 'opportunity', 'work', 'friendly', 'environment', 'best', 'people', 'friendly', 'environment', 'lot', 'learn', 'fresher', 'get', 'good', 'project', 'employee', 'friendly', 'initiatives', 'policies', 'everything', 'depends', 'projects', 'good', 'transport', 'facility', 'canteen', 'best', 'terms', 'quality', 'servicegood', 'infrastructer', 'overall', 'good', 'admin', 'facilities', 'great', 'work', 'environment', 'mostly', 'work', 'life', 'balance', 'equilibrium', 'cab', 'facilities', 'cafeteria', 'wonderful', 'affordable', 'prices', 'salary', 'lateral', 'join', 'good', 'good', 'work', 'culturesupportive', 'peer', 'groupbrand', 'valuework', 'life', 'balancedecent', 'salary', 'increments', 'passionate', 'learning', 'new', 'tool', 'technology', 'accenture', 'passionatly', 'supports', 'worst', 'though', 'lot', 'left', 'good', 'managers', 'projects', 'great', 'onsite', 'opportunityteam', 'leads', 'level', 'persons', 'good', 'helpful', 'good', 'work', 'life', 'balance', 'work', 'culturegreat', 'place', 'workgood', 'technical', 'exposure', 'best', 'team', 'work', 'within', 'good', 'culture', 'work', 'life', 'balance', 'good', 'felixblilty', 'move', 'across', 'vertical', 'domainsleading', 'digital', 'space', 'overall', 'good', 'experience', 'accenture', 'good', 'learn', 'new', 'stuffs', 'professionally', 'great', 'working', 'environment', 'colleagues', 'helpful', 'exhibit', 'good', 'team', 'spirit', 'good', 'name', 'industry', 'multinational', 'company', 'thus', 'opportunity', 'onshore', 'opportunities', 'competitive', 'package', 'events', 'wide', 'array', 'technologies', 'great', 'learning', 'experience', 'employees', 'experts', 'fields', 'energetic', 'collaborative', 'team', 'members', 'good', 'company', 'work', 'flexibility', 'work', 'home', 'work', 'life', 'balance', 'salary', 'time', 'get', 'paid', 'second', 'last', 'day', 'month', 'hr', 'friendly', 'always', 'helpul', 'job', 'safety', 'good', 'yearly', 'hike', 'work', 'driven', 'atmosphere', 'peoplework', 'environmentstandardsopportunities', 'learn', 'new', 'technologies', 'good', 'copensations', 'hike', 'else', 'nice', 'working', 'environment', 'employee', 'friendly', 'want', 'work', 'accenture', 'grow', 'technical', 'skills', 'help', 'gain', 'lot', 'knowledge', 'lot', 'projectsbetter', 'hikes', 'compared', 'service', 'companies', 'good', 'place', 'learnmany', 'projects', 'good', 'company', 'learn', 'latest', 'technologies', 'bunch', 'projects', 'work', 'get', 'good', 'exposure', 'company', 'moving', 'toward', 'automation', 'innovation', 'ideas', 'client', 'engagements', 'good', 'future', 'growth', 'employees', 'working', 'iin', 'good', 'place', 'works', 'atmosphere', 'good', 'work', 'culture', 'opportunity', 'learn', 'grow', 'best', 'work', 'ethics', 'support', 'good', 'response', 'even', 'resigning', 'get', 'experience', 'certificate', 'later', 'purpose', 'get', 'visa', 'new', 'company', 'final', 'settlement', 'quickbut', 'expected', 'response', 'mnc', 'like', 'accetnure', 'work', 'years', 'checks', 'cons', 'work', 'life', 'balance', 'good', 'company', 'ample', 'opportunity', 'learn', 'growmanagers', 'hr', 'reachable', 'kind', 'querieswork', 'life', 'balance', 'greatly', 'maintained', 'get', 'good', 'project', 'banking', 'domain', 'preferable', 'join', 'may', 'get', 'joining', 'bonus', 'applicable', 'fixedleave', 'encashment', 'based', 'fixed', 'salaryunique', 'policy', 'wonderful', 'team', 'culture', 'strong', 'values', 'multi', 'national', 'good', 'processes', 'procedures', 'spend', 'lot', 'time', 'money', 'training', 'lot', 'focus', 'digital', 'analytics', 'work', 'great', 'place', 'learn', 'work', 'good', 'work', 'atmospheregood', 'amenities', 'almost', 'everything', 'good', 'accenture', 'one', 'best', 'companies', 'work', 'self', 'paced', 'training', 'process', 'oriented', 'balanced', 'life', 'employee', 'friendly', 'equal', 'opportunity', 'learn', 'unbiased', 'best', 'culture', 'values', 'best', 'collaboration', 'people', 'engagements', 'work', 'excellent', 'place', 'start', 'freshergood', 'pay', 'hike', 'becoming', 'indian', 'indian', 'company', 'mnc', 'culture', 'getting', 'obsolete', 'best', 'place', 'workexcellent', 'care', 'peopleexcellent', 'policies', 'people', 'depends', 'project', 'manager', 'work', 'first', 'manager', 'made', 'work', 'hours', 'day', 'second', 'one', 'pretty', 'chilled', 'good', 'nature', 'team', 'second', 'project', 'work', 'culture', 'work', 'life', 'balance', 'inclusive', 'environment', 'helps', 'person', 'grow', 'decent', 'pay', 'package', 'hikes', 'per', 'market', 'standard', 'good', 'learning', 'oppurtunity', 'one', 'get', 'cross', 'trained', 'new', 'technology', 'lacks', 'real', 'implementation', 'exposure', 'papers', 'ppt', 'havent', 'happy', 'companythis', 'company', 'encourages', 'employee', 'harrassments', 'good', 'work', 'atmosphere', 'women', 'friendly', 'company', 'employee', 'friendlyfree', 'transport', 'facility', 'free', 'shuttle', 'cab', 'service', 'best', 'core', 'values', 'company', 'stick', 'facilities', 'good', 'best', 'place', 'learn', 'good', 'stable', 'processes', 'work', 'culture', 'salary', 'environment', 'friendly', 'hikes', 'hike', 'good', 'compared', 'indian', 'mncs', 'good', 'culturehard', 'work', 'give', 'recognition', 'infrasrtucture', 'infrastructure', 'management', 'networking', 'system', 'administration', 'technical', 'support', 'implementation', 'good', 'appraisalmanager', 'team', 'lead', 'supportiveno', 'time', 'constraint', 'depens', 'upon', 'project', 'work', 'liberty', 'good', 'compnay', 'workgood', 'environment', 'good', 'cafeteria', 'highly', 'process', 'oriented', 'one', 'best', 'companies', 'work', 'fresher', 'experienced', 'professional', 'transport', 'facility', 'goodlots', 'good', 'projects', 'accenture', 'old', 'clients', 'using', 'outdated', 'technologyflexible', 'working', 'hours', 'managers', 'exposure', 'current', 'technology', 'compared', 'mncs', 'worklife', 'balance', 'team', 'outings', 'social', 'life', 'work', 'culture', 'good', 'learning', 'opportunity', 'job', 'security', 'training', 'new', 'technologies', 'good', 'growth', 'good', 'hike', 'nice', 'working', 'environment', 'micromanagement', 'best', 'leaders', 'train', 'coach', 'new', 'leaders', 'get', 'learn', 'best', 'industry', 'good', 'work', 'envoinmentfriendely', 'atmosphere', 'good', 'growthgood', 'workgood', 'hikegood', 'vacation', 'time', 'ethical', 'company', 'competitive', 'renumeration', 'good', 'hike', 'people', 'get', 'promoted', 'work', 'culture', 'nice', 'lot', 'career', 'opportunities', 'friendly', 'environment', 'many', 'onshore', 'opportunitiesagain', 'depends', 'project', 'project', 'great', 'company', 'policies', 'freedom', 'work', 'anywhere', 'including', 'unlimited', 'work', 'home', 'accenture', 'market', 'leader', 'supply', 'chain', 'consulting', 'well', 'client', 'base', 'consists', 'best', 'companies', 'market', 'good', 'company', 'lots', 'opportunity', 'good', 'paygood', 'policies', 'respectful', 'environment', 'best', 'talent', 'peers', 'work', 'home', 'good', 'working', 'accenture', 'team', 'great', 'teamvery', 'flexible', 'timingsgood', 'worklife', 'balancecomprehensive', 'trainings', 'skill', 'development', 'good', 'care', 'employees', 'good', 'opportunities', 'work', 'life', 'balance', 'accenture', 'plethora', 'good', 'projects', 'good', 'anyone', 'seeking', 'expertise', 'latest', 'technologies', 'well', 'consulting', 'good', 'work', 'lots', 'order', 'co', 'brand', 'reputation', 'high', 'company', 'wise', 'good', 'work', 'life', 'balance', 'expected', 'learning', 'growth', 'leavespayroll', 'variables', 'teammates', 'cafeterias', 'excellent', 'exposure', 'emerging', 'technologies', 'average', 'salary', 'hike', 'best', 'freshers', 'immense', 'oppportunities', 'employee', 'safety', 'concern', 'good', 'work', 'life', 'balance', 'opportunity', 'learning', 'explore', 'self', 'get', 'great', 'work', 'environment', 'projects', 'good', 'work', 'work', 'life', 'balance', 'goodcultureflexible', 'timing', 'flexible', 'work', 'hours', 'perks', 'good', 'place', 'kickstart', 'career', 'lot', 'opportunities', 'get', 'trained', 'get', 'certificates', 'great', 'place', 'learn', 'good', 'culture', 'values', 'nice', 'welcoming', 'people', 'open', 'work', 'culture', 'freedom', 'work', 'home', 'good', 'projects', 'choose', 'good', 'culture', 'good', 'work', 'one', 'biggest', 'software', 'services', 'company', 'good', 'benefits', 'enviornment', 'friendly', 'colleagues', 'friendly', 'work', 'environment', 'free', 'cab', 'service', 'flexible', 'work', 'timings', 'based', 'projects', 'good', 'working', 'environmentgreat', 'place', 'learn', 'new', 'things', 'excellent', 'work', 'place', 'great', 'place', 'grow', 'career', 'good', 'promotion', 'chances', 'better', 'projects', 'compared', 'service', 'based', 'companies', 'global', 'brand', 'good', 'resume', 'building', 'attarctive', 'salaryvariable', 'pay', 'range', 'ann', 'pay', 'twice', 'year', 'jun', 'dec', 'month', 'variable', 'pay', 'payout', 'holding', 'next', 'three', 'month', 'means', 'monthly', 'varaible', 'payout', 'month', 'good', 'managementfriendly', 'atmosphere', 'work', 'transport', 'good', 'punctual', 'good', 'foundation', 'programme', 'beginnerscredits', 'given', 'learning', 'management', 'team', 'maximum', 'projects', 'supportedenhancement', 'projects', 'addition', 'new', 'automation', 'existing', 'system', 'expect', 'work', 'shifts', 'job', 'monitoring', 'report', 'extractions', 'tickets', 'monitoring', 'distribution', 'sponsors', 'training', 'outside', 'institutesfree', 'transportpredefined', 'appraisal', 'period', 'manager', 'delay', 'itok', 'salary', 'less', 'work', 'good', 'flexibility', 'senior', 'level', 'employees', 'yearsgood', 'salary', 'freshers', 'compared', 'mncs', 'friendly', 'management', 'conduct', 'many', 'events', 'salary', 'better', 'avg', 'market', 'rate', 'lateral', 'hireprocesses', 'transparent', 'except', 'appraisal', 'changes', 'per', 'mgt', 'discretionwork', 'culture', 'good', 'good', 'work', 'get', 'right', 'project', 'nice', 'worked', 'location', 'preference', 'healthy', 'environment', 'good', 'compensation', 'lots', 'trainings', 'pros', 'positive', 'better', 'compared', 'pure', 'indian', 'service', 'companies', 'good', 'clients', 'decent', 'pay', 'good', 'career', 'opportunities', 'project', 'gives', 'enough', 'time', 'resources', 'learn', 'resourcesif', 'lucky', 'get', 'good', 'project', 'experienced', 'knowledgeable', 'seniors', 'could', 'one', 'best', 'place', 'start', 'career', 'easy', 'get', 'pick', 'drop', 'shuttle', 'service', 'nice', 'pay', 'great', 'place', 'work', 'awesome', 'people', 'great', 'opportunities', 'learning', 'big', 'thumbs', 'work', 'culture', 'flexibility', 'accenture', 'work', 'hard', 'party', 'harder', 'culture', 'makes', 'employee', 'committed', 'work', 'gives', 'homely', 'feeling', 'highly', 'recommended', 'people', 'seeking', 'opportunities', 'growth', 'solely', 'potential', 'basis', 'challenging', 'engaging', 'workfocus', 'goalsgreat', 'team', 'structures', 'friendly', 'environment', 'job', 'security', 'great', 'team', 'members', 'good', 'place', 'work', 'women', 'friendly', 'process', 'oriented', 'company', 'good', 'working', 'conditions', 'good', 'projects', 'variety', 'projects', 'available', 'immerse', 'technology', 'vast', 'great', 'company', 'work', 'good', 'salary', 'proper', 'training', 'awsome', 'collegue', 'good', 'chances', 'grow', 'good', 'people', 'good', 'processes', 'good', 'learning', 'knowledgement', 'management', 'work', 'culture', 'ambiance', 'allowance', 'hike', 'good', 'things', 'depends', 'project', 'best', 'plaece', 'workemployee', 'friendly', 'survivors', 'paradise', 'time', 'salary', 'good', 'work', 'life', 'balance', 'supportive', 'people', 'explore', 'technical', 'skills', 'good', 'place', 'work', 'people', 'work', 'culture', 'general', 'good', 'good', 'trainings', 'project', 'outings', 'social', 'activities', 'great', 'people', 'great', 'office', 'space', 'good', 'environment', 'fun', 'workplace', 'training', 'comprehensive', 'good', 'people', 'coworkers', 'easy', 'process', 'strict', 'process', 'policy', 'long', 'right', 'thing', 'newcomer', 'probably', 'best', 'company', 'learning', 'training', 'management', 'step', 'ahead', 'companies', 'yes', 'grate', 'management', 'support', 'great', 'place', 'worklearn', 'new', 'thing', 'enhance', 'knowledge', 'great', 'client', 'work', 'great', 'people', 'work', 'good', 'place', 'worknice', 'team', 'flexibility', 'work', 'home', 'shuttle', 'service', 'free', 'cost', 'good', 'technologiesvery', 'good', 'clients', 'get', 'chance', 'workwill', 'get', 'days', 'accommodation', 'staring', 'career', 'work', 'culture', 'amazing', 'growth', 'wise', 'good', 'company', 'good', 'project', 'good', 'paid', 'training', 'learning', 'program', 'work', 'culture', 'flexibility', 'ethics', 'good', 'healthy', 'working', 'environment', 'good', 'work', 'life', 'balanceget', 'ample', 'upskill', 'good', 'work', 'environment', 'good', 'benefits', 'accenture', 'one', 'good', 'company', 'work', 'withwork', 'environment', 'coollife', 'accenture', 'chill', 'respect', 'individualgood', 'team', 'work', 'nice', 'working', 'place', 'friendly', 'environment', 'flexible', 'terms', 'time', 'place', 'workcooperative', 'leadershipopportunity', 'move', 'across', 'teams', 'locations', 'good', 'work', 'opportunitiesgood', 'pay', 'good', 'place', 'learn', 'work', 'high', 'work', 'life', 'balance', 'global', 'brand', 'work', 'life', 'balance', 'good', 'work', 'culture', 'good', 'need', 'work', 'diverse', 'culture', 'people', 'best', 'place', 'work', 'workig', 'environment', 'helpful', 'peoplegood', 'annual', 'hike', 'new', 'technologies', 'great', 'place', 'work', 'work', 'independently', 'micro', 'managementgrowth', 'years', 'avg', 'annual', 'increment', 'happens', 'regularly', 'salary', 'time', 'sometimes', 'day', 'pay', 'day', 'case', 'last', 'working', 'day', 'holiday', 'great', 'remuneration', 'packagegreat', 'diversity', 'inclusion', 'floor', 'great', 'scope', 'learning', 'development', 'overall', 'one', 'best', 'places', 'work', 'brand', 'good', 'culture', 'far', 'know', 'work', 'life', 'balance', 'salary', 'time', 'opportunity', 'growthemployee', 'care', 'great', 'policies', 'everything', 'company', 'good', 'good', 'exposure', 'technologies', 'lot', 'locations', 'work', 'learning', 'depends', 'type', 'project', 'inlot', 'opportunitiesgood', 'hike', 'compared', 'service', 'based', 'company', 'best', 'corporate', 'platform', 'fresher', 'begin', 'withlots', 'traininglots', 'skillset', 'wide', 'range', 'choose', 'equality', 'good', 'environment', 'learning', 'opportunities', 'growth', 'learning', 'whole', 'lot', 'opportunitiesi', 'learnt', 'professionalism', 'easy', 'waymany', 'training', 'availableevery', 'policy', 'well', 'documented', 'one', 'dictate', 'anything', 'premise', 'policy', 'always', 'cross', 'check', 'question', 'flexi', 'work', 'environmentawesome', 'work', 'cultureamazing', 'employee', 'benefitshelpful', 'leadershipcooperative', 'hrlogical', 'sensible', 'managers', 'advanced', 'tools', 'cab', 'facility', 'good', 'big', 'brand', 'work', 'culture', 'facilities', 'opportunities', 'different', 'domain', 'new', 'tools', 'trainings', 'presents', 'demanding', 'situations', 'thirst', 'challengeshighly', 'matrix', 'environment', 'kindles', 'intrapreneurshipgood', 'employment', 'policies', 'remuneration', 'leaves', 'mentorshipoffers', 'competitive', 'package', 'compared', 'market', 'work', 'life', 'balance', 'great', 'training', 'good', 'company', 'many', 'benefits', 'micromanagement', 'even', 'freshers', 'given', 'chance', 'represent', 'accenture', 'listenedonly', 'speak', 'working', 'super', 'great', 'technologies', 'excellent', 'company', 'work', 'good', 'work', 'balance', 'good', 'inclusive', 'cultureawesome', 'workplace', 'cafeteria', 'big', 'organization', 'get', 'lot', 'projects', 'good', 'learning', 'opportunitiesflexibility', 'based', 'manager', 'approval', 'helps', 'work', 'life', 'balance', 'good', 'work', 'environmentgood', 'peersonsite', 'opportunities']\n"
     ]
    }
   ],
   "source": [
    "print(filtered_pos_words)"
   ]
  },
  {
   "cell_type": "code",
   "execution_count": 93,
   "metadata": {
    "collapsed": true
   },
   "outputs": [],
   "source": [
    "filtered_con_words = []\n",
    "\n",
    "for word in con_words:\n",
    "    if word not in stopwords:\n",
    "        filtered_con_words.append(word)\n",
    "        "
   ]
  },
  {
   "cell_type": "code",
   "execution_count": 94,
   "metadata": {},
   "outputs": [
    {
     "name": "stdout",
     "output_type": "stream",
     "text": [
      "['people', 'deserves', 'promotion', 'gets', 'month', 'notice', 'period', 'stupid', 'mercilessheartless', 'manager', 'always', 'like', 'screw', 'resourcesdumb', 'tl', 'dont', 'power', 'never', 'support', 'resourcesthey', 'always', 'polish', 'manager', 'shoes', 'listen', 'says', 'good', 'cons', 'really', 'cons', 'best', 'work', 'fresher', 'dont', 'rights', 'choose', 'streamyou', 'trained', 'java', 'working', 'support', 'team', 'like', 'bpopoltics', 'compensation', 'growth', 'less', 'people', 'joining', 'freshers', 'fresher', 'go', 'accenture', 'need', 'equal', 'opportunity', 'new', 'joinees', 'project', 'low', 'visibility', 'recognition', 'transparent', 'rating', 'system', 'since', 'service', 'based', 'company', 'salary', 'less', 'good', 'fresherschanging', 'policies', 'local', 'management', 'variable', 'pay', 'designation', 'mobility', 'working', 'hours', 'promotion', 'get', 'faster', 'much', 'advice', 'good', 'company', 'career', 'path', 'well', 'definedinter', 'business', 'transfers', 'better', 'low', 'flexibility', 'hours', 'choose', 'field', 'like', 'lottery', 'first', 'company', 'hikes', 'low', 'promotion', 'expect', 'hike', 'good', 'hike', 'provided', 'less', 'recognition', 'qualified', 'candidate', 'work', 'salary', 'offered', 'existing', 'employees', 'promotions', 'getting', 'tight', 'every', 'year', 'less', 'opportunities', 'implementing', 'innovative', 'solutions', 'noticed', 'difficult', 'move', 'project', 'sometimes', 'work', 'schedule', 'hectic', 'end', 'day', 'one', 'get', 'satisfied', 'quality', 'work', 'join', 'accenture', 'fresher', 'salary', 'growth', 'average', 'good', 'company', 'lateral', 'hires', 'cons', 'accenture', 'dont', 'con', 'little', 'politics', 'support', 'projects', 'bit', 'low', 'technical', 'thingsmany', 'dumb', 'guys', 'around', 'bad', 'project', 'life', 'goneappraisal', 'needs', 'employee', 'friendlyhikes', 'reduced', 'compared', 'previous', 'yearshb', 'reduced', 'lot', 'much', 'intake', 'work', 'force', 'placed', 'bench', 'slow', 'growth', 'otherwise', 'good', 'one', 'say', 'experienced', 'wrong', 'managers', 'organization', 'years', 'accenture', 'evaluate', 'old', 'employees', 'evrything', 'good', 'ecofriendly', 'world', 'bureaucracy', 'difficult', 'get', 'projects', 'new', 'employees', 'middle', 'management', 'politics', 'challenging', 'work', 'environment', 'cons', 'travelling', 'pain', 'bangalore', 'think', 'moment', 'year', 'end', 'hike', 'bonus', 'depends', 'manager', 'project', 'project', 'pipe', 'line', 'tough', 'times', 'location', 'priority', 'given', 'technology', 'provided', 'random', 'basis', 'say', 'anything', 'lot', 'trainings', 'need', 'follow', 'parallely', 'specific', 'good', 'company', 'work', 'respect', 'individuals', 'missing', 'work', 'life', 'balance', 'nowgood', 'place', 'work', 'cons', 'perspective', 'actually', 'long', 'get', 'good', 'team', 'shift', 'timings', 'hrs', 'career', 'opportunities', 'depend', 'project', 'politics', 'managers', 'level', 'favourism', 'opportunities', 'experienced', 'far', 'concerns', 'taken', 'care', 'management', 'mention', 'company', 'initial', 'compensation', 'less', 'compared', 'competitors', 'hing', 'think', 'experience', 'matters', 'promotion', 'cost', 'cutting', 'reduced', 'standards', 'keep', 'go', 'late', 'promotion', 'flexible', 'work', 'options', 'projects', 'work', 'culture', 'work', 'balance', 'good', 'senior', 'management', 'also', 'good', 'onsite', 'offerings', 'dependent', 'higher', 'management', 'entities', 'performance', 'appraisal', 'actually', 'based', 'performance', 'hr', 'bench', 'leads', 'difficult', 'reach', 'onsite', 'opportunities', 'found', 'yet', 'issue', 'company', 'see', 'cons', 'company', 'faced', 'good', 'envoirnment', 'working', 'working', 'environment', 'good', 'leads', 'wants', 'know', 'everything', 'like', 'school', 'challenge', 'first', 'job', 'accenture', 'learned', 'lot', 'cafeteria', 'transport', 'services', 'great', 'less', 'package', 'less', 'growth', 'minimum', 'appraisals', 'frequent', 'firings', 'work', 'life', 'imbalance', 'long', 'working', 'hours', 'hrs', 'project', 'working', 'accenture', 'image', 'work', 'ethic', 'needs', 'improved', 'hr', 'intervention', 'required', 'see', 'employees', 'junior', 'levels', 'getting', 'learning', 'opportunities', 'want', 'lift', 'services', 'badpoor', 'cafeteriapoor', 'cabno', 'doctorstoo', 'much', 'trainings', 'difficult', 'switch', 'projects', 'tagged', 'people', 'mostly', 'goes', 'mnc', 'moving', 'towards', 'employee', 'friendly', 'environment', 'would', 'great', 'management', 'removes', 'formal', 'dress', 'code', 'rules', 'less', 'hike', 'given', 'need', 'work', 'life', 'balance', 'travelling', 'major', 'cons', 'travelling', 'suburbs', 'main', 'office', 'nearly', 'dead', 'politics', 'management', 'levelif', 'close', 'manager', 'good', 'books', 'get', 'good', 'promotion', 'hikeoverall', 'hike', 'good', 'career', 'growth', 'could', 'become', 'stagnant', 'reach', 'team', 'lead', 'associate', 'manager', 'level', 'unless', 'god', 'fathers', 'accenture', 'used', 'unique', 'mnc', 'culture', 'however', 'top', 'management', 'indian', 'pure', 'players', 'like', 'infosys', 'wipro', 'tcs', 'etc', 'accenture', 'india', 'also', 'becoming', 'another', 'indian', 'pure', 'players', 'industry', 'standard', 'package', 'even', 'contribute', 'employee', 'pf', 'show', 'part', 'ctc', 'inflate', 'notice', 'period', 'months', 'let', 'go', 'even', 'working', 'project', 'proved', 'major', 'roadblock', 'even', 'allow', 'buyouthrs', 'power', 'forward', 'training', 'mails', 'need', 'solve', 'issues', 'supervisor', 'manager', 'accenture', 'salary', 'giving', 'low', 'timings', 'hikes', 'rewards', 'recognitions', 'project', 'specific', 'pressure', 'company', 'specific', 'starting', 'end', 'entire', 'midupper', 'level', 'management', 'changed', 'due', 'year', 'end', 'assessment', 'suffered', 'huge', 'blow', 'deserving', 'employees', 'given', 'peanuts', 'led', 'lot', 'resigning', 'projects', 'good', 'ambience', 'work', 'environment', 'bad', 'management', 'lead', 'continuously', 'harrases', 'subordinates', 'even', 'abuses', 'people', 'expected', 'work', 'hrs', 'without', 'work', 'home', 'work', 'gets', 'piled', 'even', 'lead', 'participate', 'leaves', 'work', 'others', 'micromanagement', 'rampant', 'would', 'get', 'vacation', 'balance', 'applying', 'vacation', 'headache', 'accenture', 'good', 'company', 'would', 'working', 'project', 'first', 'accenture', 'choose', 'projects', 'wisely', 'compensation', 'industry', 'standards', 'cons', 'moment', 'good', 'hike', 'people', 'management', 'good', 'salary', 'increase', 'happens', 'single', 'number', 'increase', 'really', 'dont', 'find', 'cons', 'con', 'everything', 'good', 'enough', 'mention', 'top', 'management', 'worried', 'green', 'excels', 'pay', 'less', 'attention', 'resources', 'working', 'day', 'day', 'deliver', 'high', 'performance', '’', 'trust', 'leadership', 'much', 'comes', 'moderation', 'promotions', '’', 'accenture', 'used', 'since', 'period', 'much', 'core', 'values', 'adherence', 'lot', 'private', 'politics', 'promoting', 'undeserved', 'candidates', 'really', 'lucky', 'work', 'technology', 'like', 'otherwise', 'end', 'technology', 'assignno', 'flexibility', 'office', 'time', 'stay', 'long', 'working', 'hours', 'always', 'radarno', 'wfh', 'flexible', 'timings', 'mainly', 'support', 'projectsthey', 'well', 'defined', 'corporate', 'theories', 'lot', 'internal', 'politics', 'exceptionally', 'good', '’', 'affected', 'politicsmost', 'works', 'technical', 'reason', 'recruiting', 'bulk', 'number', 'freshers', 'different', 'engineering', 'branches', 'works', 'like', 'washing', 'car', 'washing', 'car', '’', 'need', 'much', 'knowledge', '’', 'much', 'value', '’', 'needed', 'say', 'trainers', 'behaves', 'like', 'school', 'teachers', 'learning', 'curvetoo', 'much', 'politics', 'much', 'may', 'onsite', 'opportunities', 'cons', 'experience', 'management', 'resource', 'allignment', 'project', 'allignment', 'career', 'growth', 'opportunities', 'much', 'politics', 'managers', 'hr', 'useless', 'knowledgetheir', 'performance', 'determining', 'process', 'fakethey', 'give', 'silly', 'excuses', 'intended', 'promote', 'youdoesn', 'matter', 'feedback', 'excellent', 'work', 'life', 'balance', 'myth', 'lot', 'depends', 'upon', 'project', 'management', 'less', 'control', 'management', 'considers', 'clients', 'gods', 'commits', 'low', 'pay', 'freshers', 'fresher', 'join', 'youll', 'handed', 'technology', 'randomly', 'eg', 'youre', 'good', 'java', 'mentioned', 'interview', 'prefer', 'work', 'java', 'might', 'end', 'testing', 'business', 'intelligence', 'etc', 'job', 'profilelate', 'night', 'callswork', 'life', 'balanceno', 'learning', 'workcut', 'market', 'less', 'technical', 'growthlot', 'politics', 'management', 'levelvery', 'less', 'priority', 'given', 'worklack', 'technical', 'people', 'lead', 'level', 'nobody', 'follows', 'policies', 'people', 'good', 'anything', 'getting', 'opportunities', 'bad', 'appraisals', 'lack', 'appreciation', 'good', 'work', 'times', 'cons', 'best', 'place', 'work', 'high', 'pressure', 'work', 'lower', 'management', 'work', 'like', 'tyranthr', 'mouthpiece', 'operations', 'team', 'long', 'working', 'hours', 'critical', 'project', 'timelines', 'salary', 'comparatively', 'low', 'companies', 'management', 'supporting', 'accenture', 'pay', 'less', 'sometimes', 'difficult', 'get', 'good', 'hike', 'even', 'though', 'worked', 'lot', 'manager', 'give', 'satisfactory', 'reason', 'good', 'long', 'time', 'promotion', 'period', 'others', 'food', 'bus', 'service', 'good', 'sap', 'per', 'good', 'management', 'rules', 'change', 'project', 'project', 'improve', 'work', 'home', 'facility', 'timing', 'hoursno', 'salary', 'hikeno', 'good', 'project', 'issue', 'dress', 'codeformals', 'provides', 'fewer', 'careergrowth', 'opportunities', 'less', 'growth', 'terms', 'income', 'less', 'pay', 'change', 'small', 'code', 'ask', 'lead', 'paygrade', 'minimal', 'promotions', 'overdue', 'bench', 'system', 'sometimes', 'worksitting', 'idle', 'upto', 'months', 'projectthey', 'focus', 'billing', 'project', 'add', 'many', 'resources', 'irrespective', 'workload', 'much', 'project', 'dependency', 'chargeable', 'hard', 'get', 'rolled', 'offfalse', 'promises', 'management', 'retain', 'yousalary', 'increment', 'transparent', 'fairoffice', 'politics', 'salary', 'structure', 'good', 'need', 'give', 'better', 'salary', 'exiting', 'employees', 'rather', 'hiring', 'external', 'people', 'double', 'amount', 'employee', 'needs', 'diligent', 'succeed', 'cake', 'walk', 'achieve', 'something', 'big', 'cons', 'everything', 'good', 'everything', 'gone', 'vein', 'say', 'hire', 'best', 'people', 'real', 'hire', 'people', 'say', 'name', 'properly', 'hr', 'experience', 'personalised', 'career', 'growth', 'restricted', 'associate', 'engineers', 'management', 'chooses', 'technology', 'would', 'work', 'priority', 'given', 'area', 'interest', 'luck', 'get', 'work', 'field', 'love', 'embrace', 'projects', 'demanding', 'disturb', 'worklife', 'balance', 'downsides', 'find', 'accenture', 'variable', 'high', 'wont', 'get', 'finding', 'project', 'big', 'task', 'heavy', 'politics', 'floor', 'less', 'talent', 'oriented', 'rather', 'take', 'referred', 'friend', 'family', 'member', 'preferred', 'even', 'though', 'technically', 'weak', 'pay', 'less', 'compare', 'market', 'lower', 'growth', 'ratelesser', 'learning', 'opportunity', 'less', 'payment', 'good', 'career', 'growth', 'constant', 'changing', 'policies', 'impacting', 'employee', 'people', 'benefits', 'growth', 'career', 'opportunities', 'much', 'learn', 'excitement', 'working', 'much', 'development', 'projects', 'management', 'also', 'cooperative', 'standardized', 'salary', 'every', 'one', 'irrespective', 'performance', 'salary', 'much', 'impressive', 'thought', 'cons', 'accenture', 'applicable', 'see', 'cons', 'new', 'hike', 'structure', 'disappointing', 'senior', 'management', 'concerned', 'growth', 'opportunities', 'freshers', 'fresher', 'get', 'measly', 'work', 'transparency', 'appraisalspoor', 'bus', 'facilities', 'less', 'pay', 'politics', 'management', 'level', 'shift', 'allowance', 'work', 'cons', 'consider', 'pros', 'bcz', 'learn', 'lot', 'cons', 'good', 'organization', 'work', 'uncertainity', 'getting', 'pojects', 'based', 'skill', 'set', 'get', 'good', 'project', 'get', 'learn', 'lot', 'new', 'things', 'need', 'work', 'extended', 'hours', 'project', 'higher', 'management', 'percent', 'career', 'yearly', 'hikes', 'buy', 'notice', 'periodyearly', 'hike', 'good', 'even', 'promotedvariable', 'bonus', 'high', 'even', 'get', 'till', 'half', 'matter', 'hard', 'worked', 'without', 'leaves', 'high', 'changeability', 'lot', 'politics', 'work', 'matters', 'observed', 'years', 'less', 'chances', 'changing', 'domain', 'area', 'interest', 'transport', 'overworked', 'budget', 'cut', 'related', 'problems', 'lots', 'formalities', 'looking', 'change', 'profile', 'looking', 'change', 'team', 'within', 'management', 'pay', 'less', 'night', 'shifts', 'much', 'mention', 'work', 'life', 'balance', 'midlevel', 'managers', 'formal', 'dress', 'code', 'cons', 'enjoyed', 'working', 'accenture', 'cons', 'accenture', 'people', 'higher', 'ranks', 'heard', 'salary', 'increase', 'slowly', 'much', 'fro', 'hierarchy', 'get', 'approvals', 'salary', 'lesstoo', 'many', 'restrictions', 'redundant', 'work', 'skill', 'upgrade', 'stuck', 'company', 'much', 'learn', 'grow', 'innovation', 'cons', 'far', 'times', 'issue', 'transport', 'project', 'allocation', 'process', 'quite', 'random', 'depends', 'entirely', 'luck', 'merit', 'getting', 'response', 'online', 'portal', 'take', 'longer', 'expected', 'often', 'receive', 'much', 'work', 'usual', 'mnc', 'try', 'cross', 'train', 'kill', 'skill', 'con', 'worth', 'mentioning', 'long', 'shifts', 'cab', 'facilities', 'write', 'cons', 'describe', 'good', 'consider', 'chennai', 'location', 'lagging', 'terms', 'work', 'culture', 'technically', 'depends', 'projectwith', 'project', 'see', 'major', 'differences', 'work', 'culture', 'even', 'inside', 'company', 'specifically', 'vertical', 'operationsmad', 'managersno', 'reward', 'policiesno', 'promotionsno', 'remuneration', 'senior', 'management', 'lacks', 'vision', 'far', 'sight', 'micromanagement', 'sometimes', 'counter', 'productive', 'yet', 'figure', 'con', 'annual', 'hikes', 'great', 'support', 'development', 'projects', 'cant', 'think', 'cons', 'less', 'onshore', 'opportunities', 'management', 'forces', 'work', 'nontechnical', 'work', 'managers', 'full', 'authority', 'without', 'responsibilities', 'management', 'need', 'maintain', 'core', 'value', 'company', 'lot', 'nepotism', 'less', 'hike', 'next', 'increment', 'cycle', 'lateral', 'hiring', 'us', 'uk', 'tl', 'onsite', 'opportunity', 'negative', 'scope', 'cross', 'training', 'like', 'net', 'java', 'fool', 'terms', 'variable', 'pay', 'leave', 'definitely', 'loose', 'months', 'variable', 'pay', 'get', 'variable', 'pay', 'company', 'employee', 'payment', 'date', 'last', 'working', 'day', 'day', 'get', 'variable', 'pay', 'variable', 'pay', 'increment', 'miss', 'even', 'single', 'mandatory', 'training', 'even', 'use', 'lot', 'support', 'maintenance', 'projects', 'opportunity', 'select', 'project', 'technology', 'managers', 'cheap', 'exploit', 'onsite', 'opportunity', 'given', 'support', 'hr', 'low', 'salary', 'bad', 'management', 'rating', 'performance', 'based', 'time', 'sit', 'office', 'actual', 'work', 'downside', 'accenture', 'process', 'followed', 'project', 'internal', 'processes', 'quite', 'complex', 'able', 'approach', 'hr', 'physically', 'scope', 'growthno', 'focus', 'current', 'marketyou', 'sheep', 'without', 'knowledge', 'happening', 'outside', 'longer', 'organisation', 'proud', 'part', 'offnon', 'employee', 'friendly', 'policies', 'month', 'notice', 'period', 'ensures', 'get', 'easily', 'kick', 'time', 'transparent', 'comes', 'appraisalcomplex', 'networking', 'jobs', 'like', 'layer', 'provisioning', 'testing', 'brought', 'bpo', 'paid', 'less', 'supposed', 'force', 'relocate', 'project', 'available', 'long', 'time', 'long', 'bench', 'period', 'till', 'assignment', 'project', 'work', 'life', 'balance', 'average', 'project', 'work', 'timings', 'maintained', 'hrs', 'quality', 'work', 'good', 'less', 'onshore', 'opportunities', 'compared', 'indian', 'based', 'companies', 'downsides', 'comment', 'promotion', 'rewards', 'motivational', 'trips', 'parties', 'hardly', 'happen', 'team', 'never', 'seems', 'budget', 'also', 'team', 'little', 'presence', 'outside', 'bangalore', 'give', 'laterals', 'salary', 'working', 'employee', 'leadership', 'teams', 'changing', 'quickly', 'makes', 'difficult', 'follow', 'leaders', 'employee', 'friendly', 'companyduring', 'appraisal', 'company', 'discuss', 'results', 'employee', 'manager', 'decision', 'final', 'decision', 'depends', 'projectmostly', 'support', 'project', 'limits', 'ur', 'learning', 'issues', 'units', 'affects', 'morale', 'pushes', 'people', 'like', 'passing', 'phase', 'employee', 'every', 'organization', 'accenture', 'leadership', 'could', 'address', 'issue', 'sure', 'heaven', 'world', 'difficult', 'get', 'good', 'projects', 'delayed', 'promotions', 'hr', 'management', 'improved', 'brand', 'value', 'oncecan', 'get', 'stuck', 'internal', 'projects', 'growth', 'hard', 'get', 'roll', 'new', 'joinees', 'seasoned', 'freshers', 'good', 'team', 'lead', 'manager', 'salary', 'raise', 'lessswitching', 'project', 'takes', 'time', 'randomly', 'assignment', 'technology', 'curse', 'company', 'lower', 'salary', 'slow', 'growth', 'projects', 'really', 'long', 'hours', 'lot', 'micromanagement', 'supervisor', 'level', 'varies', 'project', 'project', 'supervisor', 'give', 'enough', 'space', 'work', 'times', 'gives', 'feeling', 'school', 'specify', 'company', 'depends', 'project', 'members', 'whole', 'organizationno', 'specific', 'things', 'comment', 'accenture', 'good', 'hr', 'pay', 'right', 'candidate', 'negotiation', 'ctc', 'bit', 'supportiveother', 'wise', 'good', 'would', 'get', 'opportunity', 'learn', 'fresher', 'less', 'challenging', 'work', 'growth', 'support', 'sub', 'level', 'kind', 'movement', 'got', 'ta', 'wait', 'couple', 'years', 'moving', 'sub', 'levels', 'get', 'next', 'levelfor', 'support', 'projects', 'rotational', 'shifts', 'great', 'management', 'work', 'life', 'balance', 'give', 'proper', 'response', 'candidate', 'heshe', 'selectedrejected', 'regional', 'politics', 'projects', 'leads', 'eligible', 'candidates', 'great', 'facilitytoo', 'many', 'policies', 'hours', 'shift', 'worst', 'part', 'market', 'correction', 'terms', 'compensation', 'internal', 'employees', 'growth', 'management', 'good', 'need', 'work', 'hard', 'deliver', 'challenging', 'projects', 'managers', 'stays', 'keep', 'bestie', 'secured', 'lick', 'survive', 'specifically', 'kolkata', 'locationother', 'location', 'good', 'poor', 'hike', 'poor', 'management', 'cons', 'cons', 'great', 'company', 'less', 'onshore', 'opportunityno', 'cons', 'till', 'date', 'leadership', 'hierarchy', 'main', 'problem', 'felt', 'shift', 'issue', 'regular', 'opportunities', 'employee', 'learn', 'new', 'things', 'follows', 'typical', 'hr', 'policies', 'difficult', 'change', 'projectspip', 'certain', 'number', 'employees', 'want', 'learn', 'anything', 'ready', 'cross', 'train', 'different', 'technology', 'without', 'training', 'required', 'months', 'might', 'required', 'cross', 'train', 'newer', 'one', 'neither', 'learn', 'utilize', 'abilities', 'abilities', 'get', 'work', 'technology', 'project', 'like', 'comprimise', 'career', 'case', 'consulting', 'companiesyou', 'forced', 'work', 'projects', 'though', 'interested', 'technologydomain', 'likethe', 'chances', 'get', 'development', 'project', 'really', 'less', 'mostly', 'supportmaintanance', 'projects', 'competive', 'peers', 'talent', 'retention', 'agenda', 'workable', 'staff', 'box', 'thinking', 'depends', 'type', 'project', 'compartmentalized', 'times', 'matters', 'projectyes', 'tl', 'managers', 'accenture', 'well', 'like', 'organizations', 'good', 'except', 'politics', 'good', 'join', 'fresher', 'work', 'life', 'balancepersonal', 'aspirations', 'much', 'looked', 'upon', 'managers', 'like', 'politics', 'within', 'teamsalary', 'good', 'freshers', 'good', 'hike', 'anyone', 'even', 'promotion', 'lack', 'adequate', 'training', 'thorough', 'guidance', 'upline', 'management', 'relation', 'subordimate', 'upline', 'upto', 'mark', 'missing', 'manager', 'upline', 'role', 'simply', 'frustrating', 'experience', 'observed', 'actually', 'guiding', 'team', 'mates', 'better', 'career', 'growth', 'rather', 'self', 'growth', 'fewer', 'implementation', 'projects', 'latest', 'technologyneed', 'hire', 'junior', 'folks', 'development', 'project', 'learning', 'curvesinstead', 'assigning', 'support', 'project', 'result', 'decline', 'growth', 'office', 'politics', 'promotionstoo', 'much', 'focus', 'client', 'wantssome', 'ridiculous', 'policies', 'senior', 'manager', 'level', 'aware', 'huge', 'understand', 'everything', 'keep', 'learning', 'attitude', 'always', 'work', 'latest', 'technologies', 'create', 'opportunities', 'long', 'working', 'hours', 'less', 'salary', 'full', 'politics', 'much', 'worry', 'issue', 'stuck', 'one', 'domain', 'long', 'time', 'could', 'sometimes', 'makes', 'work', 'monotonous', 'poor', 'talent', 'recognition', 'pay', 'enhacement', 'package', 'per', 'market', 'standard', 'extremely', 'aggressive', 'demanding', 'culturework', 'life', 'balance', 'issues', 'higher', 'levels', 'mention', 'drawback', 'point', 'transportation', 'much', 'pressure', 'work', 'life', 'balance', 'saturday', 'sunday', 'also', 'work', 'projects', 'proper', 'planlots', 'pressureif', 'sse', 'means', 'everything', 'leads', 'manager', 'resources', 'allocationno', 'coding', 'much', 'chaoice', 'choosing', 'project', 'much', 'hike', 'need', 'wait', 'many', 'year', 'get', 'promoted', 'unprofessional', 'hr', 'senior', 'managerno', 'work', 'life', 'balanceno', 'help', 'whatsoever', 'people', 'returning', 'long', 'sick', 'leaves', 'show', 'soon', 'get', 'back', 'health', 'loa', 'busy', 'schedule', 'workload', 'values', 'technical', 'skilled', 'guy', 'need', 'manager', 'happy', 'wan', 'na', 'survive', 'company', 'lengthy', 'working', 'hours', 'giving', 'promotion', 'tenured', 'staff', 'politics', 'cross', 'industry', 'exposure', 'required', 'better', 'pay', 'handling', 'hi', 'potential', 'talent', 'needs', 'improve', 'poor', 'work', 'life', 'balance', 'na', 'na', 'na', 'na', 'na', 'think', 'cons', 'write', 'looking', 'forward', 'better', 'opportunity', 'even', 'basic', 'interview', 'process', 'also', 'good', 'worst', 'part', 'false', 'promises', 'extending', 'offer', 'reason', 'month', 'hr', 'keep', 'saying', 'call', 'back', 'asked', 'strictly', 'whether', 'selected', 'informed', 'selected', 'received', 'mail', 'well', 'offer', 'month', 'understand', 'management', 'thinking', 'smart', 'simply', 'said', 'selected', 'employee', 'wait', 'month', 'worst', 'behaviour', 'faced', 'team', 'lead', 'etmf', 'position', 'totally', 'based', 'managers', 'leads', 'moods', 'want', 'slave', 'opinion', 'timing', 'constraints', 'managers', 'leads', 'worst', 'freshers', 'especially', 'background', 'skills', 'interest', 'taken', 'consideration', 'hr', 'management', 'poor', 'time', 'hiring', 'coordination', 'random', 'day', 'calls', 'response', 'interview', 'schedules', 'bonus', 'pay', 'less', 'provide', 'bonus', 'employee', 'career', 'growth', 'bit', 'slow', 'conduct', 'moderation', 'cycle', 'yeartip', 'join', 'chennai', 'projects', 'employees', 'get', 'job', 'profiles', 'really', 'interested', 'freshers', 'college', 'randomly', 'assigned', 'technology', 'undergo', 'training', 'even', 'though', 'clueless', 'technology', 'employee', 'point', 'view', 'fair', 'learn', 'various', 'technologies', 'single', 'role', 'offer', 'broad', 'way', 'implement', 'learn', 'hikes', 'dried', 'recent', 'years', 'timeline', 'estimates', 'often', 'optimistic', 'much', 'focused', 'delivery', 'approvals', 'training', 'sessions', 'etc', 'easy', 'hr', 'get', 'involved', 'unless', 'taking', 'heatmanagement', 'people', 'awful', 'like', 'get', 'away', 'anything', 'dont', 'mattaer', 'hard', 'work', 'wont', 'amount', 'anything', 'work', 'life', 'balanceappraisal', 'hike', 'sucks', 'need', 'develop', 'technical', 'skills', 'dependent', 'project', 'management', 'aware', 'technology', 'used', 'project', 'mention', 'cons', 'cons', 'side', 'came', 'across', 'half', 'total', 'variable', 'amount', 'given', 'hot', 'skill', 'bonus', 'next', 'gen', 'bonus', 'removed', 'time', 'clear', 'process', 'information', 'much', 'space', 'learning', 'new', 'advanced', 'technologies', 'microsoft', 'skill', 'tagged', 'employee', 'almost', 'impossible', 'get', 'avanade', 'work', 'nonmicrosoft', 'skills', 'lateral', 'employee', 'bound', 'higher', 'payscale', 'compared', 'home', 'grown', 'onesso', 'try', 'level', 'giving', 'higher', 'hike', 'home', 'grown', 'ones', 'less', 'lateral', 'ones', 'lateral', 'employee', 'dun', 'feel', 'ethical', 'inspite', 'putting', 'extra', 'efforts', 'policy', 'ruins', 'everythinglong', 'work', 'hours', 'offer', 'letter', 'mentions', 'hrs', 'working', 'say', 'hrs', 'working', 'land', 'project', 'politics', 'need', 'handle', 'need', 'good', 'negotiation', 'joining', 'location', 'preference', 'hardly', 'considered', 'unrealistic', 'deadlines', 'long', 'working', 'hours', 'project', 'time', 'managed', 'well', 'good', 'salary', 'hike', 'company', 'cost', 'cutting', 'projects', 'manage', 'ok', 'ok', 'formal', 'dress', 'common', 'days', 'companies', 'unnecessary', 'politicspromotions', 'undeserved', 'candidatesnepotism', 'management', 'fine', 'bother', 'india', 'hr', 'process', 'tedious', 'less', 'logical', 'politics', 'favouritism', 'kannada', 'speaking', 'people', 'given', 'preference', 'even', 'performance', 'standard', 'every', 'company', 'works', 'hrs', 'accenture', 'works', 'hrs', 'working', 'payroll', 'accenture', 'client', 'site', 'miss', 'growth', 'opportunities', 'lack', 'coordination', 'gaps', 'performing', 'good', 'less', 'budgetcost', 'cuttings', 'job', 'risk', 'hectic', 'schedule', 'leaves', 'family', 'time', 'things', 'good', 'mentioned', 'work', 'life', 'balance', 'gets', 'affected', 'bit', 'overall', 'good', 'experience', 'lot', 'work', 'done', 'team', 'ended', 'working', 'long', 'hours', 'days', 'since', 'worked', 'legacy', 'code', 'exposure', 'latest', 'technologies', 'peer', 'parity', 'sometimes', 'big', 'organization', 'individual', 'focus', 'lost', 'shared', 'negative', 'company', 'searching', 'challenging', 'job', 'latest', 'technologiestools', 'sometimes', 'large', 'organization', 'wheels', 'change', 'turn', 'slowly', 'frustrated', 'management', 'micro', 'management', 'salary', 'poor', 'managers', 'worst', 'work', 'ethics', 'politics', 'played', 'mostly', 'woking', 'properly', 'team', 'supervisors', 'think', 'gods', 'future', 'tremendous', 'unbalanced', 'work', 'pressure', 'lot', 'fighting', 'different', 'groups', 'ig', 'across', 'ig', 'less', 'salary', 'provided', 'engineering', 'background', 'random', 'stream', 'placementvery', 'poor', 'starting', 'salary', 'unless', 'show', 'one', 'going', 'recognize', 'variable', 'pay', 'moreless', 'variable', 'paidless', 'onshore', 'opportunities', 'maybe', 'continuous', 'night', 'shift', 'affect', 'health', 'much', 'say', 'point', 'everything', 'accenture', 'concerned', 'growth', 'growth', 'employee', 'good', 'terms', 'lead', 'manager', 'promoted', 'get', 'good', 'hike', 'else', 'never', 'given', 'good', 'hikehr', 'team', 'worst', 'faced', 'entire', 'yrs', 'career', 'constraints', 'company', 'bad', 'say', 'accenture', 'good', 'place', 'work', 'far', 'good', 'communication', 'gap', 'sometime', 'etc', 'performance', 'rating', 'process', 'transparent', 'provide', 'less', 'package', 'work', 'load', 'moremanagement', 'depends', 'projects', 'assigned', 'favouritism', 'oxygen', 'incompetence', 'ho', 'licking', 'upper', 'management', 'shoes', 'provide', 'early', 'promotion', 'irrespective', 'quality', 'experienceselling', 'adulterated', 'stuff', 'shinny', 'packets', 'prime', 'policy', 'millions', 'turnover', 'give', 'reason', 'guzzled', 'variable', 'paypolicies', 'formulated', 'normal', 'people', 'follow', 'mnc', 'culture', 'become', 'favourite', 'get', 'leverage', 'crush', 'call', 'rulesmaster', 'killing', 'real', 'talent', 'become', 'fresher', 'even', 'well', 'experienced', 'literally', 'reverse', 'engineer', 'peopleprocess', 'everything', 'process', 'escalate', 'career', 'graphthere', 'types', 'peoplecomplacent', 'employees', 'accepted', 'way', 'people', 'trying', 'switch', 'another', 'organizationplease', 'join', 'organization', 'time', 'get', 'know', 'task', 'learn', 'something', 'meaningful', 'placefake', 'appreciations', 'praise', 'employees', 'follow', 'leadsmanagers', 'like', 'dumbdeafculture', 'calls', 'meetings', 'nuisance', 'talked', 'aboutleads', 'technical', 'experience', 'boss', 'around', 'performance', 'review', 'myth', 'looks', 'fancy', 'hollow', 'insideevery', 'employee', 'stuck', 'whether', 'leave', 'organization', 'within', 'months', 'yrmanagers', 'showcase', 'work', 'raising', 'spurious', 'escalations', 'slow', 'growth', 'salary', 'one', 'listen', 'politicsno', 'much', 'onsitelimited', 'hikeless', 'benefitsvariable', 'pay', 'bad', 'trick', 'sometimes', 'appraisal', 'becuz', 'crap', 'process', 'budget', 'stuff', 'innocent', 'staffs', 'job', 'stake', 'options', 'switching', 'desired', 'jobs', 'consultingdisparity', 'among', 'different', 'units', 'like', 'consulting', 'vs', 'shared', 'services', 'might', 'get', 'lost', 'herd', 'downside', 'accenture', 'ctc', 'hike', 'less', 'compared', 'companies', 'sometimes', 'management', 'becomes', 'unsupported', 'ruly', 'challenges', 'workemployees', '’', 'feel', 'job', 'offered', 'challenges', 'felt', 'mostly', 'overburdened', 'work', 'monotonous', '’', 'allow', 'learn', 'something', 'new', 'overall', 'rating', 'freshers', 'join', 'randomly', 'assigned', 'technology', 'get', 'choice', 'itfor', 'level', 'central', 'tool', 'looks', 'locking', 'resources', 'people', 'projects', 'flawed', 'projects', 'often', 'lock', 'person', 'project', 'even', 'want', 'liked', 'found', 'cons', 'regional', 'politics', 'favoritism', 'onsite', 'opportunities', 'salary', 'hike', 'mark', 'projects', 'ib', 'sub', 'levels', 'next', 'level', 'moments', 'except', 'package', 'everything', 'good', 'politics', 'also', 'plays', 'vital', 'rolethere', 'proper', 'kt', 'given', 'freshersgft', 'wastage', 'timevery', 'poor', 'transport', 'management', 'night', 'shift', 'allowance', 'providing', 'employee', 'technology', 'selected', 'hr', 'get', 'expectbe', 'favorite', 'project', 'lead', 'else', 'might', 'regret', 'itno', 'mid', 'year', 'promotion', 'idc', 'peoplesalary', 'increment', 'good', 'bulk', 'hiring', 'final', 'round', 'hr', 'interview', 'mentioned', 'openings', 'let', 'know', 'person', 'reached', 'final', 'round', 'since', 'working', 'companyso', 'aware', 'cons', 'think', 'competitive', 'think', 'problem', 'stress', 'huge', 'disadvantage', 'groups', 'strict', 'bench', 'less', 'growth', 'less', 'hike', 'hr', 'oriented', 'company', 'technically', 'scope', 'learn', 'expertise', 'always', 'tough', 'due', 'various', 'reasons', 'case', 'tough', 'due', 'improper', 'managementthere', 'lot', 'projects', 'tower', 'management', 'due', 'always', 'problem', 'followingavailing', 'leavesgetting', 'approvals', 'classroom', 'trainingover', 'stay', 'due', 'deadband', 'etcwith', 'new', 'way', 'evaluating', 'performance', 'employees', 'getting', 'promotions', 'variable', 'pay', 'hikes', 'poor', 'get', 'ready', 'leave', 'project', 'management', 'great', 'depends', 'luck', 'techinically', 'weak', 'people', 'top', 'develop', 'learning', 'fast', 'enough', 'good', 'career', 'growth', 'good', 'terms', 'learning', 'career', 'growth', 'slow', 'takes', 'time', 'reach', 'architect', 'level', 'starting', 'scratch', 'senior', 'level', 'always', 'dominating', 'either', 'team', 'lead', 'manager', 'whosoever', 'tophike', 'lesssalary', 'less', 'good', 'personal', 'growth', 'capped', 'office', 'mileau', 'ther', 'internal', 'politicshr', 'control', 'salary', 'financial', 'benefits', 'negotiate', 'financial', 'benefits', 'youre', 'low', 'interaction', 'hr', 'politics', 'favoritism', 'especially', 'southdiscrimination', 'north', 'indians', 'tough', 'demanding', 'environment', 'growth', 'limited', 'overall', 'accneture', 'good', 'place', 'work', 'much', 'negative', 'company', 'low', 'salariesit', 'give', 'fresh', 'graduates', 'opportunity', 'pursue', 'higher', 'studies', 'sponsorsip', 'limited', 'onsite', 'opportunity', 'india', 'delivery', 'center', 'sometimes', 'favoritism', 'giving', 'reward', 'however', 'common', 'indian', 'corporate', 'culture', 'hours', 'working', 'mandatory', 'every', 'year', 'certain', 'percentage', 'low', 'performer', 'terminated', 'package', 'high', 'compare', 'industry', 'rating', 'averagelow', 'might', 'get', 'hike', 'hiring', 'difficult', 'process', 'hr', 'process', 'needs', 'improved', 'sub', 'levels', 'every', 'level', 'sub', 'levels', 'onsite', 'opportunity', 'projects', 'sometimes', 'projects', 'give', 'good', 'opportunities', 'time', 'flexibilitymanagement', 'people', 'decide', 'futureif', 'good', 'also', 'guaranteed', 'get', 'deserve', 'hiring', 'difficult', 'process', 'hr', 'process', 'needs', 'improved', 'poor', 'managment', 'technical', 'person', 'get', 'technology', 'specific', 'project', 'projects', 'support', 'one', 'learn', 'himselfherself', 'employeefriendlyhrs', 'usesenior', 'management', 'upto', 'mark', 'many', 'policyrolloff', 'projects', 'difficult', 'upper', 'level', 'management', 'reachablepolitics', 'everywhere', 'work', 'hours', 'rigid', 'could', 'altered', 'depending', 'requirement', 'worse', 'hr', 'policy', 'worse', 'salary', 'increment', 'worse', 'bench', 'system', 'tag', 'project', 'irrespective', 'skill', 'set', 'aware', 'ppl', 'false', 'hope', 'policy', 'show', 'career', 'counselor', 'much', 'variable', 'payprocess', 'slow', 'variable', 'pay', 'pay', 'structure', 'crons', 'years', 'experience', 'learning', 'opportunity', 'depends', 'mostly', 'team', 'guarantee', 'whatsoever', 'given', 'field', 'dev', 'test', 'politics', 'top', 'everything', 'projects', 'good', 'projects', 'majority', 'team', 'work', 'support', 'role', 'support', 'role', 'even', 'class', 'passout', 'job', 'long', 'working', 'hours', 'approximately', 'hours', 'including', 'lunch', 'randomly', 'allocate', 'candidates', 'projects', 'without', 'considering', 'skillseteducational', 'background', 'salary', 'increment', 'year', 'year', 'lesstechnology', 'work', 'minimal', 'provide', 'options', 'fresher', 'technology', 'select', 'cons', 'company', 'downside', 'low', 'wages', 'safety', 'security', 'female', 'employee', 'accentureno', 'matter', 'time', 'shift', 'cab', 'come', 'hour', 'lateor', 'depend', 'want', 'comeafter', 'finishing', 'work', 'keep', 'waiting', 'cab', 'drop', 'homeit', 'take', 'hour', 'limited', 'exposurerigid', 'hierarchyslow', 'work', 'quality', 'enhancement', 'work', 'politics', 'much', 'handle', 'pay', 'master', 'respect', 'project', 'team', 'leads', 'average', 'increment', 'less', 'salary', 'competitors', 'notice', 'period', 'much', 'work', 'life', 'balancevery', 'less', 'hikeno', 'learning', 'fs', 'banking', 'project', 'work', 'life', 'balance', 'pay', 'hike', 'lesson', 'sites', 'difficult', 'getlot', 'politicseven', 'good', 'performer', 'also', 'chances', 'get', 'pip', 'company', 'many', 'colleagues', 'wrkng', 'cons', 'say', 'company', 'base', 'pay', 'less', 'many', 'benefits', 'work', 'life', 'hectic', 'sometimes', 'due', 'budget', 'issues', 'proper', 'talent', 'recognization', 'much', 'retaliation', 'zero', 'growth', 'worst', 'transportation', 'overall', 'boosts', 'employee', 'satisfaction', 'rights', 'failed', 'implementing', 'need', 'get', 'good', 'project', 'company', 'like', 'sea', 'small', 'fishyou', 'need', 'career', 'wont', 'get', 'variable', 'bonus', 'properly', 'best', 'place', 'freshers', 'many', 'legacy', 'systems', 'projects', 'talent', 'poolbench', 'time', 'harassment', 'pressure', 'relocation', 'company', 'demands', 'promotions', 'take', 'long', 'lots', 'politics', 'good', 'terms', 'technologyas', 'person', 'moves', 'ladder', 'technical', 'work', 'reduces', 'ends', 'working', 'excellots', 'meaningless', 'hr', 'policies', 'cons', 'name', 'depends', 'project', 'bell', 'curve', 'exists', 'behind', 'doorsmanagers', 'incapable', 'kind', 'leadership', 'promoted', 'stayed', 'long', 'time', 'course', 'also', 'completely', 'unhirable', 'companythe', 'socalled', 'retaliation', 'policy', 'company', 'advocates', 'absolutely', 'biggest', 'lie', 'sell', 'thrives', 'gross', 'retaliation', 'managers', 'senior', 'managers', 'every', 'concern', 'raise', 'hr', 'almost', 'invisible', 'except', 'glassdoorthey', 'care', 'lot', 'image', 'hence', 'keep', 'asking', 'employees', 'rate', 'high', 'innocent', 'souls', 'could', 'lured', 'however', 'bad', 'policies', 'switching', 'careerfor', 'ex', 'application', 'support', 'associate', 'want', 'become', 'application', 'developer', 'work', 'months', 'cant', 'change', 'stream', 'plus', 'requires', 'lot', 'buttering', 'done', 'order', 'get', 'role', 'changedit', 'headache', 'hr', 'people', 'worst', 'hr', 'helping', 'favor', 'onlyif', 'join', 'fresher', 'career', 'level', 'play', 'work', 'life', 'balance', 'many', 'conflicting', 'priorities', 'competitive', 'environment', 'shift', 'allowance', 'terms', 'increments', 'accenture', 'needs', 'much', 'positive', 'concentrating', 'may', 'something', 'extra', 'special', 'get', 'noticed', 'times', 'crowded', 'company', 'lacs', 'employees', 'skillset', 'beginners', 'selected', 'per', 'comfort', 'company', 'policies', 'really', 'nice', 'matter', 'good', 'company', 'boils', 'supervisormanager', 'report', 'towork', 'managers', 'par', 'youll', 'feel', 'office', 'politics', 'taking', 'driver', 'seats', 'projects', 'proper', 'work', 'life', 'balancethere', 'flexi', 'work', 'timingscafetaria', 'food', 'goodtransport', 'issues', 'big', 'environment', 'get', 'noticedstalled', 'processespeople', 'tend', 'adapt', 'changes', 'hectic', 'stressful', 'job', 'security', 'big', 'issue', 'alignment', 'skills', 'less', 'salary', 'good', 'best', 'compare', 'market', 'performance', 'review', 'mostly', 'depends', 'bond', 'team', 'lead', 'somewhat', 'partial', 'shift', 'timings', 'high', 'employees', 'mercy', 'managers', 'overall', 'crowd', 'standard', 'time', 'gets', 'hectic', 'cons', 'everything', 'perfect', 'wrk', 'life', 'balance', 'tough', 'manage', 'slow', 'career', 'growth', 'trap', 'promotion', 'cycle', 'month', 'current', 'level', 'policyinternal', 'politics', 'work', 'consider', 'appraisalyou', 'showcase', 'front', 'senior', 'managers', 'get', 'good', 'appraisal', 'low', 'salary', 'hikesyour', 'career', 'growth', 'depends', 'role', 'project', 'get', 'politics', 'policies', 'namesake', 'poor', 'leadership', 'worst', 'hr', 'dept', 'leadership', 'care', 'sometimes', 'period', 'time', 'compare', 'resources', 'hired', 'externally', 'observe', 'massive', 'gap', 'salaries', 'external', 'hires', 'internal', 'position', 'times', 'one', 'feels', 'demotivated', 'underpaid', 'amount', 'work', 'done', 'hr', 'policy', 'good', 'relocation', 'mandate', 'cases', 'lot', 'onsite', 'opportunities', 'recognition', 'hike', 'decided', 'work', 'decided', 'whether', 'manager', 'good', 'contact', 'personally', 'work', 'life', 'balancenotice', 'period', 'much', 'many', 'different', 'things', 'juggle', 'balancing', 'work', 'life', 'stressful', 'sometimes', 'good', 'performance', 'review', 'program', 'mass', 'recruiter', 'get', 'projects', 'soon', 'put', 'bench', 'long', 'time', 'manager', 'dangerous', 'work', 'opportunities', 'ncr', 'bad', 'management', 'managers', 'really', 'removed', 'company', 'lot', 'micro', 'management', 'like', 'maintaining', 'excel', 'check', 'check', 'time', 'use', 'performance', 'happen', 'months', 'appraisal', 'du', 'leads', 'also', 'trying', 'smart', 'promise', 'onsite', 'promotions', 'end', 'year', 'say', 'budgetthe', 'worst', 'thing', 'happen', 'new', 'performance', 'process', 'say', 'compare', 'employees', 'every', 'level', 'particularly', 'gurgaon', 'office', 'professionalism', 'followedlot', 'favourism', 'management', 'issueshigher', 'level', 'management', 'earlier', 'less', 'projects', 'gurgaon', 'also', 'improved', 'work', 'life', 'balance', 'goodvery', 'less', 'onsite', 'opportunities', 'lucky', 'good', 'contacts', 'get', 'good', 'projects', 'projects', 'lot', 'internal', 'politics', 'enough', 'room', 'growrepetitive', 'work', 'although', 'totally', 'depends', 'internal', 'assignment', 'much', 'sayeverything', 'fine', 'except', 'accenture', 'delays', 'giving', 'offer', 'letters', 'management', 'favourtism', 'less', 'opportunity', 'less', 'interaction', 'management', 'higher', 'people', 'salaries', 'great', 'pockets', 'promotions', 'relationship', 'based', 'mertiocrous', 'extremely', 'process', 'oriented', 'management', 'could', 'better', 'lots', 'office', 'politics', 'learn', 'bucketing', 'skills', 'flourish', 'stop', 'gender', 'biasing', 'people', 'long', 'working', 'hours', 'get', 'proper', 'hike', 'stay', 'long', 'unprofessional', 'recruitment', 'process', 'hr', 'interested', 'generate', 'leads', 'without', 'really', 'thinking', 'reputation', 'brand', 'name', 'like', 'accenture', 'surety', 'getting', 'good', 'technologies', 'opportunitiesall', 'depends', 'lucktoo', 'much', 'politicsmanagement', 'biased', 'timehr', 'co', 'operative', 'sometimes', 'life', 'gets', 'stuck', 'project', 'slowly', 'cutting', 'costs', 'employee', 'benefits', 'like', 'domestic', 'indian', 'companiesfresher', 'salary', 'lowneed', 'find', 'opportunities', 'management', 'good', 'need', 'grow', 'act', 'matured', 'ur', 'growth', 'depends', 'project', 'salary', 'less', 'amount', 'work', 'expected', 'employee', 'learn', 'much', 'feel', 'important', 'delay', 'get', 'initial', 'project', 'cab', 'routing', 'problems', 'spend', 'lot', 'time', 'travelling', 'share', 'downside', 'accenture', 'commensurate', 'salary', 'provided', 'long', 'time', 'employees', 'even', 'niche', 'skills', 'great', 'attitude', 'management', 'exposures', 'technical', 'stuffs', 'less', 'push', 'innovationless', 'pay', 'hike', 'cheap', 'salarycheap', 'maintenancecheap', 'attitude', 'managercheap', 'canteencheap', 'workboring', 'really', 'like', 'working', 'services', 'firm', 'salary', 'hikes', 'low', 'last', 'years', 'salary', 'hike', 'less', 'comes', 'mind', 'moment', 'hours', 'shift', 'update', 'hours', 'time', 'sheet', 'months', 'notice', 'period', 'company', 'give', 'much', 'time', 'join', 'organisationabove', 'two', 'mandatory', 'accenture', 'sure', 'employee', 'leave', 'organisationno', 'growthmanagement', 'care', 'career', 'growth', 'employees', 'take', 'given', 'long', 'working', 'hours', 'mostly', 'complex', 'work', 'orientation', 'bad', 'manager', 'bad', 'appraisals', 'bad', 'office', 'time', 'found', 'cons', 'working', 'accenture', 'hrs', 'working', 'shiftmandatory', 'many', 'times', 'expect', 'bench', 'life', 'hiraricy', 'management', 'hectic', 'totally', 'manager', 'based', 'company', 'manager', 'life', 'better', 'living', 'hell', 'working', 'environmentoffice', 'politicsno', 'learning', 'projectstraining', 'projects', 'alotment', 'random', 'think', 'transparency', 'different', 'levels', 'maintained', 'friendly', 'enviornment', 'vendor', 'location', 'need', 'follow', 'core', 'company', 'values', 'cons', 'found', 'accenture', 'cons', 'according', 'service', 'based', 'company', 'give', 'much', 'hike', 'paymaster', 'laterals', 'increment', 'impressive', 'since', 'yearsthe', 'fun', 'activities', 'less', 'last', 'year', 'got', 'goodie', 'company', 'hr', 'policies', 'cleareven', 'smallest', 'thing', 'process', 'orientedhr', 'policies', 'clearhrs', 'easily', 'reachablefire', 'people', 'required', 'project', 'become', 'big', 'one', 'seems', 'time', 'employee', 'grooming', 'low', 'compensation', 'plan', 'entry', 'level', 'employees', 'promotion', 'issues', 'pay', 'structure', 'nontransparent', 'par', 'bad', 'performance', 'appraisal', 'system', 'inefficient', 'hr', 'run', 'mill', 'working', 'mid', 'range', 'salary', 'perks', 'cons', 'find', 'cons', 'salary', 'good', 'amount', 'work', 'hours', 'login', 'hierarchical', 'low', 'visibility', 'work', 'life', 'balance', 'extensive', 'travel', 'consulting', 'growth', 'rate', 'moderate', 'employees', 'hike', 'little', 'less', 'compared', 'companies', 'less', 'pay', 'push', 'limits', 'feels', 'like', 'stuck', 'hikes', 'past', 'years', 'people', 'even', 'single', 'rupee', 'work', 'pressure', 'much', 'struck', 'support', 'team', 'rejected', 'roll', 'request', 'hence', 'resigned', 'job', 'trap', 'new', 'employees', 'crap', 'projects', 'low', 'salary', 'remain', 'accenture', 'long', 'quit', 'latevariable', 'pay', 'bluff', 'hrrelocation', 'third', 'degree', 'torture', 'ncr', 'employee', 'lack', 'proper', 'handover', 'sitting', 'arrangements', 'dont', 'really', 'control', 'choosing', 'project', 'choose', 'give', 'found', 'quality', 'resources', 'going', 'old', 'employees', 'takes', 'credit', 'others', 'work', 'managers', 'worst', 'nature', 'expects', 'employees', 'lick', 'shoes', 'survival', 'hikes', 'promotions', 'less', 'individual', 'roles', 'team', 'work', 'depends', 'project', 'work', 'sometimes', 'forced', 'work', 'outdated', 'technology', 'long', 'working', 'hoursno', 'work', 'life', 'balance', 'less', 'salary', 'promotion', 'based', 'time', 'talent', 'less', 'option', 'work', 'home', 'ppt', 'making', 'sometimes', 'boring', 'managers', 'political', 'hectic', 'work', 'schedule', 'minimal', 'worklife', 'balancefringe', 'centres', 'like', 'kdc', 'good', 'bdc', 'etc', 'preferred', 'non', 'graduates', 'less', 'opportunities', 'grow', 'growth', 'depends', 'upon', 'project', 'get', 'less', 'hikes', 'less', 'promotions', 'many', 'people', 'row', 'crazy', 'work', 'hours', 'crazier', 'politics', 'bad', 'terms', 'cab', 'services', 'less', 'learning', 'projects', 'good', 'enough', 'need', 'show', 'case', 'front', 'manager', 'tl', 'times', 'feel', 'working', 'stupid', 'team', 'leads', 'cant', 'anything', 'accept', 'stupidity', 'carry', 'else', 'performance', 'rating', 'suffer', 'better', 'react', 'keep', 'buttering', 'tl', 'managers', 'switch', 'company', 'years', 'staying', 'would', 'affect', 'future', 'growth', 'less', 'salary', 'manager', 'slow', 'learning', 'curve', 'cant', 'change', 'projects', 'found', 'work', 'challenging', 'growth', 'little', 'stunted', 'terms', 'technology', 'minimal', 'opportunities', 'career', 'growth', 'cons', 'times', 'might', 'get', 'good', 'project', 'cons', 'far', 'cut', 'variable', 'pay', 'salaries', 'improved', 'control', 'hiring', 'nepotism', 'senior', 'leadershiprecognition', 'come', 'unless', 'created', 'eyeball', 'connecting', 'senior', 'leadershipwork', 'silos', 'work', 'area', 'expertise', 'deduction', 'variable', 'pay', 'even', 'though', 'got', 'good', 'feedback', 'non', 'transparency', 'appraisal', 'process', 'less', 'compensation', 'compared', 'smaller', 'companies', 'variable', 'salary', 'salary', 'structure', 'get', 'part', 'cons', 'highly', 'inefficient', 'hr', 'department', 'hr', 'reachable', 'problem', 'good', 'management', 'best', 'job', 'experience', 'working', 'atmosphere', 'issues', 'company', 'promotion', 'stake', 'get', 'job', 'offers', 'work', 'life', 'balance', 'difficult', 'change', 'business', 'operations', 'technical', 'side', 'reason', 'left', 'company', 'yes', 'lot', 'politics', 'middle', 'upper', 'management', 'variable', 'bonus', 'come', 'conservative', 'salaries', 'hikes', 'biggest', 'con', 'also', 'asked', 'technology', 'would', 'like', 'trained', 'could', 'top', 'notch', 'developer', 'may', 'ne', 'thrown', 'testing', 'challange', 'skill', 'management', 'usage', 'new', 'tools', 'lack', 'bit', 'could', 'worst', 'got', 'bad', 'project', 'compensation', 'structure', 'rewarding', 'methodswork', 'life', 'balance', 'projects', 'really', 'cons', 'mention', 'management', 'people', 'wont', 'good', 'projects', 'work', 'polices', 'help', 'grown', 'emplyee', 'work', 'life', 'balance', 'varies', 'project', 'project', 'low', 'ctcprocess', 'technology', 'training', 'allocation', 'timing', 'hours', 'complete', 'lot', 'much', 'tenured', 'employees', 'respectedless', 'pay', 'packagelot', 'politics', 'specially', 'ncr', 'indiabell', 'curve', 'maintained', 'even', 'good', 'employees', 'laid', 'offhr', 'senior', 'management', 'listening', 'employees', 'supporting', 'otherno', 'major', 'projects', 'ncr', 'senior', 'leadership', 'unable', 'attract', 'new', 'projects', 'resulting', 'relocation', 'forcedgetting', 'project', 'talent', 'based', 'purely', 'dependent', 'networkingtoo', 'much', 'bench', 'bad', 'suchexcept', 'much', 'work', 'pressure', 'think', 'specify', 'cons', 'everything', 'good', 'company', 'process', 'centric', 'organisations', 'contribute', 'long', 'processing', 'times', 'cons', 'everything', 'company', 'good', 'less', 'hike', 'employees', 'could', 'see', 'career', 'growth', 'depends', 'project', 'assignment', 'skill', 'work', 'hours', 'could', 'changed', 'months', 'notice', 'period', 'resign', 'salary', 'comparable', 'market', 'others', 'paying', 'however', 'taken', 'perspective', 'ppp', 'wise', 'current', 'cpi', 'level', 'bangaluru', 'much', 'poor', 'project', 'management', 'limited', 'growth', 'experienced', 'people', 'much', 'management', 'oriented', 'less', 'salary', 'get', 'project', 'luck', 'else', 'bench', 'far', 'experienced', 'infrastructure', 'great', 'complex', 'processes', 'clear', 'immediately', 'salary', 'increment', 'year', 'year', 'lesstechnology', 'work', 'minimal', 'working', 'accenture', 'feel', 'good', 'proud', 'freshers', 'well', 'experience', 'influential', 'mentor', 'survive', 'cons', 'searching', 'new', 'opportunities', 'cons', 'till', 'regionalism', 'favoritism', 'issues', 'long', 'working', 'hours', 'norm', 'want', 'get', 'things', 'done', 'accelerated', 'pace', 'time', 'bench', 'long', 'help', 'study', 'new', 'technology', 'everything', 'good', 'farwill', 'update', 'find', 'anything', 'growth', 'many', 'people', 'work', 'satisfaction', 'sometime', 'compensations', 'good', 'people', 'unprofessional', 'hr', 'people', 'zero', 'use', 'proper', 'hikes', 'career', 'opportunities', 'near', 'dear', 'ones', 'project', 'manager', 'senior', 'management', 'choice', 'choose', 'technology', 'enough', 'smart', 'people', 'first', 'principle', 'problem', 'solving', 'indian', 'mentality', 'bossism', 'mid', 'level', 'employees', 'like', 'managers', 'team', 'leads', 'find', 'points', 'unqualified', 'bias', 'management', 'attention', 'division', 'labor', 'think', 'con', 'ten', 'hours', 'mandatorily', 'logged', 'pf', 'projectsnot', 'many', 'work', 'home', 'projectsproject', 'experience', 'totally', 'dependent', 'management', 'end', 'career', 'grouth', 'fource', 'work', 'diffrent', 'location', 'lot', 'pressure', 'work', 'ok', 'compensation', 'good', 'technical', 'knowledge', 'growth', 'less', 'time', 'working', 'hours', 'extended', 'work', 'life', 'balance', 'burden', 'resources', 'uneven', 'work', 'distribution', 'less', 'negligible', 'onsite', 'opportunity', 'career', 'path', 'trainings', 'operations', 'management', 'work', 'balance', 'hypocrisy', 'name', 'women', 'empowerment', 'equality', 'one', 'side', 'need', 'high', 'performance', 'delivered', 'side', 'keep', 'underperforming', 'employees', 'women', 'variable', 'pay', 'myth', 'less', 'onsite', 'opportunities', 'good', 'company', 'work', 'culture', 'great', 'company', 'experienced', 'peoplefor', 'freshers', 'depends', 'project', 'politically', 'minded', 'people', 'lots', 'politics', 'accenture', 'less', 'supporting', 'management', 'lack', 'career', 'mentoring', 'along', 'politics', 'focus', 'management', 'area', 'otherwise', 'good', 'company', 'work', 'onshore', 'opportunities', 'also', 'salary', 'grows', 'snail', 'speed', 'house', 'employees', 'really', 'much', 'cons', 'employer', 'benefits', 'improved', 'less', 'project', 'delhincr', 'people', 'ready', 'relocation', 'issue', 'promotion', 'suitable', 'managers', 'overlooking', 'talented', 'guys', 'say', 'yes', 'sir', 'listening', 'getting', 'quick', 'promotions', 'differes', 'managementovera', 'good', 'less', 'salary', 'ad', 'think', 'anything', 'else', 'rewards', 'process', 'becoming', 'opaque', 'year', 'year', 'less', 'hikes', 'management', 'better', 'tight', 'deadlines', 'focus', 'work', 'quality', 'getting', 'job', 'done', 'shift', 'hour', 'hour', 'minutes', 'enjoyed', 'years', 'accenture', 'harassment', 'respect', 'individual', 'humiliation', 'insult', 'micromanagement', 'unprofessional', 'talksemail', 'threatening', 'via', 'whatsapp', 'leadership', 'inclined', 'towards', 'safeguarding', 'favourites', 'zero', 'knowledge', 'security', 'send', 'manipulated', 'cvs', 'clients', 'bother', 'interact', 'clients', 'post', 'winning', 'projects', 'dirty', 'politics', 'entire', 'management', 'united', 'since', 'know', 'thing', 'security', 'security', 'approach', 'fake', 'story', '•', 'poor', 'management•', 'personal', 'life•', 'unnecessary', 'work', 'pressure', 'start', 'mercy', 'scheduling', 'team', 'computer', 'science', 'graduate', 'end', 'support', 'project', 'tooyou', 'really', 'much', 'say', 'technology', 'want', 'work', 'mastered', 'itlike', 'every', 'company', 'job', 'become', 'mundane', 'teams', 'like', 'involve', 'politics', 'consall', 'goodjust', 'self', 'training', 'period', 'less', 'learn', 'things', 'politics', 'within', 'management', 'growing', 'low', 'salarylack', 'rlack', 'growth', 'opportunitieshighly', 'complexbelieves', 'visibility', 'actual', 'performancepolished', 'politics', 'depends', 'project', 'partiality', 'might', 'kyc', 'remediation', 'process▪', 'planning', 'scheduling', 'managing', 'process', 'meet', 'sla▪', 'recommended', 'process', 'improvement', 'ideas', 'suggested', 'modifications', 'needed▪', 'proven', 'track', 'record', 'prioritizing', 'multitasking', 'often', 'minimal', 'supervision▪', 'ability', 'train', 'people▪', 'good', 'leadership', 'solution', 'solving', 'planning▪', 'investigate', 'source', 'kyc', 'documents', 'deutsche', 'bank', 'clients', 'public', 'internal', 'sources▪', 'annotate', 'documents', 'seek', 'confirmation', 'outreach', 'team', 'required', 'documents', 'sourced', 'client', 'shall', 'onboarded▪', 'investigate', 'assess', 'alerts', 'potential', 'money', 'laundering', 'risks', 'bank', 'investigate', 'review', 'resolve', 'aml', 'related', 'economic', 'sanction', 'related', 'alerts', 'ensure', 'proper', 'investigation', 'suspicious', 'transactions', 'money', 'laundering', 'alerts▪', 'screening', 'process', 'using', 'different', 'tools', 'like', 'rdcpcrlexisnexis', 'huge', 'organisation', 'challenges', 'interlinking', 'departments', 'rehire', 'alumni', 'us', 'region', 'worked', 'foreign', 'country', 'sides', 'company', 'culture', 'successful', 'employees', 'conform', 'culture', 'good', 'thing', 'many', 'means', '’', 'harder', 'seen', 'heard', 'individualit', '’', 'harder', 'get', 'decisions', 'made', 'employees', 'less', 'autonomy', 'hike', 'depends', 'manager', 'flexible', 'shift', 'timing', 'usual', 'software', 'industry', 'leave', 'accenture', 'used', 'strictly', 'follow', 'accenture', 'core', 'values', 'received', 'feedback', 'believe', 'micro', 'management', 'really', 'ridiculous', 'raised', 'voice', 'core', 'values', 'team', 'even', 'bother', 'ask', 'highlighted', 'issue', 'advice', 'would', 'say', 'yes', 'whatever', 'manager', 'senior', 'manager', 'says', 'use', 'brain', 'think', 'core', 'values', 'defined', 'great', 'people', 'organization', 'big', 'company', 'much', 'competetion', 'experienced', 'tenure', 'great', 'accenture', 'good', 'due', 'many', 'people', 'bit', 'difficult', 'grow', 'good', 'company', 'work', 'hard', 'work', 'regular', 'night', 'graveyard', 'shift', 'project', 'work', 'women', 'management', 'positions', 'absolutely', 'one', 'best', 'companies', 'work', 'sap', 'domain', 'mention', 'much', 'internal', 'politics', 'kick', 'people', 'licktoo', 'much', 'variable', 'component', 'paidjob', 'insecurity', 'currently', 'cons', 'location', 'preference', 'granted', 'desired', 'variable', 'pay', 'large', 'chunk', 'ctc', 'invasive', 'customizations', 'erp', 'products', 'exposure', 'recent', 'technologies', 'cons', 'accenture', 'work', 'environment', 'good', 'bangalore', 'projects', 'employees', 'opinion', 'considered', 'related', 'project', 'role', 'faced', 'till', 'find', 'cons', 'company', 'lots', 'pressure', 'low', 'salary', 'freshers', 'poor', 'work', 'life', 'balance', 'internal', 'politicsstagnant', 'growth', 'years', 'onsite', 'opportunities', 'like', 'dreams', 'days', 'someone', 'outstanding', 'performer', 'training', 'working', 'pm', 'one', 'used', 'average', 'taking', 'salary', 'based', 'gcp', 'payroll', 'salary', 'offered', 'onsite', 'hyd', 'hire', 'hyd', 'location', 'put', 'bench', 'immediatly', 'ur', 'nd', 'day', 'work', 'get', 'many', 'calls', 'relocation', 'say', 'ask', 'resign', 'month', 'bench', 'eventhough', 'project', 'ur', 'technology', 'hyd', 'hire', 'youworst', 'food', 'canteenhuge', 'variable', 'payno', 'proper', 'induction', 'new', 'joinersno', 'communication', 'employeesi', 'mood', 'commit', 'suicide', 'getting', 'company', 'na', 'na', 'na', 'cons', 'sayhile', 'remuneration', 'need', 'better', 'workaholic', 'environment', 'less', 'personal', 'time', 'like', 'good', 'low', 'salary', 'hikes', 'difficult', 'get', 'promotions', 'fresher', 'project', 'allocation', 'process', 'needs', 'improved', 'hr', 'responsive', 'anything', 'hiring', 'process', 'pain', 'point', 'bench', 'getting', 'new', 'project', 'domain', 'difficult', 'unless', 'know', 'someone', 'found', 'cons', 'salary', 'highest', 'market', 'worth', 'compare', 'benefits', 'get', 'might', 'get', 'stuck', 'long', 'technique', 'doesnt', 'interst', 'outdated', 'think', 'work', 'life', 'balance', 'salary', 'hike', 'specific', 'company', 'many', 'people', 'stuck', 'projects', 'gets', 'really', 'difficult', 'come', 'management', 'also', 'helping', 'cases', 'join', 'associate', 'level', 'engineer', 'accenture', 'great', 'work', 'dimension', 'variation', 'projects', 'selection', 'cons', 'good', 'management', 'domains', 'volumetric', 'work', 'hr', 'services', 'needs', 'proactive', 'salary', 'little', 'higher', 'abroad', 'opportunities', 'looked', 'upon', 'performance', 'rating', 'system', 'less', 'transparent', 'times', 'easy', 'pick', 'technology', 'choice', 'long', 'working', 'hours', 'hours', 'slow', 'process', 'work', 'life', 'balance', 'salary', 'impressive', 'life', 'threatening', 'transport', 'system', 'unhygienic', 'cafeteria', 'work', 'home', 'options', 'shuttles', 'start', 'place', 'wont', 'wait', 'actual', 'time', 'many', 'employees', 'crowded', 'work', 'expected', 'done', 'upto', 'expectations', 'politics', 'micromanagement', 'recent', 'leadership', 'independence', 'senior', 'management', 'automation', 'next', 'thing', 'short', 'start', 'hating', 'accenture', 'gmail', 'project', 'running', 'policies', 'getting', 'changes', 'frequently', 'many', 'different', 'different', 'cycles', 'like', 'fy', 'cycle', 'leave', 'balance', 'update', 'different', 'cycle', 'variable', 'bonus', 'getting', 'month', 'late', 'hr', 'given', 'rights', 'many', 'checks', 'place', 'despite', 'wanting', 'help', 'employee', 'couldnt', 'bench', 'strategies', 'resource', 'locking', 'projects', 'encouraging', 'days', 'become', 'less', 'like', 'indian', 'companies', 'loosing', 'light', 'terms', 'employee', 'concerns', 'want', 'save', 'politics', 'bench', 'period', 'high', 'relocation', 'poor', 'growth', 'technical', 'skills', 'project', 'politics', 'senior', 'leads', 'work', 'life', 'balance', 'concern', 'per', 'perspective', 'cons', 'orgtransport', 'facility', 'need', 'take', 'concern', 'timings', 'team', 'management', 'transport', 'issues', 'accurate', 'process', 'updates', 'one', 'start', 'career', 'fresherthen', 'take', 'long', 'time', 'get', 'pay', 'scale', 'level', 'comparable', 'good', 'companies', 'hikes', 'good', 'performance', 'management', 'process', 'good', 'never', 'always', 'get', 'kind', 'role', 'technology', 'want', 'everything', 'decided', 'management', 'without', 'even', 'asking', 'preferences', 'limited', 'opportunitiesmanagement', 'separationnot', 'supportive', 'even', 'knowledge', 'due', 'ownership', 'went', 'hands', 'months', 'notice', 'period', 'work', 'life', 'balance', 'low', 'paying', 'good', 'base', 'salary', 'compared', 'market', 'monotonous', 'worknot', 'creative', 'workbonuses', 'paid', 'told', 'low', 'work', 'life', 'balance', 'low', 'salary', 'hike', 'progress', 'company', 'depends', 'upon', 'project', 'getnot', 'good', 'company', 'start', 'career', 'terrible', 'work', 'hours', 'yearly', 'performance', 'review', 'process', 'rigged', 'feel', 'cons', 'accenture', 'tenure', 'faced', 'major', 'challenge', 'work', 'pressure', 'completing', 'module', 'many', 'policiesimplementation', 'poor', 'varies', 'project', 'project', 'cons', 'accenture', 'level', 'good', 'work', 'people', 'culture', 'office', 'get', 'together', 'recognized', 'work', 'motivated', 'unrealistic', 'expectations', 'achieved', 'working', 'office', 'hoursevery', 'day', 'extra', 'effort', 'must', 'know', 'stay', 'away', 'people', 'indulge', 'office', 'politics', 'handle', 'situations', 'appropriately', 'everything', 'good', 'internal', 'increment', 'lower', 'end', 'compared', 'companies', 'huge', 'pool', 'resources', 'advantage', 'disadvantage', 'chances', 'contributions', 'may', 'get', 'overlooked', 'someone', 'else', 'get', 'eat', 'cake', 'work', 'cautious', 'less', 'onshore', 'opportunities', 'could', 'better', 'salary', 'structure', 'heavy', 'pressure', 'work', 'large', 'organization', 'associated', 'competition', 'top', 'project', 'different', 'location', 'try', 'lock', 'open', 'pros', 'cons', 'cons', 'far', 'know', 'cant', 'write', 'simply', 'glassdoor', 'wants', 'twenty', 'words', 'much', 'compliances', 'involvement', 'hr', 'worst', 'referral', 'system', 'sometimes', 'need', 'stretch', 'day', 'work', 'longerhave', 'attend', 'call', 'regular', 'working', 'hours', 'onshore', 'teamsometime', 'worklife', 'balance', 'affected', 'plan', 'wellpolitics', 'every', 'company', 'diverting', 'politics', 'management', 'good', 'operations', 'company', 'pay', 'night', 'shift', 'allowances', 'remuneration', 'less', 'long', 'term', 'people', 'cons', 'know', 'assign', 'work', 'based', 'employees', 'interest', 'forced', 'work', 'technology', 'even', 'want', 'much', 'learn', 'work', 'match', 'payscale', 'less', 'salary', 'shown', 'get', 'newcomer', 'indiaif', 'say', 'lpa', 'package', 'end', 'getting', 'first', 'months', 'cut', 'rest', 'seems', 'complicated', 'compensation', 'less', 'entertainment', 'program', 'employees', 'also', 'everything', 'good', 'new', 'innovations', 'nontransparent', 'policieslocations', 'dependent', 'work', 'ethics', 'work', 'life', 'balance', 'anymore', 'special', 'thanks', 'infosys', 'senior', 'management', 'onsite', 'oppertunity', 'even', 'openings', 'location', 'ratings', 'given', 'properly', 'notice', 'period', 'many', 'people', 'tough', 'stand', 'sea', 'colleagues', 'usual', 'comments', 'differently', 'transparency', 'clarity', 'hrs', 'working', 'reduce', 'company', 'enhance', 'technical', 'skills', 'may', 'able', 'build', 'core', 'competence', 'specific', 'domaintechnology', 'recommend', 'freshers', 'compensation', 'okay', 'past', 'couple', 'years', 'increment', 'falling', 'official', 'many', 'worst', 'part', 'performance', 'appraisal', 'process', 'runs', 'sepaug', 'project', 'tenure', 'gets', 'febmarch', 'change', 'project', 'even', 'well', 'new', 'project', 'rest', 'appraisal', 'period', 'high', 'chance', 'coming', 'bottom', 'grade', 'would', 'eventually', 'mean', 'thrown', 'company', 'location', 'stability', 'matter', 'luck', 'otherwise', 'required', 'move', 'different', 'citylocation', 'bench', 'month', 'give', 'project', 'options', 'take', 'leave', 'company', 'contrary', 'smaller', 'companies', 'valued', 'knowledge', 'product', 'accenture', 'youre', 'valued', 'long', 'youre', 'project', 'project', 'gets', 'youre', 'bench', 'value', 'management', 'good', 'false', 'commttment', 'cant', 'take', 'longer', 'leaves', 'even', 'working', 'yearsforget', 'thinking', 'sabatticalbecomes', 'saturatedyo', 'cant', 'cons', 'bad', 'good', 'work', 'promotion', 'depends', 'upon', 'links', 'manager', 'much', 'consbest', 'supervisors', 'talent', 'leads', 'may', 'loose', 'grip', 'performance', 'changed', 'project', 'lot', 'things', 'apart', 'deliveryin', 'policies', 'transparent', 'one', 'cares', 'field', 'wanted', 'want', 'keep', 'quiet', 'whatever', 'given', 'enjoy', 'working', 'last', 'manager', 'however', 'good', 'team', 'lead', 'lazy', 'management', 'rude', 'behaviour', 'hr', 'treat', 'employee', 'according', 'levelsvery', 'biased', 'projects', 'deals', 'maintenance', 'whole', 'managerial', 'layer', 'full', 'politics', 'never', 'get', 'deserve', 'one', 'way', 'give', 'recognition', 'time', 'promote', 'saying', 'budgetnot', 'sure', 'whose', 'problem', 'definitely', 'person', 'worked', 'tirelessly', 'get', 'achieve', 'targets', 'work', 'life', 'balancemanagers', 'extreme', 'partial', 'always', 'go', 'favouritismonsite', 'opportunities', 'less', 'work', 'life', 'balancemanagers', 'extreme', 'partial', 'always', 'go', 'favouritismonsite', 'opportunities', 'less', 'worst', 'managementdegrading', 'hikes', 'yearsnegative', 'hikesmandatory', 'pip', 'performance', 'improvement', 'plan', 'extra', 'work', 'long', 'work', 'hours', 'hrs', 'poor', 'management', 'employees', 'considered', 'slaves', 'fine', 'hard', 'learn', 'new', 'skills', 'change', 'skill', 'set', 'carrier', 'opportunities', 'mark', 'service', 'based', 'company', 'less', 'opportunity', 'work', 'latest', 'skills', 'yearly', 'hike', 'less', 'manager', 'good', 'less', 'salarythere', 'good', 'chance', 'cs', 'students', 'gets', 'worse', 'projects', 'cs', 'students', 'like', 'biotechnology', 'girls', 'less', 'freedomless', 'recognition', 'appreciation', 'yearly', 'salary', 'increment', 'comparatively', 'low', 'good', 'places', 'work', 'nice', 'place', 'enhace', 'ur', 'skills', 'could', 'better', 'provide', 'good', 'variable', 'pay', 'job', 'profiles', 'fixed', 'randomness', 'hierarchy', 'trainings', 'less', 'management', 'delay', 'promotion', 'much', 'possiblethe', 'hike', 'bonus', 'less', 'existing', 'employeesinstead', 'layoff', 'company', 'compensating', 'giving', 'less', 'hike', 'cons', 'feel', 'difficult', 'switch', 'one', 'project', 'project', 'good', 'current', 'project', 'managers', 'much', 'managerial', 'learning', 'track', 'difficult', 'stuck', 'technology', 'lots', 'people', 'organisation', 'pay', 'mininmal', 'market', 'corrections', 'upto', 'mark', 'first', 'need', 'get', 'good', 'project', 'teach', 'lot', 'technically', 'really', 'good', 'work', 'also', 'leads', 'managers', 'accenture', 'really', 'villions', 'dying', 'free', 'best', 'organisation', 'might', 'pay', 'master', 'industry', 'rough', 'worklife', 'balance', 'low', 'pay', 'slow', 'increase', 'pay', 'culture', 'end', 'spending', 'time', 'road', 'management', 'mark', 'less', 'opportunity', 'technology', 'everyone', 'gets', 'project', 'technology', 'want', 'work', 'hiring', 'firing', 'culture', 'less', 'salary', 'freshersproject', 'management', 'try', 'manupulate', 'lower', 'level', 'employees', 'freshers', 'low', 'hike', 'days', 'mandatory', 'hour', 'log', 'growth', 'work', 'depends', 'solely', 'project', 'may', 'get', 'fired', 'project', 'well', 'onsite', 'opportunity', 'low', 'hr', 'pathetic', 'exposure', 'new', 'technologies', 'skills', 'within', 'project', 'major', 'negative', 'experience', 'company', 'become', 'indian', 'mnc', 'new', 'ceo', 'focus', 'cost', 'cutting', 'example', 'reduced', 'transportation', 'politics', 'prominent', 'one', 'worst', 'hr', 'people', 'low', 'hike', 'politics', 'honey', 'tongue', 'survive', 'work', 'monotonousif', 'new', 'get', 'learn', 'large', 'org', 'handles', 'information', 'security', 'however', 'repetitive', 'say', 'strategy', 'practice', 'intellectual', 'enough', 'compete', 'mbb', 'worth', 'mentioning', 'night', 'shifts', 'bit', 'tough', 'handle', 'takes', 'toll', 'health', 'individual', 'long', 'run', 'cut', 'throat', 'competition', 'firing', 'allegedly', 'performing', 'resources', 'regular', 'basis', 'hierarchical', 'clandestine', 'moderation', 'process', 'lack', 'transparency', 'poor', 'management', 'long', 'working', 'hours', 'bad', 'work', 'life', 'balance', 'work', 'life', 'balance', 'bad', 'times', 'certain', 'projects', 'low', 'salary', 'compared', 'market', 'always', 'politics', 'transport', 'service', 'good', 'performance', 'bonus', 'gets', 'deducted', 'huge', 'amount', 'formula', 'calculate', 'support', 'projects', 'bad', 'terms', 'working', 'hours', 'favoritismhr', 'policies', 'words', 'mandatory', 'lower', 'managementtl', 'asm', 'pathetic', 'working', 'wv', 'project', 'pune', 'location', 'value', 'employee', 'skills', 'interest', 'work', 'technology', 'full', 'rat', 'race', 'managers', 'company', 'respect', 'last', 'thing', 'expect', 'lack', 'onshore', 'opportunitiesvariable', 'pay', 'amount', 'less', 'know', 'cons', 'never', 'worked', 'accenture', 'office', 'politicshave', 'butter', 'manager', 'get', 'somewhereless', 'visibility', 'onshore', 'positions', 'unless', 'lucky', 'work', 'life', 'balance', 'depends', 'upon', 'projectlow', 'hikeyou', 'alloted', 'skill', 'irrespective', 'academic', 'background', 'lots', 'politics', 'dont', 'talent', 'skill', 'even', 'get', 'promotions', 'hikes', 'praise', 'boss', 'even', 'propose', 'ideas', 'deliver', 'good', 'matter', 'get', 'good', 'feedback', 'client', 'boss', 'team', 'gone', 'one', 'best', 'company', 'work', 'dynamic', 'performance', 'based', 'evaluation', 'moment', 'work', 'smooth', 'well', 'planned', 'accenture', 'offshore', 'takes', 'instruction', 'onshore', 'assumed', 'consider', 'every', 'one', 'onshore', 'accenture', 'god', 'questioned', 'asked', 'god', 'like', 'master', 'slaves', 'accenture', 'bg', 'employee', 'keep', 'even', 'bg', 'fails', 'ask', 'employee', 'leave', 'bench', 'expected', 'outcome', 'outcome', 'person', 'project', 'bench', 'resign', 'bench', 'asked', 'leave', 'company', 'week', 'save', 'cost', 'company', 'happened', 'close', 'friends', 'biggest', 'pain', 'area', 'time', 'depends', 'individuals', 'offshore', 'manager', 'director', 'india', 'questioned', 'onshore', 'accenture', 'developer', 'level', 'offshore', 'manager', 'director', 'choice', 'rather', 'obey', 'orders', 'even', 'developer', 'tester', 'junior', 'level', 'onshore', 'means', 'team', 'offshore', 'suffers', 'till', 'work', 'accenture', 'ready', 'late', 'evening', 'work', 'happy', 'weekend', 'work', 'management', 'good', 'one', 'project', 'worked', 'biggest', 'mistake', 'accenture', 'adopting', 'performance', 'achievement', 'policy', 'comming', 'bell', 'cure', 'higly', 'misused', 'tool', 'manager', 'complete', 'hold', 'youits', 'decided', 'say', 'comparision', 'peers', 'followedjust', 'name', 'changed', 'rest', 'samepoor', 'appraisal', 'even', 'get', 'negative', 'surprising', 'every', 'project', 'ask', 'change', 'skills', 'learn', 'thing', 'related', 'primary', 'skills', 'many', 'people', 'service', 'industry', 'lesser', 'visibility', 'adhoctoo', 'big', 'organizationif', 'friends', 'really', 'difficult', 'first', 'months', 'organization', 'also', 'get', 'project', 'salary', 'increments', 'less', 'crowded', 'cafeteriasmany', 'people', 'competition', 'since', 'big', 'organization', 'growth', 'slow', 'serious', 'cons', 'say', 'level', 'seating', 'planned', 'properly', 'working', 'night', 'shifts', 'may', 'downside', 'feel', 'getting', 'promotion', 'hard', 'part', 'sometimes', 'decided', 'based', 'individuals', 'work', 'work', 'home', 'stopped', 'much', 'politics', 'grow', 'either', 'link', 'top', 'management', 'else', 'keep', 'working', 'like', 'slaves', 'much', 'fakeness', 'many', 'relative', 'working', 'project', 'ideally', 'happen', 'hampers', 'transparency', 'forget', 'variable', 'component', 'ctc', 'never', 'get', 'trap', 'hiring', 'member', 'good', 'projects', 'formal', 'dressing', 'firms', 'work', 'intellectual', 'assets', 'focus', 'generating', 'intellectual', 'assets', 'clothes', 'non', 'know', 'difficult', 'change', 'profile', 'working', 'frenchise', 'factory', 'model', 'idc', 'run', 'mostly', 'nontech', 'inefficient', 'people', 'promote', 'lobby', 'business', 'analyst', 'good', 'technology', 'better', 'go', 'technology', 'delivery', 'company', 'pros', 'company', 'waste', 'time', 'attendnot', 'office', 'serious', 'goals', 'career', 'bit', 'cost', 'cutting', 'kolkata', 'location', 'large', 'bench', 'poolcafeteria', 'food', 'upto', 'mark', 'human', 'touch', 'everything', 'digitized', 'bring', 'initiative', 'campaign', 'employee', 'wellbeing', 'major', 'cons', 'company', 'less', 'career', 'switching', 'opportunity', 'shift', 'timing', 'onsite', 'food', 'facility', 'less', 'quality', 'work', 'management', 'levels', 'overloaded', 'worknot', 'much', 'quality', 'work', 'web', 'apps', 'including', 'publishing', 'maintenance', 'hike', 'upto', 'mark', 'good', 'compnay', 'workgood', 'enviormnet', 'good', 'cafeteria', 'due', 'increasing', 'work', 'force', 'quality', 'professional', 'getting', 'compromised', 'lack', 'transparency', 'promotions', 'hikes', 'way', 'less', 'difficult', 'get', 'roll', 'projects', 'using', 'outdated', 'technology', 'less', 'appreciation', 'recognition', 'st', 'year', 'freshers', 'get', 'less', 'productive', 'work', 'technology', 'used', 'many', 'dated', 'legacy', 'systems', 'promotions', 'increment', 'percentages', 'paying', 'less', 'salary', 'compare', 'market', 'standardfocusing', 'cost', 'cutting', 'could', 'think', 'work', 'life', 'balance', 'salary', 'standards', 'industry', 'middle', 'management', 'sandwiched', 'work', 'pressure', 'every', 'thing', 'fine', 'except', 'working', 'hours', 'cons', 'good', 'performance', 'based', 'promotion', 'sometime', 'compromised', 'tenure', 'much', 'bench', 'strengthworst', 'hr', 'management', 'variable', 'package', 'takes', 'little', 'time', 'understand', 'company', 'policies', 'sometimes', 'particular', 'team', 'leadership', 'pragmatic', 'understand', 'changing', 'market', 'conditions', 'also', 'skillsets', 'required', 'low', 'package', 'compared', 'companies', 'work', 'life', 'balance', 'equal', 'distribution', 'work', 'performance', 'management', 'system', 'mostly', 'perception', 'moderation', 'process', 'inthe', 'recent', 'times', 'bad', 'good', 'projects', 'capability', 'network', 'practiceno', 'onsite', 'opportunitiesnot', 'challenging', 'environment', 'much', 'work', 'bad', 'aplicable', 'na', 'slow', 'growth', 'may', 'expect', 'quick', 'promotions', 'like', 'new', 'org', 'small', 'company', 'excellent', 'team', 'work', 'discpline', 'compromise', 'respect', 'seniors', 'comes', 'people', 'cheap', 'female', 'dominated', 'gender', 'discriminationunder', 'paid', 'wages', 'males', 'females', 'get', 'promoted', 'easily', 'maintaining', 'personal', 'professional', 'relationcontractors', 'removed', 'terminated', 'reason', 'stating', 'contract', 'end', 'position', 'available', 'like', 'performance', 'wisename', 'sake', 'leaderships', 'top', 'humanitysisters', 'hire', 'sisters', 'brothers', 'hire', 'brothers', 'instead', 'professional', 'enivironment', 'family', 'tournament', 'inside', 'sickhr', 'team', 'numb', 'come', 'expect', 'culture', 'values', 'pevert', 'managers', 'hire', 'red', 'gangs', 'policies', 'made', 'head', 'word', 'peoplefemales', 'dual', 'jobs', 'company', 'encourages', 'wow', 'good', 'policy', 'enough', 'review', 'want', 'waste', 'time', 'lost', 'confidence', 'working', 'limp', 'sh', 'decisions', 'top', 'management', 'managers', 'managers', 'unfit', 'less', 'knowledge', 'skills', 'work', 'life', 'balanceworking', 'hours', 'work', 'culture', 'deteriorating', 'day', 'day', 'laterals', 'gives', 'good', 'hike', 'hiring', 'normalizesreduces', 'current', 'employees', 'consecutive', 'year', 'compensation', 'less', 'annual', 'hikes', 'politics', 'upper', 'management', 'level', 'pay', 'fine', 'person', 'leave', 'accenture', 'fr', 'sure', 'projects', 'good', 'narrow', 'minded', 'managementmostly', 'service', 'based', 'projects', 'less', 'growth', 'fresher', 'mid', 'senior', 'level', 'management', 'project', 'plays', 'around', 'much', 'politics', 'either', 'much', 'workload', 'work', 'leas', 'unbalanced', 'life', 'stressful', 'times', 'insufficient', 'compensation', 'office', 'gossip', 'salary', 'highly', 'variable', 'grade', 'development', 'learning', 'stuck', 'old', 'technologies', 'internal', 'projects', 'difficult', 'change', 'skill', 'limited', 'learning', 'experience', 'stay', 'project', 'long', 'discrimination', 'levelschange', 'policy', 'promotion', 'frequently', 'cost', 'cuttingfor', 'bscit', 'graduate', 'growth', 'year', 'felt', 'anything', 'bad', 'accenture', 'weekend', 'shifts', 'domain', 'specific', 'growth', 'change', 'randomly', 'allocated', 'stream', 'freshers', 'enough', 'work', 'exposure', 'freshers', 'variable', 'totally', 'based', 'du', 'leadit', 'may', 'variate', 'get', 'time', 'comes', 'around', 'salary', 'lowtakes', 'time', 'get', 'new', 'ppsitions', 'bad', 'managementno', 'shift', 'allowances', 'permanent', 'employee', 'operationscafetaria', 'provide', 'variety', 'amthis', 'makes', 'life', 'difficult', 'people', 'night', 'shift', 'graveyard', 'shift', 'difficult', 'much', 'say', 'cons', 'behaviour', 'project', 'managers', 'good', 'towards', 'employeechange', 'project', 'really', 'hard', 'management', 'approvemost', 'good', 'projects', 'banglore', 'location', 'hardship', 'fresherstrainings', 'good', 'timings', 'push', 'employee', 'office', 'work', 'dont', 'choice', 'select', 'project', 'tremendous', 'pressure', 'overall', 'system', 'join', 'project', 'need', 'little', 'scope', 'want', 'follow', 'specific', 'path', 'favoritism', 'merit', 'sidelined', 'possible', 'appraisal', 'hr', 'dont', 'complete', 'control', 'stop', 'nepotism', 'growth', 'subject', 'company', 'policies', 'location', 'preferences', 'made', 'available', 'employees', 'managers', 'favours', 'regional', 'people', 'accenture', 'top', 'worst', 'possible', 'ways', 'starting', 'entry', 'gate', 'exit', 'gate', 'bad', 'indian', 'managers', 'much', 'focus', 'shareholders', 'nowadays', 'profit', 'minded', 'focus', 'shifting', 'away', 'employees', 'less', 'challanging', 'projects', 'much', 'good', 'projects', 'rotational', 'shift', 'depends', 'project', 'projet', 'onsite', 'opportunity', 'need', 'start', 'day', 'carecrunch', 'married', 'employees', 'kids', 'work', 'life', 'balance', 'difficult', 'shiftscompany', 'focus', 'health', 'employees', 'well', 'company', 'goals', 'senior', 'management', 'sometimes', 'dominant', 'projects', 'get', 'rolled', 'variable', 'pay', 'less', 'many', 'processes', 'changing', 'projects', 'takes', 'much', 'time', 'hard', 'get', 'wide', 'experience', 'bureaucracy', 'managers', 'beg', 'leaves', 'consideration', 'whether', 'sick', 'well', 'come', 'office', 'shrinkage', 'matters', 'life', 'management', 'changing', 'like', 'iip', 'less', 'resources', 'support', 'projects', 'manager', 'badyou', 'going', 'hell', 'lot', 'problemsinitially', 'company', 'really', 'good', 'terms', 'behaviourwork', 'etcnow', 'become', 'difficult', 'surviveif', 'know', 'butter', 'mgr', 'canur', 'work', 'documentations', 'dayssalesforce', 'especially', 'give', 'preference', 'employees', 'work', 'inflexible', 'work', 'environmentcrowdedbad', 'resource', 'utilisation', 'fresher', 'realize', 'con', 'ok', 'much', 'flexibility', 'move', 'across', 'verticals', 'promotion', 'process', 'becomes', 'blind', 'recognise', 'good', 'people', 'many', 'processes', 'folllw', 'politics', 'less', 'salary', 'ego', 'problems', 'senior', 'management', 'bad', 'crowd', 'delegation', 'work', 'nepotism', 'management', 'upto', 'mark', 'comfort', 'zone', 'accenture', 'bad', 'peoples', 'industry', 'worst', 'management', 'might', 'disturb', 'career', 'communication', 'great', 'consulting', 'people', 'opportunistic', 'look', 'long', 'term', 'short', 'term', 'gains', 'hike', 'lesslot', 'weekend', 'work', 'randomly', 'allocation', 'project', 'join', 'fresher', 'growth', 'yearly', 'hike', 'depends', 'project', 'demanding', 'skill', 'set', 'leads', 'support', 'good', 'fresher', 'package', 'high', 'shifts', 'transport', 'workload', 'leave', 'onsite', 'shift', 'timings', 'little', 'difficult', 'focus', 'skill', 'improvement', 'pathetic', 'leadership', 'management', 'really', 'good', 'free', 'foodoffice', 'timings', 'hrs', 'less', 'onsite', 'opportunityvisibility', 'upto', 'mark', 'highlight', 'salaries', 'competitivethere', 'downside', 'share', 'much', 'work', 'load', 'pressure', 'working', 'hours', 'hours', 'much', 'growth', 'stay', 'longer', 'time', 'seriously', 'overpaid', 'menial', 'work', 'high', 'focus', 'practice', 'related', 'events', 'vs', 'projects', 'long', 'term', 'see', 'growth', 'salaries', 'less', 'compared', 'companies', 'dont', 'know', 'politics', 'supervisor', 'good', 'put', 'anyone', 'pip', 'time', 'policy', 'although', 'employees', 'made', 'work', 'overtime', 'individual', 'managers', 'hr', 'majorly', 'favor', 'management', 'decision', 'guidelines', 'favor', 'management', 'bad', 'transport', 'team', 'policies', 'employee', 'always', 'made', 'scapegoatoutsourcing', 'employees', 'pick', 'cancelled', 'hours', 'ahead', 'scheduled', 'time', 'drop', 'hours', 'ahead', 'else', 'employee', 'tagged', 'show', 'taken', 'employee', 'annual', 'performance', 'review', 'wikipedia', 'states', 'average', 'indians', 'receive', 'days', 'paid', 'leave', 'year', 'employees', 'also', 'entitled', 'paid', 'public', 'holidays', 'depending', 'region', 'accenture', 'provides', 'days', 'paid', 'annual', 'leave', 'indian', 'holidays', 'outsourcing', 'employeesthere', 'public', 'holidays', 'outsourcing', 'employees', 'accentureit', 'impacts', 'work', 'life', 'balancemoreover', 'rewards', 'recognition', 'party', 'annual', 'bash', 'etc', 'kept', 'sundays', 'employees', 'forced', 'attend', 'impacts', 'overall', 'work', 'life', 'balance', 'call', 'got', 'selected', 'amcat', 'call', 'one', 'batch', 'got', 'selected', 'amcat', 'reject', 'others', 'saying', 'months', 'also', 'one', 'thousand', 'mail', 'regret', 'inform', 'currently', 'hiring', 'peoples', 'campus', 'even', 'mail', 'campus', 'querries', 'reply', 'asap', 'starting', 'months', 'stop', 'reply', 'may', 'sign', 'rejecting', 'depends', 'particular', 'people', 'deal', 'dont', 'pick', 'fight', 'managersenior', 'manager', 'person', 'screw', 'accenture', 'much', 'internal', 'politics', 'bad', 'management', 'rotational', 'policy', 'onsite', 'work', 'life', 'balance', 'needs', 'improvement', 'mediocre', 'paymentodd', 'shifts', 'working', 'round', 'clocktoo', 'many', 'people', 'bench', 'paid', 'work', 'life', 'balance', 'little', 'compromised', 'onsite', 'difficult', 'projects', 'salary', 'hike', 'average', 'may', 'get', 'stuck', 'one', 'project', 'long', 'time', 'repetitive', 'thingspay', 'less', 'freshers', 'overall', 'amazing', 'work', 'experience', 'accenture', 'managers', 'good', 'bad', 'worst', 'hr', 'team', 'worst', 'project', 'allocation', 'team', 'cant', 'choose', 'technology', 'interests', 'need', 'relocate', 'india', 'less', 'salary', 'monthly', 'work', 'life', 'balance', 'takes', 'toll', 'vp', 'expect', 'even', 'senior', 'manager', 'time', 'goes', 'mis', 'activities', 'low', 'salary', 'fewer', 'opportunities', 'move', 'quickly', 'service', 'based', 'company', 'less', 'exposure', 'listenedonly', 'speak', 'excellent', 'company', 'purticular', 'cons', 'good', 'freshersvery', 'less', 'opportunities', 'learn', 'performmore', 'idle', 'timeless', 'salary', 'depend', 'upon', 'projects', 'assigned', 'limited', 'opportunities', 'mumbai', 'oracle', 'appsper', 'year', 'hike', 'greatperformance', 'outcome', 'may', 'depend', 'orientation', 'role', 'towards', 'manager', 'perception', 'hence', 'regular', 'contributions', 'project', 'success', 'factors', 'matter', 'cons', 'best']\n"
     ]
    }
   ],
   "source": [
    "print(filtered_con_words)"
   ]
  },
  {
   "cell_type": "code",
   "execution_count": 95,
   "metadata": {
    "collapsed": true
   },
   "outputs": [],
   "source": [
    "filtered_adv_words = []\n",
    "\n",
    "for word in adv_words:\n",
    "    if word not in stopwords:\n",
    "        filtered_adv_words.append(word)"
   ]
  },
  {
   "cell_type": "code",
   "execution_count": 96,
   "metadata": {},
   "outputs": [
    {
     "name": "stdout",
     "output_type": "stream",
     "text": [
      "['permanent', 'psychologist', 'available', 'campus', 'employees', 'discuss', 'insecurities', 'good', 'favour', 'employees', 'managers', 'tls', 'low', 'level', 'employees', 'actual', 'work', 'nothibg', 'flexible', 'good', 'keep', 'hr', 'frequent', 'meeting', 'teams', 'address', 'concern', 'management', 'care', 'employee', 'give', 'equal', 'opportunity', 'promotion', 'new', 'joinees', 'project', 'less', 'pressure', 'pl', 'look', 'career', 'growth', 'challenges', 'women', 'employees', 'try', 'create', 'positions', 'within', 'department', 'mid', 'level', 'management', 'improved', 'check', 'hr', 'ensure', 'play', 'thier', 'role', 'fairly', 'influence', 'project', 'great', 'bring', 'transparency', 'appraisal', 'process', 'improve', 'ability', 'see', 'productive', 'workers', 'provide', 'management', 'role', 'young', 'indians', 'tap', 'new', 'markets', 'employee', 'satisfaction', 'declining', 'ensure', 'employee', 'career', 'goals', 'kept', 'mind', 'instead', 'pushing', 'unexciting', 'projects', 'time', 'keep', 'good', 'work', 'going', 'monitory', 'benefits', 'improved', 'value', 'senior', 'experienced', 'employees', 'groom', 'utilise', 'take', 'care', 'appraisals', 'reward', 'employee', 'based', 'performance', 'regardless', 'years', 'establishment', 'quite', 'approachable', 'keep', 'request', 'front', 'happy', 'take', 'advice', 'advice', 'provide', 'management', 'cost', 'cutting', 'solution', 'profit', 'keep', 'improvement', 'performance', 'appraisal', 'system', 'management', 'give', 'much', 'pressure', 'work', 'done', 'appreciations', 'motivation', 'take', 'care', 'appraisals', 'reward', 'employee', 'based', 'performance', 'regardless', 'years', 'establishment', 'scrutinize', 'levels', 'management', 'concentrate', 'performance', 'appraisal', 'equally', 'thoroughly', 'levels', 'keep', 'could', 'improve', 'maintenance', 'work', 'place', 'provide', 'better', 'cafeteria', 'breakout', 'area', 'facilities', 'learn', 'recognise', 'talent', 'empower', 'hr', 'critically', 'evaluate', 'performance', 'cycletry', 'understand', 'high', 'performers', 'stagnant', 'level', 'inspite', 'good', 'ratingsdont', 'become', 'cost', 'centered', 'services', 'company', 'take', 'wherementor', 'leaders', 'build', 'successful', 'teams', 'managers', 'get', 'things', 'done', 'cost', 'take', 'toll', 'employee', 'well', 'turn', 'would', 'impact', 'organisation', 'well', 'care', 'anyone', 'advice', 'work', 'timings', 'management', 'work', 'completion', 'focused', 'rather', 'maintaining', 'timings', 'take', 'employee', 'suggestion', 'priority', 'people', 'working', 'ground', 'know', 'done', 'take', 'interest', 'junior', 'level', 'employees', 'feel', 'project', 'backbone', 'company', 'working', 'class', 'sure', 'satisfy', 'address', 'concerns', 'otherwise', 'people', 'would', 'start', 'leaving', 'take', 'accenture', 'former', 'glory', 'management', 'revoke', 'reforms', 'address', 'potential', 'candidates', 'good', 'mention', 'always', 'helpful', 'respect', 'core', 'values', 'made', 'accenture', '’', 'worry', 'green', 'excels', 'worry', 'resources', 'aspirations', 'also', 'human', 'beings', 'life', 'slaves', 'say', 'resource', 'allignment', 'skill', 'set', 'handled', 'carefully', 'keep', 'working', 'like', 'ruin', 'company', 'employees', 'need', 'flexibility', 'wfh', 'etc', 'commitments', 'fulfilled', 'mangars', 'good', 'except', 'come', 'cheap', 'area', 'experience', 'years', 'match', 'companies', 'core', 'value', 'standard', 'managers', 'keep', 'non', 'technical', 'persons', 'technical', 'rolethey', 'life', 'hell', 'technical', 'people', 'late', 'many', 'good', 'people', 'left', 'friendly', 'pulse', 'survey', 'good', 'unable', 'get', 'ground', 'reality', 'useful', 'fresher', 'advice', 'clear', 'employees', 'use', 'ase', 'told', 'like', 'backup', 'labor', 'keep', 'employee', 'satisfied', 'focus', 'upcoming', 'technology', 'level', 'give', 'good', 'hike', 'could', 'employee', 'friendly', 'listen', 'ideas', 'juniors', 'must', 'chose', 'managers', 'wisely', 'honest', 'transparent', 'employee', 'lie', 'people', 'transparent', 'appraisal', 'process', 'ensure', 'proportion', 'workload', 'number', 'employees', 'well', 'maintained', 'overlook', 'caliber', 'resources', 'umbrella', 'corporate', 'politics', 'transparency', 'mustplease', 'count', 'talent', 'work', 'listen', 'lower', 'grades', 'employees', 'aswell', 'time', 'revise', 'payments', 'look', 'employees', 'giving', 'personal', 'time', 'well', 'work', 'try', 'address', 'basic', 'concerns', 'take', 'employees', 'granted', 'every', 'time', 'pay', 'employees', 'according', 'performance', 'based', 'budget', 'applicable', 'increase', 'pay', 'standards', 'keep', 'good', 'work', 'good', 'organization', 'employees', 'liberty', 'choose', 'projects', 'based', 'skill', 'set', 'working', 'hours', 'strictly', 'followed', 'work', 'life', 'balanced', 'provide', 'opportunities', 'grow', 'fields', 'passion', 'talent', 'lies', 'flexibility', 'change', 'projects', 'pick', 'skills', 'one', 'choice', 'efficient', 'managers', 'avoid', 'losing', 'great', 'resources', 'help', 'people', 'upgrade', 'listen', 'employees', 'complaintshrs', 'take', 'feedbacks', 'managersconduct', 'communication', 'classes', 'managers', 'especially', 'india', 'majority', 'even', 'know', 'provide', 'pass', 'message', 'quick', 'deployment', 'resources', 'useful', 'roles', 'take', 'place', 'engage', 'team', 'hear', 'voice', 'creating', 'extra', 'vertical', 'help', 'job', 'easy', 'company', 'project', 'respect', 'care', 'employees', 'need', 'understand', 'familiarize', 'ground', 'realities', 'micromanagement', 'sometimes', 'counter', 'productive', 'created', 'new', 'positionsdesignations', 'technical', 'people', 'fairand', 'support', 'staff', 'pay', 'variable', 'amount', 'employees', 'number', 'days', 'employee', 'time', 'improve', 'much', 'act', 'fast', 'look', 'human', 'assistance', 'case', 'need', 'pay', 'employees', 'work', 'exploit', 'workforce', 'smaller', 'biscuits', 'transparent', 'decision', 'making', 'improve', 'appraisal', 'performance', 'improvement', 'program', 'hear', 'employee', 'say', 'appraisal', 'outcome', 'rocking', 'good', 'believe', 'employees', 'take', 'care', 'keep', 'good', 'work', 'take', 'seasoned', 'resource', 'good', 'management', 'leadership', 'get', 'involved', 'team', 'kindly', 'stop', 'play', 'micromanagement', 'take', 'team', 'suggestions', 'bit', 'seriously', 'improve', 'mindspace', 'accenture', 'facilities', 'keep', 'good', 'work', 'skip', 'level', 'meetings', 'employees', 'compensation', 'revisited', 'existing', 'employees', 'get', 'life', 'advice', 'till', 'date', 'create', 'regular', 'opportunities', 'employee', 'learn', 'new', 'things', 'share', 'resources', 'need', 'allocate', 'minimum', 'budget', 'get', 'reward', 'lower', 'level', 'employees', 'difficult', 'handle', 'projects', 'time', 'return', 'heshe', 'getting', 'anything', 'respect', 'working', 'hard', 'deliver', 'services', 'client', 'utilize', 'people', 'working', 'pressure', 'people', 'working', 'consider', 'personal', 'interest', 'along', 'business', 'needs', 'retain', 'talented', 'employees', 'giving', 'best', 'compensation', 'letting', 'many', 'go', 'big', 'companies', 'staff', 'left', 'behind', 'interested', 'create', 'system', 'architecture', 'without', 'valuable', 'resources', 'focus', 'building', 'good', 'leadership', 'recognize', 'real', 'team', 'player', 'entertain', 'take', 'salary', 'employee', 'satisfaction', 'stay', 'accenture', 'ruin', 'companies', 'better', 'uplines', 'supportive', 'enough', 'get', 'many', 'implementation', 'projects', 'latest', 'product', 'client', 'everything', 'advice', 'give', 'hikes', 'options', 'talented', 'persons', 'scratching', 'batch', 'assist', 'junior', 'level', 'resources', 'responsibilities', 'help', 'business', 'level', 'approach', 'lets', 'try', 'bring', 'initiatives', 'work', 'life', 'balance', 'across', 'levels', 'want', 'give', 'worst', 'lotsany', 'advice', 'would', 'fall', 'deaf', 'ears', 'give', 'values', 'technical', 'employee', 'chit', 'chat', 'nicely', 'give', 'promotion', 'tenure', 'staff', 'rather', 'hiring', 'outside', 'yearly', 'bonus', 'given', 'bring', 'trendy', 'instruments', 'talent', 'management', 'development', 'keep', 'good', 'work', 'management', 'great', 'play', 'employee', 'life', 'frank', 'sure', 'send', 'offer', 'letter', 'soon', 'possible', 'use', 'games', 'hold', 'employee', 'simply', 'saying', 'selected', 'stringent', 'rules', 'managers', 'exploit', 'freshers', 'management', 'cool', 'one', 'point', 'add', 'let', 'employee', 'switch', 'project', 'ready', 'continue', 'project', 'let', 'grow', 'learn', 'new', 'things', 'important', 'let', 'employees', 'fun', 'much', 'focus', 'work', 'makes', 'bored', 'dullwonderful', 'initiatives', 'gender', 'diversity', 'inclusion', 'etc', 'activesupport', 'technical', 'people', 'check', 'talking', 'big', 'game', 'actually', 'winning', 'big', 'gamesrecognize', 'talent', 'skill', 'hardwork', 'listen', 'discuss', 'people', 'problem', 'think', 'give', 'salary', 'hikes', 'based', 'performance', 'hr', 'policies', 'bell', 'curve', 'improved', 'improve', 'efficiency', 'pmo', 'teams', 'reward', 'recognition', 'everyone', 'manage', 'key', 'resources', 'well', 'much', 'improve', 'expect', 'recruitment', 'process', 'india', 'professional', 'standard', 'company', 'depends', 'leadership', 'ceo', 'department', 'heads', 'manager', 'team', 'leader', 'professional', 'team', 'inhibit', 'quality', 'show', 'favouritism', 'expect', 'team', 'ignore', 'dont', 'annoyed', 'work', 'life', 'balance', 'taken', 'top', 'priority', 'advice', 'meetings', 'lower', 'order', 'associates', 'get', 'know', 'actual', 'issues', 'work', 'given', 'instead', 'working', 'per', 'supervisors', 'feedbacks', 'honest', 'unbiased', 'program', 'project', 'management', 'required', 'good', 'work', 'manager', 'level', 'pay', 'attention', 'talent', 'rapport', 'notice', 'period', 'less', 'months', 'care', 'use', 'suggestions', 'good', 'derive', 'proper', 'communication', 'could', 'provide', 'better', 'salary', 'employees', 'management', 'comes', 'earplugs', 'nod', 'change', 'whatsoever', 'know', 'know', 'mediocrity', 'vibe', 'haunt', 'everyday', 'get', 'touch', 'people', 'work', 'hr', 'management', 'work', 'together', 'stop', 'giving', 'pip', 'employees', 'becuz', 'bring', 'long', 'term', 'projects', 'adjust', 'time', 'things', 'hiring', 'oursiders', 'higher', 'package', 'gives', 'demotivation', 'existing', 'employee', 'professional', 'working', 'transparentto', 'know', 'accenture', '’', 'culture', 'various', 'offices', 'visit', 'us', 'wrkvibe', 'stop', 'considering', 'freshers', 'sheepone', 'friends', 'lot', 'freelance', 'experience', 'web', 'development', 'right', 'college', 'assigned', 'mainframe', 'technology', 'practically', 'deadhe', 'bench', 'months', 'left', 'let', 'get', 'projects', 'skills', 'actually', 'expertise', 'appreciaterecognize', 'hardworking', 'people', 'without', 'nice', 'pay', 'everyone', 'suffers', 'keep', 'politics', 'away', 'specific', 'much', 'process', 'oriented', 'sometime', 'important', 'box', 'things', 'order', 'achieve', 'something', 'good', 'colleague', 'mine', 'denied', 'promotion', 'missed', 'complete', 'training', 'advice', 'break', 'management', 'multiple', 'manager', 'shared', 'across', 'different', 'projectsplease', 'suffer', 'employees', 'stay', 'taking', 'leaves', 'training', 'good', 'give', 'chance', 'new', 'employees', 'choose', 'technology', 'mismanagement', 'keep', 'great', 'job', 'guys', 'would', 'advice', 'management', 'take', 'care', 'collegues', 'strictly', 'follow', 'hour', 'policy', 'tl', 'employees', 'personal', 'life', 'due', 'working', 'culture', 'working', 'one', 'sweden', 'based', 'client', 'strictly', 'follow', 'timing', 'per', 'timing', 'pm', 'gets', 'locked', 'chance', 'unlock', 'door', 'otherwise', 'security', 'open', 'nobody', 'allowed', 'stay', 'officeplease', 'india', 'cheap', 'labour', 'country', 'humans', 'policy', 'stay', 'hours', 'office', 'leave', 'office', 'keep', 'crucial', 'resources', 'well', 'fed', 'drive', 'growth', 'ones', 'work', 'average', 'payscale', 'add', 'head', 'count', 'easily', 'replacable', 'try', 'eliminate', 'favoritism', 'neutral', 'giving', 'reward', 'improve', 'satisfaction', 'level', 'employee', 'also', 'improve', 'employee', 'turnover', 'ratio', 'increase', 'job', 'security', 'comments', 'dont', 'play', 'someone', 'future', 'kindly', 'get', 'rid', 'stagnant', 'managers', 'especially', 'kolkata', 'treat', 'employees', 'humans', 'resources', 'work', 'environment', 'accenture', 'kolkata', 'toxic', 'lock', 'resource', 'project', 'unnecessarily', 'work', 'present', 'reduce', 'variable', 'pay', 'everything', 'fine', 'change', 'training', 'plans', 'freshers', 'consider', 'candidates', 'skillseteducation', 'background', 'allocating', 'projects', 'keep', 'good', 'work', 'safety', 'security', 'little', 'common', 'sense', 'employees', 'hour', 'shift', 'hour', 'shift', 'getting', 'paid', 'hoursemployees', 'life', 'toonot', 'work', 'office', 'time', 'wait', 'cab', 'travel', 'break', 'organizational', 'structure', 'resultpassion', 'driven', 'pay', 'employees', 'focus', 'people', 'development', 'keep', 'good', 'work', 'come', 'back', 'earlier', 'hike', 'system', 'want', 'retain', 'good', 'employees', 'company', 'advice', 'management', 'good', 'try', 'retaining', 'talented', 'employees', 'good', 'compensation', 'stop', 'covering', 'mistakes', 'done', 'leadership', 'team', 'focus', 'including', 'latest', 'technologies', 'upskilling', 'current', 'employess', 'let', 'people', 'hired', 'pre', 'era', 'undergo', 'management', 'training', 'sense', 'manage', 'people', 'motivate', 'way', 'also', 'english', 'speaking', 'courses', 'would', 'help', 'plenty', 'managers', 'especially', 'mumbai', 'pune', 'keep', 'policies', 'minimum', 'bringing', 'employees', 'change', 'hr', 'policy', 'level', 'change', 'promotion', 'policy', 'also', 'getting', 'complex', 'navigate', 'medical', 'cab', 'provided', 'pregnant', 'ladies', 'time', 'need', 'better', 'flow', 'information', 'improved', 'value', 'information', 'increase', 'compensation', 'give', 'hikes', 'based', 'work', 'employee', 'willing', 'walk', 'steps', 'move', 'atleast', 'step', 'towards', 'themtry', 'retain', 'good', 'people', 'giving', 'benefitshikes', 'cycle', 'rather', 'hiring', 'new', 'person', 'amount', 'wouldve', 'costed', 'retain', 'older', 'one', 'work', 'points', 'mentioned', 'cons', 'improve', 'company', 'image', 'considerate', 'employee', 'skills', 'policies', 'place', 'people', 'act', 'also', 'flexible', 'things', 'like', 'transfer', 'within', 'facilities', 'give', 'value', 'employee', 'feedback', 'management', 'market', 'standardization', 'ensure', 'page', 'accenture', 'try', 'retain', 'previous', 'talent', 'giving', 'good', 'hikes', 'compensations', 'instead', 'giving', 'huge', 'hikes', 'lateral', 'hires', 'let', 'good', 'resources', 'go', 'resources', 'even', 'work', 'get', 'awesome', 'hikes', 'hand', 'resources', 'gives', 'effort', 'gets', 'peanuts', 'focus', 'ncr', 'remove', 'micro', 'management', 'reward', 'focus', 'good', 'performancemanagement', 'wants', 'employee', 'learn', 'possible', 'technologies', 'available', 'market', 'petty', 'salaries', 'implement', 'strict', 'skill', 'based', 'performance', 'soon', 'possiblecreate', 'team', 'overview', 'performance', 'process', 'city', 'wisestart', 'anonymous', 'reverse', 'feedback', 'employee', 'manager', 'welltake', 'grievance', 'seriously', 'management', 'otherwise', 'good', 'employee', 'leave', 'company', 'create', 'opportunities', 'onsites', 'try', 'focus', 'much', 'saving', 'money', 'instead', 'increase', 'quality', 'get', 'money', 'fair', 'everyone', 'since', 'everyone', 'works', 'hard', 'get', 'equal', 'opportunities', 'management', 'could', 'better', 'work', 'improving', 'recruitment', 'process', 'mumbai', 'india', 'putting', 'stake', 'company', '’', 'reputation', 'practising', 'unprofessional', 'unacceptable', 'behaviour', 'anything', 'become', 'really', 'big', 'accenture', 'culture', 'indian', 'domestic', 'companies', 'respect', 'individuals', 'help', 'look', 'long', 'time', 'employees', 'take', 'granted', 'exposure', 'technical', 'stuffs', 'increase', 'salary', 'advice', 'management', 'remove', 'hours', 'shift', 'months', 'notice', 'help', 'employees', 'grow', 'increase', 'work', 'force', 'stop', 'old', 'school', 'management', 'good', 'management', 'transparency', 'good', 'management', 'good', 'work', 'life', 'balance', 'keep', 'good', 'work', 'look', 'fun', 'activities', 'employees', 'least', 'try', 'give', 'goodies', 'year', 'take', 'instant', 'decision', 'firing', 'good', 'peoplemake', 'hr', 'policies', 'clear', 'entry', 'level', 'resources', 'workloads', 'sometimes', 'stress', 'happens', 'remove', 'new', 'performance', 'appraisal', 'system', 'particular', 'advice', 'great', 'folks', 'management', 'full', 'politics', 'give', 'promotions', 'improve', 'consider', 'market', 'correction', 'loyal', 'employeemake', 'onsite', 'opportunities', 'transparent', 'set', 'systems', 'get', 'unfiltered', 'information', 'grass', 'root', 'level', 'best', 'managment', 'get', 'biased', 'appraisal', 'time', 'increase', 'salary', 'per', 'contribution', 'regular', 'scale', 'basis', 'great', 'keep', '’', 'want', 'give', 'advice', 'going', 'change', 'stop', 'recruiting', 'people', 'like', 'cattles', 'keep', 'good', 'work', 'company', 'allow', 'employees', 'take', 'subjects', 'technologies', 'interest', 'evaluate', 'candidates', 'assigning', 'particular', 'stream', 'candidate', 'trainings', 'new', 'technologies', 'advice', 'monitor', 'hr', 'department', 'good', 'join', 'experianced', 'give', 'extra', 'hope', 'employees', 'conduct', 'interviews', 'even', 'operations', 'back', 'ground', 'also', 'start', 'taking', 'inputs', 'employees', 'process', 'transparent', 'introduce', 'new', 'technical', 'skills', 'performance', 'senior', 'resources', 'validated', 'effective', 'way', 'employee', 'friendly', 'polices', 'ch', 'give', 'support', 'improve', 'work', 'relation', 'ship', 'treat', 'every', 'employee', 'integral', 'part', 'growth', 'policies', 'employee', 'friendly', 'always', 'profit', 'oriented', 'pay', 'good', 'management', 'increase', 'hike', 'employees', 'dont', 'switch', 'another', 'organization', 'keep', 'rocking', 'provide', 'long', 'term', 'onsite', 'opportunities', 'well', 'already', 'great', 'job', 'let', 'continue', 'strike', 'balance', 'employee', 'management', 'work', 'simplifying', 'various', 'ithrhelpdesk', 'processesthere', 'many', 'portals', 'get', 'things', 'done', 'difficult', 'remember', 'try', 'integrate', 'everything', 'one', 'placeportal', 'accenture', 'name', 'stands', 'best', 'managements', 'ijp', 'program', 'recruitment', 'process', 'infected', 'bugs', 'visit', 'address', 'going', 'loose', 'precious', 'manpower', 'though', 'care', 'good', 'management', 'quick', 'feedback', 'loop', 'quick', 'anymore', 'fail', 'fast', 'mess', 'creators', 'giving', 'advice', 'going', 'help', 'gptw', 'accenture', 'great', 'place', 'work', 'morals', 'first', 'advice', 'hire', 'better', 'att', 'mid', 'level', 'adopt', 'form', 'advice', 'needed', 'company', 'best', 'except', 'crappy', 'people', 'well', 'point', 'anything', 'fair', 'reasonable', 'think', 'resources', 'first', 'satisfying', 'every', 'wish', 'client', 'buttery', 'management', 'politics', 'advice', 'try', 'build', 'technical', 'expertise', 'employees', 'want', 'high', 'performance', 'delivered', 'fire', 'male', 'employees', 'provide', 'keep', 'female', 'employees', 'show', 'world', 'accenture', 'supporting', 'women', 'empowermentwhat', 'statement', 'male', 'female', 'employees', 'weak', 'kicked', 'strong', 'prevail', 'points', 'say', 'management', 'ethics', 'compliance', 'book', 'practice', 'look', 'whether', 'really', 'implemented', 'ground', 'change', 'employer', 'rewarding', 'process', 'pls', 'see', 'ground', 'level', 'happening', 'creating', 'many', 'new', 'policies', 'affect', 'followed', 'ground', 'level', 'talk', 'individual', 'teams', 'via', 'mails', 'pay', 'change', 'leadership', 'ones', 'stopping', 'accenture', 'prospering', 'posh', 'girls', 'going', 'right', 'direction', 'yrs', 'infosys', 'think', 'twice', 'acquire', 'repeat', 'mistake', 'acquiring', 'time', '•', 'stop', 'internal', 'politics•', 'think', 'resources•', 'think', 'many', 'people', 'leaving', 'accenture', 'understand', 'retain', 'keep', 'good', 'work', 'management', 'goodbut', 'always', 'need', 'improvment', 'extend', 'training', 'period', 'reward', 'recognise', 'dedicated', 'high', 'performers', 'continue', 'keep', 'momentum', 'empower', 'people', 'decisionsstrategic', 'planning', 'focus', 'solutionsembrace', 'self', 'interestforget', 'skills', 'hiring', 'things', 'well', 'defined', 'followed', 'disastrous', 'well', 'people', 'organization', 'simplify', 'reporting', 'applicable', 'start', 'keeping', 'track', 'middle', 'management', 'spoiling', 'brand', 'name', 'things', 'give', 'location', 'asked', 'cheers', 'thank', 'support', 'increase', 'salary', 'freshers', 'suffer', 'health', 'issues', 'hr', 'understand', 'concerns', 'try', 'find', 'way', 'better', 'organisation', 'employee', 'welldont', 'employees', 'feel', 'underpaid', 'even', 'working', 'like', 'slaves', 'need', 'employee', 'location', 'hire', 'employee', 'wise', 'dont', 'hire', 'hiring', 'dont', 'pressure', 'na', 'better', 'onsite', 'opportunitiesgood', 'work', 'life', 'balance', 'management', 'also', 'bad', 'keep', 'employees', 'involved', 'knowing', 'going', 'happen', 'taking', 'good', 'care', 'employees', 'keep', 'continuing', 'good', 'work', 'assign', 'people', 'according', 'interst', 'management', 'concerned', 'numbers', 'attached', 'ground', 'reality', 'resources', 'working', 'companyproject', 'management', 'think', 'employees', 'well', 'cases', 'money', 'everything', 'learning', 'job', 'satisfaction', 'taken', 'consideration', 'treat', 'employer', 'equally', 'irrespective', 'educational', 'background', 'need', 'improve', 'pay', 'scales', 'identify', 'resources', 'ability', 'provide', 'opportunities', 'work', 'passionate', 'domain', 'transparent', 'improvise', 'transport', 'system', 'nothin', 'keep', 'stop', 'exploitation', 'employee', 'try', 'help', 'employees', 'increase', 'productivity', 'giving', 'technology', 'choice', 'identify', 'talent', 'employers', 'rewards', 'appreciate', 'resource', 'according', 'work', 'contribution', 'project', 'person', 'like', 'due', 'state', 'community', 'shuffle', 'floor', 'team', 'leaders', 'improve', 'pip', 'process', 'stop', 'forcing', 'people', 'resign', 'preferences', 'employees', 'taken', 'consideration', 'skills', 'employee', 'put', 'best', 'use', 'often', 'seen', 'employees', 'one', 'skill', 'set', 'working', 'technology', 'simply', 'means', 'training', 'initially', 'provided', 'joining', 'use', 'good', 'management', 'give', 'advice', 'currently', 'whoever', 'managing', 'looks', 'something', 'wrong', 'reduce', 'notice', 'period', 'months', 'pay', 'take', 'reviews', 'subordinates', 'lead', 'need', 'improve', 'work', 'life', 'balace', 'also', 'management', 'consider', 'employee', 'interest', 'dragging', 'project', 'reduce', 'work', 'hours', 'value', 'employees', 'performance', 'reviews', 'transparent', 'advice', 'management', 'qualified', 'professionals', 'management', 'engaged', 'associates', 'peoples', 'company', 'grt', 'work', 'life', 'balance', 'missing', 'without', 'recognition', 'heavy', 'pressure', 'accenture', 'years', 'chennai', 'healthcare', 'process', 'absorb', 'teams', 'members', 'healthcare', 'process', 'feeling', 'heavy', 'pressure', 'management', 'team', 'interms', 'production', 'fix', 'targets', 'client', 'requirements', 'hours', 'work', 'complete', 'nite', 'shift', 'difficult', 'due', 'family', 'suchivation', 'forced', 'work', 'another', 'option', 'payment', 'per', 'market', 'standards', 'accenture', 'reputation', 'one', 'best', 'places', 'employees', 'dont', 'ruin', 'provide', 'good', 'salary', 'employees', 'per', 'marketcreate', 'environment', 'work', 'stipulated', 'working', 'hours', 'say', 'provide', 'benefits', 'employees', 'motivate', 'work', 'better', 'flexibilities', 'employees', 'choose', 'type', 'work', 'based', 'person', 'strengths', 'weakness', 'harsh', 'newcomers', 'keep', 'good', 'work', 'good', 'management', 'interactive', 'resources', 'hr', 'team', 'interactive', 'new', 'performance', 'system', 'old', 'product', 'new', 'package', 'pain', 'force', 'fitting', 'bottom', 'grade', 'really', 'change', 'better', 'company', 'accenture', 'dont', 'give', 'false', 'commitment', 'help', 'employee', 'use', 'sabattical', 'wisely', 'dont', 'discard', 'completely', 'people', 'attached', 'companies', 'culture', 'requires', 'change', 'keep', 'good', 'work', 'good', 'company', 'good', 'job', 'improvements', 'required', 'performance', 'appraisal', 'system', 'focus', 'employees', 'interest', 'instead', 'pulling', 'carrers', 'think', 'ever', 'consider', 'stop', 'bringing', 'stringent', 'rules', 'name', 'budget', 'think', 'technologies', 'yearly', 'hike', 'hire', 'people', 'based', 'communication', 'changed', 'employee', 'giving', 'hisher', 'best', 'think', 'growth', 'well', 'cost', 'cutting', 'give', 'little', 'space', 'employees', 'return', 'helps', 'organisation', 'try', 'improve', 'internal', 'strategies', 'could', 'bring', 'benefits', 'employees', 'always', 'look', 'forward', 'project', 'leads', 'managers', 'means', 'giving', 'right', 'compensation', 'liable', 'employee', 'also', 'discuss', 'employees', 'happy', 'special', 'hire', 'best', 'product', 'fire', 'based', 'person', 'rating', 'try', 'keep', 'transparency', 'lower', 'level', 'employees', 'rate', 'employee', 'based', 'true', 'performance', 'cost', 'cutting', 'fine', 'employee', 'happiness', 'primary', 'focus', 'needs', 'better', 'management', 'improved', 'salary', 'lower', 'career', 'levels', 'less', 'working', 'hour', 'employee', 'centric', 'goals', 'try', 'change', 'work', 'culture', 'existed', 'years', 'management', 'need', 'empower', 'employees', 'treat', 'slaves', 'skip', 'level', 'meetings', 'rare', 'need', 'work', 'processes', 'burden', 'employees', 'proper', 'management', 'guidelines', 'seniordelivery', 'managers', 'made', 'god', 'final', 'authority', 'send', 'jobs', 'related', 'video', 'conference', 'learn', 'management', 'structure', 'skills', 'according', 'educational', 'backgroundtransparency', 'management', 'needed', 'management', 'never', 'listen', 'advises', 'policies', 'keep', 'read', 'cons', 'provide', 'solution', 'future', 'educate', 'leads', 'manager', 'new', 'appraisal', 'policyperformance', 'achievement', 'increase', 'facilities', 'provided', 'employee', 'health', 'benefits', 'increased', 'lower', 'level', 'employees', 'encourage', 'freshers', 'learning', 'people', 'assets', 'liabilities', 'unnecessary', 'work', 'pressure', 'degrade', 'work', 'life', 'balance', 'hire', 'skill', 'person', 'good', 'like', 'programmming', 'sql', 'dont', 'throw', 'person', 'different', 'things', 'heshe', 'doesnt', 'like', 'sure', 'put', 'system', 'even', 'employees', 'review', 'managers', 'keep', 'great', 'work', 'keep', 'good', 'work', 'value', 'talent', 'creating', 'lobby', 'playing', 'politics', 'name', 'moderation', 'talent', 'discussion', 'continue', 'difficult', 'find', 'growth', 'future', 'management', 'people', 'unemployable', 'elsewhere', 'dont', 'enough', 'projects', 'accomodate', 'stop', 'recruiting', 'people', 'bulk', 'stop', 'harrassing', 'hire', 'employees', 'enough', 'requirement', 'put', 'much', 'stress', 'employee', 'web', 'apps', 'including', 'publishing', 'maintenance', 'na', 'dear', 'managementyour', 'speeches', 'town', 'halls', 'boring', 'people', 'attend', 'forced', 'managers', 'notice', 'period', 'month', 'thinking', 'betterment', 'employee', 'work', 'force', 'operations', 'level', 'hire', 'allocate', 'people', 'projects', 'increase', 'hike', 'percentage', 'employees', 'keep', 'revamping', 'leaders', 'change', 'process', 'moderation', 'must', 'good', 'system', 'corrupted', 'corporate', 'environment', 'advice', 'guys', 'else', 'stack', 'already', 'guys', 'playing', 'lot', 'lives', 'careers', 'internal', 'hiring', 'useless', 'worthless', 'people', 'blindly', 'believe', 'managers', 'always', 'focus', 'meeting', 'worklife', 'balance', 'well', 'upper', 'management', 'speak', 'good', 'employees', 'management', 'us', 'gud', 'requires', 'fair', 'policy', 'higher', 'level', 'consider', 'cost', 'leaving', 'try', 'give', 'minimum', 'salaries', 'freshers', 'difference', 'salary', 'wages', 'stop', 'politics', 'accenture', 'policies', 'available', 'reason', 'sure', 'followed', 'even', 'lowest', 'level', 'kindly', 'maintain', 'salary', 'equivalence', 'prevent', 'employee', 'dissatisfaction', 'hr', 'worst', 'hereno', 'update', 'given', 'time', 'resources', 'try', 'good', 'quality', 'projects', 'treat', 'employees', 'like', 'humans', 'cut', 'short', 'bus', 'routes', 'treat', 'associateanalystsnew', 'associate', 'properly', 'employee', 'get', 'close', 'manager', 'apprised', 'quickly', 'treat', 'employees', 'equal', 'recommended', 'friendly', 'implement', 'processes', 'studies', 'thoroughly', 'end', 'tweaking', 'large', 'extent', 'implementing', 'accounts', 'puts', 'projects', 'trouble', 'end', 'manipulating', 'good', 'company', 'well', 'employees', 'let', 'best', 'grow', 'like', 'best', 'close', 'monitor', 'rely', 'managers', 'get', 'suvery', 'among', 'employees', 'managers', 'biased', 'politics', 'morons', 'best', 'politicians', 'available', 'india', 'keep', 'good', 'work', 'keep', 'rocking', 'concentrate', 'resources', 'needs', 'dont', 'work', 'documentations', 'listen', 'employees', 'change', 'approach', 'towards', 'performance', 'process', 'management', 'provide', 'better', 'work', 'employees', 'future', 'depends', 'present', 'company', 'transparent', 'employee', 'go', 'ahead', 'proceeding', 'keep', 'long', 'term', 'investment', 'client', 'delivery', 'check', 'employee', 'also', 'work', 'skill', 'interested', 'fresher', 'joinee', 'try', 'maintain', 'normalization', 'across', 'company', 'required', 'get', 'leadership', 'look', 'forward', 'work', 'office', 'timings', 'lesscasual', 'attire', 'adopted', 'try', 'improve', 'competitiveness', 'salaries', 'take', 'care', 'employees', 'hire', 'iim', 'grads', 'need', 'difficult', 'work', 'done', 'take', 'care', 'growth', 'individuals', 'higher', 'experiences', 'pip', 'transparent', 'try', 'understand', 'main', 'reason', 'behind', 'performance', 'reason', 'everytime', 'politcs', 'also', 'ine', 'main', 'reason', 'work', 'cons', 'part', 'stated', 'world', 'stop', 'accenture', 'becoming', 'best', 'employer', 'aspects', 'consider', 'people', 'selected', 'campus', 'drives', 'else', 'could', 'select', 'needy', 'amount', 'people', 'else', 'send', 'regret', 'mail', 'asap', 'look', 'job', 'opportunity', 'keep', 'people', 'desire', 'skilled', 'projects', 'rather', 'killing', 'people', 'skill', 'project', 'consideration', 'skill', 'performance', 'achievement', 'farce', 'given', 'power', 'sm', 'vent', 'frustrationgrudges', 'people', 'dont', 'like', 'shower', 'money', 'good', 'books', 'take', 'care', 'employees', 'start', 'running', 'need', 'improve', 'work', 'life', 'balance', 'keep', 'good', 'work', 'awesome', 'keep', 'good', 'work', 'friendly', 'dont', 'level', 'relocate', 'towns', 'willing', 'toeducate', 'hrs', 'position', 'called', 'level', 'scrap', 'exam', 'policy', 'level', 'promotion', 'anyways', 'giving', 'level', 'allow', 'training', 'itp', 'classroom', 'trainingallow', 'bench', 'bench', 'transfer', 'align', 'talents', 'expected', 'work', 'excellent', 'company', 'good', 'job', 'reward', 'work', 'contributions', 'perception']\n"
     ]
    }
   ],
   "source": [
    "print(filtered_adv_words)"
   ]
  },
  {
   "cell_type": "code",
   "execution_count": 98,
   "metadata": {
    "collapsed": true
   },
   "outputs": [],
   "source": [
    "import collections\n",
    "#from collections import OrderedDict\n",
    "from operator import itemgetter\n",
    "import nltk"
   ]
  },
  {
   "cell_type": "code",
   "execution_count": 106,
   "metadata": {
    "collapsed": true
   },
   "outputs": [],
   "source": [
    "pos_unigrams = collections.Counter(nltk.ngrams(filtered_pos_words,1))\n",
    "pos_bigrams = collections.Counter(nltk.ngrams(filtered_pos_words,2))\n",
    "pos_trigrams = collections.Counter(nltk.ngrams(filtered_pos_words,3))"
   ]
  },
  {
   "cell_type": "code",
   "execution_count": 259,
   "metadata": {},
   "outputs": [],
   "source": [
    "sorted_pos_unigrams = sorted(pos_unigrams.items(), key=itemgetter(1),reverse=True)\n",
    "sorted_pos_bigrams = sorted(pos_bigrams.items(), key=itemgetter(1), reverse=True)\n",
    "sorted_pos_trigrams = sorted(pos_trigrams.items(), key=itemgetter(1), reverse=True)\n"
   ]
  },
  {
   "cell_type": "code",
   "execution_count": 262,
   "metadata": {},
   "outputs": [],
   "source": [
    "#print(sorted_pos_unigrams)"
   ]
  },
  {
   "cell_type": "code",
   "execution_count": 112,
   "metadata": {
    "collapsed": true
   },
   "outputs": [],
   "source": [
    "con_unigrams = collections.Counter(nltk.ngrams(filtered_con_words,1))\n",
    "con_bigrams = collections.Counter(nltk.ngrams(filtered_con_words,2))\n",
    "con_trigrams = collections.Counter(nltk.ngrams(filtered_con_words,3))"
   ]
  },
  {
   "cell_type": "code",
   "execution_count": 263,
   "metadata": {},
   "outputs": [],
   "source": [
    "sorted_con_unigrams = sorted(con_unigrams.items(), key=itemgetter(1),reverse=True)\n",
    "sorted_con_bigrams = sorted(con_bigrams.items(), key=itemgetter(1), reverse=True)\n",
    "sorted_con_trigrams = sorted(con_trigrams.items(), key=itemgetter(1), reverse=True)\n"
   ]
  },
  {
   "cell_type": "code",
   "execution_count": 265,
   "metadata": {},
   "outputs": [],
   "source": [
    "#print(sorted_con_trigrams)"
   ]
  },
  {
   "cell_type": "code",
   "execution_count": 117,
   "metadata": {
    "collapsed": true
   },
   "outputs": [],
   "source": [
    "adv_unigrams = collections.Counter(nltk.ngrams(filtered_adv_words,1))\n",
    "adv_bigrams = collections.Counter(nltk.ngrams(filtered_adv_words,2))\n",
    "adv_trigrams = collections.Counter(nltk.ngrams(filtered_adv_words,3))"
   ]
  },
  {
   "cell_type": "code",
   "execution_count": 266,
   "metadata": {
    "collapsed": true
   },
   "outputs": [],
   "source": [
    "sorted_adv_unigrams = sorted(adv_unigrams.items(), key=itemgetter(1),reverse=True)\n",
    "sorted_adv_bigrams = sorted(adv_bigrams.items(), key=itemgetter(1), reverse=True)\n",
    "sorted_adv_trigrams = sorted(adv_trigrams.items(), key=itemgetter(1), reverse=True)\n"
   ]
  },
  {
   "cell_type": "code",
   "execution_count": 269,
   "metadata": {},
   "outputs": [],
   "source": [
    "#print(sorted_adv_unigrams)"
   ]
  },
  {
   "cell_type": "code",
   "execution_count": 270,
   "metadata": {},
   "outputs": [],
   "source": [
    "#from nltk.collocations import BigramAssocMeasures, BigramCollocationFinder"
   ]
  },
  {
   "cell_type": "code",
   "execution_count": 271,
   "metadata": {
    "collapsed": true
   },
   "outputs": [],
   "source": [
    "#finder = BigramCollocationFinder.from_words(filtered_pos_words)\n",
    "#bigram_measures = BigramAssocMeasures()\n",
    "#scored = finder.score_ngrams(bigram_measures.raw_freq)"
   ]
  },
  {
   "cell_type": "code",
   "execution_count": 272,
   "metadata": {},
   "outputs": [],
   "source": [
    "#scoredList = sorted(adv_bigrams.items(), key=itemgetter(1), reverse=True)"
   ]
  },
  {
   "cell_type": "code",
   "execution_count": 273,
   "metadata": {},
   "outputs": [],
   "source": [
    "#print(scoredList)"
   ]
  },
  {
   "cell_type": "code",
   "execution_count": 274,
   "metadata": {},
   "outputs": [],
   "source": [
    "#len(scoredList)"
   ]
  },
  {
   "cell_type": "code",
   "execution_count": 295,
   "metadata": {},
   "outputs": [],
   "source": [
    "pos_uni_dict = {}\n",
    " \n",
    "#listlen = len(scoredList)\n",
    " \n",
    "# Get the bigram and make a contiguous string for the dictionary key. \n",
    "# Set the key to the scored value. \n",
    "#for i in scoredList:\n",
    "for i in range(len(sorted_pos_unigrams)):\n",
    "    pos_uni_dict[''.join(sorted_pos_unigrams[i][0])] = sorted_pos_unigrams[i][1]\n",
    "    \n",
    "    \n",
    "pos_bi_dict = {}\n",
    "\n",
    "for i in range(len(sorted_pos_bigrams)):\n",
    "    pos_bi_dict[''.join(sorted_pos_bigrams[i][0])] = sorted_pos_bigrams[i][1]\n",
    "    \n",
    "\n",
    "    \n"
   ]
  },
  {
   "cell_type": "code",
   "execution_count": 296,
   "metadata": {
    "collapsed": true
   },
   "outputs": [],
   "source": [
    "con_uni_dict = {}\n",
    " \n",
    "#listlen = len(scoredList)\n",
    " \n",
    "# Get the bigram and make a contiguous string for the dictionary key. \n",
    "# Set the key to the scored value. \n",
    "#for i in scoredList:\n",
    "for i in range(len(sorted_con_unigrams)):\n",
    "    con_uni_dict[''.join(sorted_con_unigrams[i][0])] = sorted_con_unigrams[i][1]\n",
    "    \n",
    "    \n",
    "con_bi_dict = {}\n",
    "\n",
    "for i in range(len(sorted_con_bigrams)):\n",
    "    con_bi_dict[''.join(sorted_con_bigrams[i][0])] = sorted_con_bigrams[i][1]\n",
    "    \n",
    "\n",
    "    \n"
   ]
  },
  {
   "cell_type": "code",
   "execution_count": 298,
   "metadata": {
    "collapsed": true
   },
   "outputs": [],
   "source": [
    "adv_uni_dict = {}\n",
    " \n",
    "#listlen = len(scoredList)\n",
    " \n",
    "# Get the bigram and make a contiguous string for the dictionary key. \n",
    "# Set the key to the scored value. \n",
    "#for i in scoredList:\n",
    "for i in range(len(sorted_adv_unigrams)):\n",
    "    adv_uni_dict[''.join(sorted_adv_unigrams[i][0])] = sorted_adv_unigrams[i][1]\n",
    "    \n",
    "    \n",
    "adv_bi_dict = {}\n",
    "\n",
    "for i in range(len(sorted_adv_bigrams)):\n",
    "    adv_bi_dict[''.join(sorted_adv_bigrams[i][0])] = sorted_adv_bigrams[i][1]\n",
    "    \n",
    "\n",
    "    \n"
   ]
  },
  {
   "cell_type": "code",
   "execution_count": 337,
   "metadata": {
    "collapsed": true
   },
   "outputs": [],
   "source": [
    "from wordcloud import WordCloud"
   ]
  },
  {
   "cell_type": "code",
   "execution_count": 153,
   "metadata": {
    "collapsed": true
   },
   "outputs": [],
   "source": [
    "import matplotlib.pyplot as plt"
   ]
  },
  {
   "cell_type": "code",
   "execution_count": 329,
   "metadata": {},
   "outputs": [],
   "source": [
    "wordCloud = WordCloud(max_words=30, height=1000, width=1500, background_color='white') "
   ]
  },
  {
   "cell_type": "code",
   "execution_count": 334,
   "metadata": {},
   "outputs": [
    {
     "data": {
      "text/plain": [
       "<wordcloud.wordcloud.WordCloud at 0x20484961240>"
      ]
     },
     "execution_count": 334,
     "metadata": {},
     "output_type": "execute_result"
    }
   ],
   "source": [
    "poswc_unigrams = wordCloud.generate_from_frequencies(pos_uni_dict)\n",
    "poswc_unigrams.to_file('poswc_unigrams.png')\n",
    "conwc_unigrams = wordCloud.generate_from_frequencies(con_uni_dict)\n",
    "conwc_unigrams.to_file('conwc_unigrams.png')\n",
    "advwc_unigrams = wordCloud.generate_from_frequencies(adv_uni_dict)\n",
    "advwc_unigrams.to_file('advwc_unigrams.png')\n",
    "poswc_bigrams = wordCloud.generate_from_frequencies(pos_bi_dict)\n",
    "poswc_bigrams.to_file('poswc_bigrams.png')\n",
    "conwc_bigrams = wordCloud.generate_from_frequencies(con_bi_dict)\n",
    "conwc_bigrams.to_file('conwc_bigrams.png')\n",
    "advwc_bigrams = wordCloud.generate_from_frequencies(adv_bi_dict)\n",
    "advwc_bigrams.to_file('advwc_bigrams.png')\n",
    " \n",
    "#plt.title('Most frequently occurring bigrams connected with an underscore_')\n",
    "#plt.imshow(wordCloud, interpolation='bilinear')\n",
    "#plt.axis(\"off\")\n",
    "#plt.show()\n"
   ]
  },
  {
   "cell_type": "code",
   "execution_count": 335,
   "metadata": {},
   "outputs": [],
   "source": [
    "#wordCloud.to_file(\"WordCloud_Bigrams_frequent_words.png\")"
   ]
  },
  {
   "cell_type": "code",
   "execution_count": null,
   "metadata": {
    "collapsed": true
   },
   "outputs": [],
   "source": []
  },
  {
   "cell_type": "code",
   "execution_count": 244,
   "metadata": {
    "collapsed": true
   },
   "outputs": [],
   "source": [
    "#from PIL import Image"
   ]
  },
  {
   "cell_type": "code",
   "execution_count": 245,
   "metadata": {
    "collapsed": true
   },
   "outputs": [],
   "source": [
    "#import numpy as np"
   ]
  },
  {
   "cell_type": "code",
   "execution_count": 246,
   "metadata": {},
   "outputs": [],
   "source": [
    "#import requests\n",
    "#from io import BytesIO"
   ]
  },
  {
   "cell_type": "code",
   "execution_count": 346,
   "metadata": {
    "collapsed": true
   },
   "outputs": [],
   "source": [
    "response = requests.get('https://www.cbronline.com/wp-content/uploads/2016/07/what-is-accenture.jpg')"
   ]
  },
  {
   "cell_type": "code",
   "execution_count": 357,
   "metadata": {},
   "outputs": [],
   "source": [
    "image = Image.open(BytesIO(response.content))\n",
    "#convert colored images to greyscale in order for wordcloud\n",
    "image = image.convert('L')\n",
    "image.mode = 'L'\n",
    "image = image.point(lambda x:0 if x<128 else 255)\n",
    "#image.save('accenture.png')"
   ]
  },
  {
   "cell_type": "code",
   "execution_count": 358,
   "metadata": {
    "collapsed": true
   },
   "outputs": [],
   "source": [
    "masking = np.array(image)\n"
   ]
  },
  {
   "cell_type": "code",
   "execution_count": 359,
   "metadata": {},
   "outputs": [],
   "source": [
    "wordcloud = WordCloud(background_color='white',max_words=30,mask= masking, random_state=42).generate_from_frequencies(pos_bi_dict)"
   ]
  },
  {
   "cell_type": "code",
   "execution_count": 360,
   "metadata": {},
   "outputs": [
    {
     "data": {
      "image/png": "[encoded data removed]",
      "text/plain": [
       "<matplotlib.figure.Figure at 0x20483162b38>"
      ]
     },
     "metadata": {},
     "output_type": "display_data"
    }
   ],
   "source": [
    "plt.title('Most frequently occurring bigrams in Accenture log shape \\n')\n",
    "plt.imshow(wordcloud, interpolation='bilinear')\n",
    "plt.axis(\"off\")\n",
    "plt.show()\n",
    "\n",
    "\n",
    " "
   ]
  },
  {
   "cell_type": "code",
   "execution_count": 352,
   "metadata": {},
   "outputs": [
    {
     "data": {
      "text/plain": [
       "<wordcloud.wordcloud.WordCloud at 0x20484702860>"
      ]
     },
     "execution_count": 352,
     "metadata": {},
     "output_type": "execute_result"
    }
   ],
   "source": [
    "wordcloud.to_file('sampleAccentureshape.png')"
   ]
  },
  {
   "cell_type": "code",
   "execution_count": null,
   "metadata": {
    "collapsed": true
   },
   "outputs": [],
   "source": []
  }
 ],
 "metadata": {
  "kernelspec": {
   "display_name": "Python 3",
   "language": "python",
   "name": "python3"
  },
  "language_info": {
   "codemirror_mode": {
    "name": "ipython",
    "version": 3
   },
   "file_extension": ".py",
   "mimetype": "text/x-python",
   "name": "python",
   "nbconvert_exporter": "python",
   "pygments_lexer": "ipython3",
   "version": "3.6.3"
  }
 },
 "nbformat": 4,
 "nbformat_minor": 2
}
